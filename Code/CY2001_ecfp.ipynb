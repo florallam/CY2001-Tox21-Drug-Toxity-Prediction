{
 "cells": [
  {
   "cell_type": "code",
   "execution_count": 1,
   "metadata": {},
   "outputs": [
    {
     "name": "stdout",
     "output_type": "stream",
     "text": [
      "2.2.0\n",
      "Num GPUs Available:  1\n",
      "Executing op MatMul in device /job:localhost/replica:0/task:0/device:GPU:0\n",
      "tf.Tensor(\n",
      "[[22. 28.]\n",
      " [49. 64.]], shape=(2, 2), dtype=float32)\n"
     ]
    }
   ],
   "source": [
    "#gpu stuff and testing\n",
    "import os\n",
    "os.environ[\"CUDA_DEVICE_ORDER\"]= \"PCI_BUS_ID\"\n",
    "os.environ[\"CUDA_VISIBLE_DEVICES\"]= \"0\"\n",
    "##############################################\n",
    "import tensorflow as tf\n",
    "print(tf.__version__)\n",
    "print(\"Num GPUs Available: \", len(tf.config.experimental.list_physical_devices('GPU')))\n",
    "##############################################\n",
    "tf.debugging.set_log_device_placement(True)\n",
    "\n",
    "# Create some tensors\n",
    "a = tf.constant([[1.0, 2.0, 3.0], [4.0, 5.0, 6.0]])\n",
    "b = tf.constant([[1.0, 2.0], [3.0, 4.0], [5.0, 6.0]])\n",
    "c = tf.matmul(a, b)\n",
    "\n",
    "print(c)"
   ]
  },
  {
   "cell_type": "code",
   "execution_count": 2,
   "metadata": {},
   "outputs": [],
   "source": [
    "import pandas as pd\n",
    "import numpy as np"
   ]
  },
  {
   "cell_type": "markdown",
   "metadata": {},
   "source": [
    "# Getting to business!"
   ]
  },
  {
   "cell_type": "markdown",
   "metadata": {},
   "source": [
    "## Neural Network"
   ]
  },
  {
   "cell_type": "markdown",
   "metadata": {},
   "source": [
    "### ECFP/Morgan"
   ]
  },
  {
   "cell_type": "code",
   "execution_count": 4,
   "metadata": {},
   "outputs": [],
   "source": [
    "#reshape morgan data\n",
    "Xm= pd.read_csv('../Data/morgancolumns.csv')\n",
    "file= pd.read_csv('../Data/tox21mice_duplicate.csv')\n",
    "y=file[['SR-HSE', 'NR-AR','SR-ARE', 'NR-Aromatase', 'NR-ER-LBD', 'NR-AhR', 'SR-MMP', 'NR-ER','NR-PPAR-gamma', 'SR-p53', 'SR-ATAD5', 'NR-AR-LBD']]\n",
    "\n",
    "#splitting into train and test data\n",
    "from sklearn.model_selection import train_test_split\n",
    "Xm_train, Xm_test, y_train, y_test = train_test_split(Xm, y, test_size = 0.3, random_state = 21)\n",
    "Xm_train_reshape= Xm_train.astype(\"float32\")\n",
    "Xm_test_reshape= Xm_test.astype(\"float32\")"
   ]
  },
  {
   "cell_type": "code",
   "execution_count": 5,
   "metadata": {},
   "outputs": [
    {
     "data": {
      "text/plain": [
       "8230"
      ]
     },
     "execution_count": 5,
     "metadata": {},
     "output_type": "execute_result"
    }
   ],
   "source": [
    "len(Xm_train)"
   ]
  },
  {
   "cell_type": "code",
   "execution_count": 10,
   "metadata": {},
   "outputs": [
    {
     "name": "stdout",
     "output_type": "stream",
     "text": [
      "Executing op RandomUniform in device /job:localhost/replica:0/task:0/device:CPU:0\n",
      "Executing op Sub in device /job:localhost/replica:0/task:0/device:CPU:0\n",
      "Executing op Mul in device /job:localhost/replica:0/task:0/device:CPU:0\n",
      "Executing op Add in device /job:localhost/replica:0/task:0/device:CPU:0\n",
      "Executing op VarHandleOp in device /job:localhost/replica:0/task:0/device:CPU:0\n",
      "Executing op VarIsInitializedOp in device /job:localhost/replica:0/task:0/device:CPU:0\n",
      "Executing op LogicalNot in device /job:localhost/replica:0/task:0/device:CPU:0\n",
      "Executing op Assert in device /job:localhost/replica:0/task:0/device:CPU:0\n",
      "Executing op AssignVariableOp in device /job:localhost/replica:0/task:0/device:CPU:0\n",
      "Executing op RandomUniform in device /job:localhost/replica:0/task:0/device:GPU:0\n",
      "Executing op Sub in device /job:localhost/replica:0/task:0/device:GPU:0\n",
      "Executing op Mul in device /job:localhost/replica:0/task:0/device:GPU:0\n",
      "Executing op Add in device /job:localhost/replica:0/task:0/device:GPU:0\n",
      "Executing op VarHandleOp in device /job:localhost/replica:0/task:0/device:GPU:0\n",
      "Executing op VarIsInitializedOp in device /job:localhost/replica:0/task:0/device:GPU:0\n",
      "Executing op LogicalNot in device /job:localhost/replica:0/task:0/device:GPU:0\n",
      "Executing op Assert in device /job:localhost/replica:0/task:0/device:GPU:0\n",
      "Executing op AssignVariableOp in device /job:localhost/replica:0/task:0/device:GPU:0\n",
      "Executing op Fill in device /job:localhost/replica:0/task:0/device:GPU:0\n",
      "Executing op VarHandleOp in device /job:localhost/replica:0/task:0/device:GPU:0\n",
      "Executing op VarHandleOp in device /job:localhost/replica:0/task:0/device:GPU:0\n",
      "Executing op VarHandleOp in device /job:localhost/replica:0/task:0/device:GPU:0\n"
     ]
    }
   ],
   "source": [
    "from tensorflow import keras\n",
    "from tensorflow.keras import layers\n",
    "morganmodel = keras.Sequential(\n",
    "    [\n",
    "        layers.Embedding(len(Xm_train),128,name=\"embedding_layer\", input_length= len(Xm.iloc[0])),\n",
    "        layers.Dense(1300, activation=\"relu\"),\n",
    "        #layers.Dense(3, activation=\"relu\"),\n",
    "        layers.Flatten(),\n",
    "        layers.Dropout(0.5),\n",
    "        layers.Dense(12,activation='sigmoid', name=\"Output_layer\"),\n",
    "    ]\n",
    ")"
   ]
  },
  {
   "cell_type": "code",
   "execution_count": 11,
   "metadata": {},
   "outputs": [
    {
     "name": "stdout",
     "output_type": "stream",
     "text": [
      "Model: \"sequential\"\n",
      "_________________________________________________________________\n",
      "Layer (type)                 Output Shape              Param #   \n",
      "=================================================================\n",
      "embedding_layer (Embedding)  (None, 1024, 128)         1053440   \n",
      "_________________________________________________________________\n",
      "dense (Dense)                (None, 1024, 1300)        167700    \n",
      "_________________________________________________________________\n",
      "flatten (Flatten)            (None, 1331200)           0         \n",
      "_________________________________________________________________\n",
      "dropout (Dropout)            (None, 1331200)           0         \n",
      "_________________________________________________________________\n",
      "Output_layer (Dense)         (None, 12)                15974412  \n",
      "=================================================================\n",
      "Total params: 17,195,552\n",
      "Trainable params: 17,195,552\n",
      "Non-trainable params: 0\n",
      "_________________________________________________________________\n",
      "Executing op VarHandleOp in device /job:localhost/replica:0/task:0/device:GPU:0\n",
      "Executing op RangeDataset in device /job:localhost/replica:0/task:0/device:CPU:0\n",
      "Executing op RepeatDataset in device /job:localhost/replica:0/task:0/device:CPU:0\n",
      "Executing op MapDataset in device /job:localhost/replica:0/task:0/device:CPU:0\n",
      "Executing op PrefetchDataset in device /job:localhost/replica:0/task:0/device:CPU:0\n",
      "Executing op FlatMapDataset in device /job:localhost/replica:0/task:0/device:CPU:0\n",
      "Executing op TensorDataset in device /job:localhost/replica:0/task:0/device:CPU:0\n",
      "Executing op RepeatDataset in device /job:localhost/replica:0/task:0/device:CPU:0\n",
      "Executing op ZipDataset in device /job:localhost/replica:0/task:0/device:CPU:0\n",
      "Executing op ParallelMapDataset in device /job:localhost/replica:0/task:0/device:CPU:0\n",
      "Executing op ModelDataset in device /job:localhost/replica:0/task:0/device:CPU:0\n",
      "Executing op AnonymousIteratorV2 in device /job:localhost/replica:0/task:0/device:CPU:0\n",
      "Executing op MakeIterator in device /job:localhost/replica:0/task:0/device:CPU:0\n",
      "Epoch 1/10\n",
      "Executing op Fill in device /job:localhost/replica:0/task:0/device:GPU:0\n",
      "Executing op VarHandleOp in device /job:localhost/replica:0/task:0/device:GPU:0\n",
      "Executing op AssignVariableOp in device /job:localhost/replica:0/task:0/device:GPU:0\n",
      "Executing op VarHandleOp in device /job:localhost/replica:0/task:0/device:GPU:0\n",
      "Executing op VarHandleOp in device /job:localhost/replica:0/task:0/device:GPU:0\n",
      "Executing op VarHandleOp in device /job:localhost/replica:0/task:0/device:GPU:0\n",
      "Executing op VarHandleOp in device /job:localhost/replica:0/task:0/device:GPU:0\n",
      "Executing op VarHandleOp in device /job:localhost/replica:0/task:0/device:CPU:0\n",
      "Executing op VarHandleOp in device /job:localhost/replica:0/task:0/device:GPU:0\n",
      "Executing op LogicalNot in device /job:localhost/replica:0/task:0/device:GPU:0\n",
      "Executing op Assert in device /job:localhost/replica:0/task:0/device:GPU:0\n",
      "Executing op VarHandleOp in device /job:localhost/replica:0/task:0/device:GPU:0\n",
      "Executing op VarHandleOp in device /job:localhost/replica:0/task:0/device:GPU:0\n",
      "Executing op VarHandleOp in device /job:localhost/replica:0/task:0/device:GPU:0\n",
      "Executing op VarHandleOp in device /job:localhost/replica:0/task:0/device:CPU:0\n",
      "Executing op VarHandleOp in device /job:localhost/replica:0/task:0/device:GPU:0\n",
      "Executing op VarHandleOp in device /job:localhost/replica:0/task:0/device:GPU:0\n",
      "Executing op VarHandleOp in device /job:localhost/replica:0/task:0/device:GPU:0\n",
      "Executing op VarHandleOp in device /job:localhost/replica:0/task:0/device:GPU:0\n",
      "Executing op VarHandleOp in device /job:localhost/replica:0/task:0/device:GPU:0\n",
      "Executing op VarHandleOp in device /job:localhost/replica:0/task:0/device:GPU:0\n",
      "Executing op __inference_train_function_950 in device /job:localhost/replica:0/task:0/device:GPU:0\n",
      "Epoch 2/10\n",
      "Epoch 3/10\n",
      "Epoch 4/10\n",
      "Epoch 5/10\n",
      "Epoch 6/10\n",
      "Epoch 7/10\n",
      "Epoch 8/10\n",
      "Epoch 9/10\n",
      "Epoch 10/10\n",
      "Executing op DeleteIterator in device /job:localhost/replica:0/task:0/device:CPU:0\n"
     ]
    },
    {
     "data": {
      "text/plain": [
       "<tensorflow.python.keras.callbacks.History at 0x7effd8779460>"
      ]
     },
     "execution_count": 11,
     "metadata": {},
     "output_type": "execute_result"
    }
   ],
   "source": [
    "morganmodel.summary()\n",
    "\n",
    "#compile and fit the model\n",
    "morganmodel.compile(optimizer='adam', loss='binary_crossentropy', metrics=['accuracy'])\n",
    "\n",
    "#fit to model\n",
    "morganmodel.fit(Xm_train_reshape, y_train, epochs=10, batch_size=48, verbose=0.1)"
   ]
  },
  {
   "cell_type": "code",
   "execution_count": 12,
   "metadata": {},
   "outputs": [
    {
     "name": "stdout",
     "output_type": "stream",
     "text": [
      "Executing op RangeDataset in device /job:localhost/replica:0/task:0/device:CPU:0\n",
      "Executing op RepeatDataset in device /job:localhost/replica:0/task:0/device:CPU:0\n",
      "Executing op MapDataset in device /job:localhost/replica:0/task:0/device:CPU:0\n",
      "Executing op PrefetchDataset in device /job:localhost/replica:0/task:0/device:CPU:0\n",
      "Executing op FlatMapDataset in device /job:localhost/replica:0/task:0/device:CPU:0\n",
      "Executing op TensorDataset in device /job:localhost/replica:0/task:0/device:CPU:0\n",
      "Executing op RepeatDataset in device /job:localhost/replica:0/task:0/device:CPU:0\n",
      "Executing op ZipDataset in device /job:localhost/replica:0/task:0/device:CPU:0\n",
      "Executing op ParallelMapDataset in device /job:localhost/replica:0/task:0/device:CPU:0\n",
      "Executing op ModelDataset in device /job:localhost/replica:0/task:0/device:CPU:0\n",
      "Executing op AnonymousIteratorV2 in device /job:localhost/replica:0/task:0/device:CPU:0\n",
      "Executing op __inference_predict_function_4527 in device /job:localhost/replica:0/task:0/device:GPU:0\n",
      "Executing op ConcatV2 in device /job:localhost/replica:0/task:0/device:GPU:0\n",
      "Executing op Cast in device /job:localhost/replica:0/task:0/device:GPU:0\n",
      "Executing op StridedSlice in device /job:localhost/replica:0/task:0/device:GPU:0\n",
      "Executing op Equal in device /job:localhost/replica:0/task:0/device:GPU:0\n",
      "The accuracy for the training set is:  0.956753746456055\n"
     ]
    }
   ],
   "source": [
    "#using model.predict to do thresholding\n",
    "morganpred = morganmodel.predict(Xm_train_reshape)\n",
    "morganpred= tf.dtypes.cast(morganpred>= 0.5, tf.int64)\n",
    "\n",
    "#for training data\n",
    "count=0\n",
    "for i in range(len(y_train)):\n",
    "    a= (y_train.iloc[i]==morganpred[i])\n",
    "    for j in range(len(a)):\n",
    "        if (y_train.iloc[i][j]==morganpred[i][j]):\n",
    "            count= count+1\n",
    "print(\"The accuracy for the training set is: \",(count)/(len(y_train)*12))"
   ]
  },
  {
   "cell_type": "code",
   "execution_count": 13,
   "metadata": {},
   "outputs": [
    {
     "name": "stdout",
     "output_type": "stream",
     "text": [
      "Executing op RangeDataset in device /job:localhost/replica:0/task:0/device:CPU:0\n",
      "Executing op RepeatDataset in device /job:localhost/replica:0/task:0/device:CPU:0\n",
      "Executing op MapDataset in device /job:localhost/replica:0/task:0/device:CPU:0\n",
      "Executing op PrefetchDataset in device /job:localhost/replica:0/task:0/device:CPU:0\n",
      "Executing op FlatMapDataset in device /job:localhost/replica:0/task:0/device:CPU:0\n",
      "Executing op TensorDataset in device /job:localhost/replica:0/task:0/device:CPU:0\n",
      "Executing op RepeatDataset in device /job:localhost/replica:0/task:0/device:CPU:0\n",
      "Executing op ZipDataset in device /job:localhost/replica:0/task:0/device:CPU:0\n",
      "Executing op ParallelMapDataset in device /job:localhost/replica:0/task:0/device:CPU:0\n",
      "Executing op ModelDataset in device /job:localhost/replica:0/task:0/device:CPU:0\n",
      "Executing op ConcatV2 in device /job:localhost/replica:0/task:0/device:GPU:0\n",
      "The accuracy for test score is:  0.9330120937263794\n"
     ]
    }
   ],
   "source": [
    "morganpredtest= morganmodel.predict(Xm_test_reshape)\n",
    "morganpredtest= tf.dtypes.cast(morganpredtest>= 0.5, tf.int64)\n",
    "count=0\n",
    "for i in range(len(y_test)):\n",
    "    a= (y_test.iloc[i]==morganpredtest[i])\n",
    "    for j in range(len(a)):\n",
    "        if (y_test.iloc[i][j]==morganpredtest[i][j]):\n",
    "            count= count+1\n",
    "print(\"The accuracy for test score is: \", count/(len(y_test)*12))"
   ]
  },
  {
   "cell_type": "code",
   "execution_count": 14,
   "metadata": {},
   "outputs": [
    {
     "name": "stdout",
     "output_type": "stream",
     "text": [
      "Executing op RangeDataset in device /job:localhost/replica:0/task:0/device:CPU:0\n",
      "Executing op RepeatDataset in device /job:localhost/replica:0/task:0/device:CPU:0\n",
      "Executing op MapDataset in device /job:localhost/replica:0/task:0/device:CPU:0\n",
      "Executing op PrefetchDataset in device /job:localhost/replica:0/task:0/device:CPU:0\n",
      "Executing op FlatMapDataset in device /job:localhost/replica:0/task:0/device:CPU:0\n",
      "Executing op TensorDataset in device /job:localhost/replica:0/task:0/device:CPU:0\n",
      "Executing op RepeatDataset in device /job:localhost/replica:0/task:0/device:CPU:0\n",
      "Executing op ZipDataset in device /job:localhost/replica:0/task:0/device:CPU:0\n",
      "Executing op ParallelMapDataset in device /job:localhost/replica:0/task:0/device:CPU:0\n",
      "Executing op ModelDataset in device /job:localhost/replica:0/task:0/device:CPU:0\n",
      "Executing op __inference_test_function_1463115 in device /job:localhost/replica:0/task:0/device:GPU:0\n",
      "28/28 [==============================] - 1s 29ms/step - loss: 0.2363 - accuracy: 0.1542\n"
     ]
    },
    {
     "data": {
      "text/plain": [
       "0.2362748235464096"
      ]
     },
     "execution_count": 14,
     "metadata": {},
     "output_type": "execute_result"
    }
   ],
   "source": [
    "loss, acc= morganmodel.evaluate(Xm_test_reshape, y_test, batch_size=128)\n",
    "loss"
   ]
  },
  {
   "cell_type": "markdown",
   "metadata": {},
   "source": [
    "### Random Forest"
   ]
  },
  {
   "cell_type": "code",
   "execution_count": 15,
   "metadata": {},
   "outputs": [],
   "source": [
    "from sklearn.ensemble import RandomForestClassifier"
   ]
  },
  {
   "cell_type": "code",
   "execution_count": 16,
   "metadata": {},
   "outputs": [
    {
     "name": "stdout",
     "output_type": "stream",
     "text": [
      "The number of wrongly predicted data is:\n",
      " SR-HSE           181\n",
      "NR-AR            126\n",
      "SR-ARE           499\n",
      "NR-Aromatase     212\n",
      "NR-ER-LBD        156\n",
      "NR-AhR           323\n",
      "SR-MMP           400\n",
      "NR-ER            346\n",
      "NR-PPAR-gamma     80\n",
      "SR-p53           221\n",
      "SR-ATAD5          99\n",
      "NR-AR-LBD        116\n",
      "dtype: int64\n",
      "The accuracy of random forest is:\n",
      " SR-HSE           0.948696\n",
      "NR-AR            0.964286\n",
      "SR-ARE           0.858560\n",
      "NR-Aromatase     0.939909\n",
      "NR-ER-LBD        0.955782\n",
      "NR-AhR           0.908447\n",
      "SR-MMP           0.886621\n",
      "NR-ER            0.901927\n",
      "NR-PPAR-gamma    0.977324\n",
      "SR-p53           0.937358\n",
      "SR-ATAD5         0.971939\n",
      "NR-AR-LBD        0.967120\n",
      "dtype: float64\n"
     ]
    }
   ],
   "source": [
    "#X_topo_train, X_topo_test, y_train, y_test = train_test_split(X, y, test_size = 0.3, random_state = 21)\n",
    "classifier = RandomForestClassifier(n_estimators = 100, criterion = 'entropy', random_state = 42)\n",
    "classifier.fit(Xm_train, y_train)\n",
    "predict= classifier.predict(Xm_test)\n",
    "count_misclassified = (y_test != predict).sum()\n",
    "print(\"The number of wrongly predicted data is:\\n\",count_misclassified)\n",
    "rfaccuracy_ecfp= 1-(count_misclassified/len(y_test))\n",
    "print(\"The accuracy of random forest is:\\n\", rfaccuracy_ecfp)"
   ]
  },
  {
   "cell_type": "markdown",
   "metadata": {},
   "source": [
    "### Logistic Regression"
   ]
  },
  {
   "cell_type": "markdown",
   "metadata": {},
   "source": [
    "#### SR-HSE"
   ]
  },
  {
   "cell_type": "code",
   "execution_count": 17,
   "metadata": {},
   "outputs": [
    {
     "name": "stdout",
     "output_type": "stream",
     "text": [
      "The accuracy of the model is: 0.947562358276644\n"
     ]
    }
   ],
   "source": [
    "from sklearn.linear_model import LogisticRegression\n",
    "sr_hse= y_train['SR-HSE']\n",
    "lm = LogisticRegression(multi_class='ovr', solver='liblinear')\n",
    "lm.fit(Xm_train, sr_hse)\n",
    "taccuracy1= lm.score(Xm_test, y_test['SR-HSE'])\n",
    "print(\"The accuracy of the model is:\",taccuracy1)"
   ]
  },
  {
   "cell_type": "markdown",
   "metadata": {},
   "source": [
    "#### NR-AR "
   ]
  },
  {
   "cell_type": "code",
   "execution_count": 18,
   "metadata": {},
   "outputs": [
    {
     "name": "stdout",
     "output_type": "stream",
     "text": [
      "The accuracy of the model is: 0.9671201814058957\n"
     ]
    }
   ],
   "source": [
    "nr_ar= y_train['NR-AR']\n",
    "lm.fit(Xm_train, nr_ar)\n",
    "taccuracy2= lm.score(Xm_test, y_test['NR-AR'])\n",
    "print(\"The accuracy of the model is:\",taccuracy2)"
   ]
  },
  {
   "cell_type": "markdown",
   "metadata": {},
   "source": [
    "#### SR-ARE"
   ]
  },
  {
   "cell_type": "code",
   "execution_count": 19,
   "metadata": {},
   "outputs": [
    {
     "name": "stdout",
     "output_type": "stream",
     "text": [
      "The accuracy of the model is: 0.8460884353741497\n"
     ]
    }
   ],
   "source": [
    "sr_are= y_train['SR-ARE']\n",
    "lm.fit(Xm_train, sr_are)\n",
    "taccuracy3= lm.score(Xm_test, y_test['SR-ARE'])\n",
    "print(\"The accuracy of the model is:\",taccuracy3)"
   ]
  },
  {
   "cell_type": "markdown",
   "metadata": {},
   "source": [
    "#### NR-Aromatase"
   ]
  },
  {
   "cell_type": "code",
   "execution_count": 20,
   "metadata": {},
   "outputs": [
    {
     "name": "stdout",
     "output_type": "stream",
     "text": [
      "The accuracy of the model is: 0.9390589569160998\n"
     ]
    }
   ],
   "source": [
    "nr_aromatase= y_train['NR-Aromatase']\n",
    "lm.fit(Xm_train, nr_aromatase)\n",
    "taccuracy4= lm.score(Xm_test, y_test['NR-Aromatase'])\n",
    "print(\"The accuracy of the model is:\",taccuracy4)"
   ]
  },
  {
   "cell_type": "markdown",
   "metadata": {},
   "source": [
    "#### NR-ER-LBD"
   ]
  },
  {
   "cell_type": "code",
   "execution_count": 21,
   "metadata": {},
   "outputs": [
    {
     "name": "stdout",
     "output_type": "stream",
     "text": [
      "The accuracy of the model is: 0.9589002267573696\n"
     ]
    }
   ],
   "source": [
    "nr_erlbd= y_train['NR-ER-LBD']\n",
    "lm.fit(Xm_train, nr_erlbd)\n",
    "taccuracy5= lm.score(Xm_test, y_test['NR-ER-LBD'])\n",
    "print(\"The accuracy of the model is:\",taccuracy5)"
   ]
  },
  {
   "cell_type": "markdown",
   "metadata": {},
   "source": [
    "#### NR-AhR"
   ]
  },
  {
   "cell_type": "code",
   "execution_count": 22,
   "metadata": {},
   "outputs": [
    {
     "name": "stdout",
     "output_type": "stream",
     "text": [
      "The accuracy of the model is: 0.9061791383219955\n"
     ]
    }
   ],
   "source": [
    "nr_ahr= y_train['NR-AhR']\n",
    "lm.fit(Xm_train, nr_ahr)\n",
    "taccuracy6= lm.score(Xm_test, y_test['NR-AhR'])\n",
    "print(\"The accuracy of the model is:\",taccuracy6)"
   ]
  },
  {
   "cell_type": "markdown",
   "metadata": {},
   "source": [
    "#### SR-MMP"
   ]
  },
  {
   "cell_type": "code",
   "execution_count": 23,
   "metadata": {},
   "outputs": [
    {
     "name": "stdout",
     "output_type": "stream",
     "text": [
      "The accuracy of the model is: 0.88718820861678\n"
     ]
    }
   ],
   "source": [
    "sr_mmp= y_train['SR-MMP']\n",
    "lm.fit(Xm_train, sr_mmp)\n",
    "taccuracy7= lm.score(Xm_test, y_test['SR-MMP'])\n",
    "print(\"The accuracy of the model is:\",taccuracy7)"
   ]
  },
  {
   "cell_type": "markdown",
   "metadata": {},
   "source": [
    "#### NR-ER"
   ]
  },
  {
   "cell_type": "code",
   "execution_count": 24,
   "metadata": {},
   "outputs": [
    {
     "name": "stdout",
     "output_type": "stream",
     "text": [
      "The accuracy of the model is: 0.9030612244897959\n"
     ]
    }
   ],
   "source": [
    "nr_er= y_train['NR-ER']\n",
    "lm.fit(Xm_train, nr_er)\n",
    "taccuracy8= lm.score(Xm_test, y_test['NR-ER'])\n",
    "print(\"The accuracy of the model is:\",taccuracy8)"
   ]
  },
  {
   "cell_type": "markdown",
   "metadata": {},
   "source": [
    "#### NR-PPAR-gamma"
   ]
  },
  {
   "cell_type": "code",
   "execution_count": 25,
   "metadata": {},
   "outputs": [
    {
     "name": "stdout",
     "output_type": "stream",
     "text": [
      "The accuracy of the model is: 0.9753401360544217\n"
     ]
    }
   ],
   "source": [
    "nr_ppar= y_train['NR-PPAR-gamma']\n",
    "lm.fit(Xm_train, nr_ppar)\n",
    "taccuracy9= lm.score(Xm_test, y_test['NR-PPAR-gamma'])\n",
    "print(\"The accuracy of the model is:\",taccuracy9)"
   ]
  },
  {
   "cell_type": "markdown",
   "metadata": {},
   "source": [
    "#### SR-p53"
   ]
  },
  {
   "cell_type": "code",
   "execution_count": 26,
   "metadata": {},
   "outputs": [
    {
     "name": "stdout",
     "output_type": "stream",
     "text": [
      "The accuracy of the model is: 0.9339569160997733\n"
     ]
    }
   ],
   "source": [
    "sr_p53= y_train['SR-p53']\n",
    "lm.fit(Xm_train, sr_p53)\n",
    "taccuracy10= lm.score(Xm_test, y_test['SR-p53'])\n",
    "print(\"The accuracy of the model is:\",taccuracy10)"
   ]
  },
  {
   "cell_type": "markdown",
   "metadata": {},
   "source": [
    "#### SR-ATAD5"
   ]
  },
  {
   "cell_type": "code",
   "execution_count": 27,
   "metadata": {},
   "outputs": [
    {
     "name": "stdout",
     "output_type": "stream",
     "text": [
      "The accuracy of the model is: 0.9705215419501134\n"
     ]
    }
   ],
   "source": [
    "sr_atad5= y_train['SR-ATAD5']\n",
    "lm.fit(Xm_train, sr_atad5)\n",
    "taccuracy11= lm.score(Xm_test, y_test['SR-ATAD5'])\n",
    "print(\"The accuracy of the model is:\",taccuracy11)"
   ]
  },
  {
   "cell_type": "markdown",
   "metadata": {},
   "source": [
    "#### NR-AR-LBD"
   ]
  },
  {
   "cell_type": "code",
   "execution_count": 28,
   "metadata": {},
   "outputs": [
    {
     "name": "stdout",
     "output_type": "stream",
     "text": [
      "The accuracy of the model is: 0.969671201814059\n"
     ]
    }
   ],
   "source": [
    "nr_arlbd= y_train['NR-AR-LBD']\n",
    "lm.fit(Xm_train, nr_arlbd)\n",
    "taccuracy12= lm.score(Xm_test, y_test['NR-AR-LBD'])\n",
    "print(\"The accuracy of the model is:\",taccuracy12)"
   ]
  },
  {
   "cell_type": "markdown",
   "metadata": {},
   "source": [
    "### SVM"
   ]
  },
  {
   "cell_type": "code",
   "execution_count": 29,
   "metadata": {},
   "outputs": [],
   "source": [
    "from sklearn import svm"
   ]
  },
  {
   "cell_type": "markdown",
   "metadata": {},
   "source": [
    "#### SR-HSE"
   ]
  },
  {
   "cell_type": "code",
   "execution_count": 30,
   "metadata": {},
   "outputs": [
    {
     "name": "stdout",
     "output_type": "stream",
     "text": [
      "The accuracy of the model is: 0.9455782312925171\n"
     ]
    }
   ],
   "source": [
    "sr_hse= y_train['SR-HSE']\n",
    "sig = svm.SVC(kernel='sigmoid', C=1, decision_function_shape='ovr')\n",
    "sig.fit(Xm_train, sr_hse)\n",
    "tsaccuracy1= sig.score(Xm_test, y_test['SR-HSE'])\n",
    "print(\"The accuracy of the model is:\",tsaccuracy1)"
   ]
  },
  {
   "cell_type": "markdown",
   "metadata": {},
   "source": [
    "#### NR-AR "
   ]
  },
  {
   "cell_type": "code",
   "execution_count": 31,
   "metadata": {},
   "outputs": [
    {
     "name": "stdout",
     "output_type": "stream",
     "text": [
      "The accuracy of the model is: 0.969954648526077\n"
     ]
    }
   ],
   "source": [
    "nr_ar= y_train['NR-AR']\n",
    "sig.fit(Xm_train, nr_ar)\n",
    "tsaccuracy2= sig.score(Xm_test, y_test['NR-AR'])\n",
    "print(\"The accuracy of the model is:\",tsaccuracy2)"
   ]
  },
  {
   "cell_type": "markdown",
   "metadata": {},
   "source": [
    "#### SR-ARE"
   ]
  },
  {
   "cell_type": "code",
   "execution_count": 32,
   "metadata": {},
   "outputs": [
    {
     "name": "stdout",
     "output_type": "stream",
     "text": [
      "The accuracy of the model is: 0.8398526077097506\n"
     ]
    }
   ],
   "source": [
    "sr_are= y_train['SR-ARE']\n",
    "sig.fit(Xm_train, sr_are)\n",
    "tsaccuracy3= sig.score(Xm_test, y_test['SR-ARE'])\n",
    "print(\"The accuracy of the model is:\",tsaccuracy3)"
   ]
  },
  {
   "cell_type": "markdown",
   "metadata": {},
   "source": [
    "#### NR-Aromatase"
   ]
  },
  {
   "cell_type": "code",
   "execution_count": 33,
   "metadata": {},
   "outputs": [
    {
     "name": "stdout",
     "output_type": "stream",
     "text": [
      "The accuracy of the model is: 0.9390589569160998\n"
     ]
    }
   ],
   "source": [
    "nr_aromatase= y_train['NR-Aromatase']\n",
    "sig.fit(Xm_train, nr_aromatase)\n",
    "tsaccuracy4= sig.score(Xm_test, y_test['NR-Aromatase'])\n",
    "print(\"The accuracy of the model is:\",tsaccuracy4)"
   ]
  },
  {
   "cell_type": "markdown",
   "metadata": {},
   "source": [
    "#### NR-ER-LBD"
   ]
  },
  {
   "cell_type": "code",
   "execution_count": 34,
   "metadata": {},
   "outputs": [
    {
     "name": "stdout",
     "output_type": "stream",
     "text": [
      "The accuracy of the model is: 0.9509637188208617\n"
     ]
    }
   ],
   "source": [
    "nr_erlbd= y_train['NR-ER-LBD']\n",
    "sig.fit(Xm_train, nr_erlbd)\n",
    "tsaccuracy5= sig.score(Xm_test, y_test['NR-ER-LBD'])\n",
    "print(\"The accuracy of the model is:\",tsaccuracy5)"
   ]
  },
  {
   "cell_type": "markdown",
   "metadata": {},
   "source": [
    "#### NR-AhR"
   ]
  },
  {
   "cell_type": "code",
   "execution_count": 35,
   "metadata": {},
   "outputs": [
    {
     "name": "stdout",
     "output_type": "stream",
     "text": [
      "The accuracy of the model is: 0.9007936507936508\n"
     ]
    }
   ],
   "source": [
    "nr_ahr= y_train['NR-AhR']\n",
    "sig.fit(Xm_train, nr_ahr)\n",
    "tsaccuracy6= sig.score(Xm_test, y_test['NR-AhR'])\n",
    "print(\"The accuracy of the model is:\",tsaccuracy6)"
   ]
  },
  {
   "cell_type": "markdown",
   "metadata": {},
   "source": [
    "#### SR-MMP"
   ]
  },
  {
   "cell_type": "code",
   "execution_count": 36,
   "metadata": {},
   "outputs": [
    {
     "name": "stdout",
     "output_type": "stream",
     "text": [
      "The accuracy of the model is: 0.8732993197278912\n"
     ]
    }
   ],
   "source": [
    "sr_mmp= y_train['SR-MMP']\n",
    "sig.fit(Xm_train, sr_mmp)\n",
    "tsaccuracy7= sig.score(Xm_test, y_test['SR-MMP'])\n",
    "print(\"The accuracy of the model is:\",tsaccuracy7)"
   ]
  },
  {
   "cell_type": "markdown",
   "metadata": {},
   "source": [
    "#### NR-ER"
   ]
  },
  {
   "cell_type": "code",
   "execution_count": 37,
   "metadata": {},
   "outputs": [
    {
     "name": "stdout",
     "output_type": "stream",
     "text": [
      "The accuracy of the model is: 0.9024943310657596\n"
     ]
    }
   ],
   "source": [
    "nr_er= y_train['NR-ER']\n",
    "sig.fit(Xm_train, nr_er)\n",
    "tsaccuracy8= sig.score(Xm_test, y_test['NR-ER'])\n",
    "print(\"The accuracy of the model is:\",tsaccuracy8)"
   ]
  },
  {
   "cell_type": "markdown",
   "metadata": {},
   "source": [
    "#### NR-PPAR-gamma"
   ]
  },
  {
   "cell_type": "code",
   "execution_count": 38,
   "metadata": {},
   "outputs": [
    {
     "name": "stdout",
     "output_type": "stream",
     "text": [
      "The accuracy of the model is: 0.9764739229024944\n"
     ]
    }
   ],
   "source": [
    "nr_ppar= y_train['NR-PPAR-gamma']\n",
    "sig.fit(Xm_train, nr_ppar)\n",
    "tsaccuracy9= sig.score(Xm_test, y_test['NR-PPAR-gamma'])\n",
    "print(\"The accuracy of the model is:\",tsaccuracy9)"
   ]
  },
  {
   "cell_type": "markdown",
   "metadata": {},
   "source": [
    "#### SR-p53"
   ]
  },
  {
   "cell_type": "code",
   "execution_count": 39,
   "metadata": {},
   "outputs": [
    {
     "name": "stdout",
     "output_type": "stream",
     "text": [
      "The accuracy of the model is: 0.9362244897959183\n"
     ]
    }
   ],
   "source": [
    "sr_p53= y_train['SR-p53']\n",
    "sig.fit(Xm_train, sr_p53)\n",
    "tsaccuracy10= sig.score(Xm_test, y_test['SR-p53'])\n",
    "print(\"The accuracy of the model is:\",tsaccuracy10)"
   ]
  },
  {
   "cell_type": "markdown",
   "metadata": {},
   "source": [
    "#### SR-ATAD5"
   ]
  },
  {
   "cell_type": "code",
   "execution_count": 40,
   "metadata": {},
   "outputs": [
    {
     "name": "stdout",
     "output_type": "stream",
     "text": [
      "The accuracy of the model is: 0.9682539682539683\n"
     ]
    }
   ],
   "source": [
    "sr_atad5= y_train['SR-ATAD5']\n",
    "sig.fit(Xm_train, sr_atad5)\n",
    "tsaccuracy11= sig.score(Xm_test, y_test['SR-ATAD5'])\n",
    "print(\"The accuracy of the model is:\",tsaccuracy11)"
   ]
  },
  {
   "cell_type": "markdown",
   "metadata": {},
   "source": [
    "#### NR-AR-LBD"
   ]
  },
  {
   "cell_type": "code",
   "execution_count": 41,
   "metadata": {},
   "outputs": [
    {
     "name": "stdout",
     "output_type": "stream",
     "text": [
      "The accuracy of the model is: 0.9662698412698413\n"
     ]
    }
   ],
   "source": [
    "nr_arlbd= y_train['NR-AR-LBD']\n",
    "sig.fit(Xm_train, nr_arlbd)\n",
    "tsaccuracy12= sig.score(Xm_test, y_test['NR-AR-LBD'])\n",
    "print(\"The accuracy of the model is:\",tsaccuracy12)"
   ]
  },
  {
   "cell_type": "markdown",
   "metadata": {},
   "source": [
    "#### Summary of ecfp data"
   ]
  },
  {
   "cell_type": "code",
   "execution_count": 42,
   "metadata": {},
   "outputs": [
    {
     "name": "stdout",
     "output_type": "stream",
     "text": [
      "\u001b[1mFor Random Forest:\u001b[0m\n",
      "SR-HSE           0.948696\n",
      "NR-AR            0.964286\n",
      "SR-ARE           0.858560\n",
      "NR-Aromatase     0.939909\n",
      "NR-ER-LBD        0.955782\n",
      "NR-AhR           0.908447\n",
      "SR-MMP           0.886621\n",
      "NR-ER            0.901927\n",
      "NR-PPAR-gamma    0.977324\n",
      "SR-p53           0.937358\n",
      "SR-ATAD5         0.971939\n",
      "NR-AR-LBD        0.967120\n",
      "dtype: float64\n",
      "\u001b[0m----------\n",
      "\u001b[1mFor SVM:\u001b[0m\n",
      "\u001b[1mFor Logistic Regression:\u001b[0m\n",
      "SR-HSE: \t 0.947562358276644\n",
      "NR-AR: \t 0.9671201814058957\n",
      "SR-ARE: \t 0.8460884353741497\n",
      "NR-Aromatase: \t 0.9390589569160998\n",
      "NR-ER-LBD: \t 0.9589002267573696\n",
      "NR-AhR: \t 0.9061791383219955\n",
      "SR-MMP: \t 0.88718820861678\n",
      "NR-ER: \t 0.9030612244897959\n",
      "NR-PPAR-gamma: \t 0.9753401360544217\n",
      "SR-p53: \t 0.9339569160997733\n",
      "SR-ATAD5: \t 0.9705215419501134\n",
      "NR-AR-LBD: \t 0.969671201814059\n",
      "\u001b[0m----------\n",
      "\u001b[1mFor SVM:\u001b[0m\n",
      "SR-HSE: \t 0.9455782312925171\n",
      "NR-AR: \t 0.969954648526077\n",
      "SR-ARE: \t 0.8398526077097506\n",
      "NR-Aromatase: \t 0.9390589569160998\n",
      "NR-ER-LBD: \t 0.9509637188208617\n",
      "NR-AhR: \t 0.9007936507936508\n",
      "SR-MMP: \t 0.8732993197278912\n",
      "NR-ER: \t 0.9024943310657596\n",
      "NR-PPAR-gamma: \t 0.9764739229024944\n",
      "SR-p53: \t 0.9362244897959183\n",
      "SR-ATAD5: \t 0.9682539682539683\n",
      "NR-AR-LBD: \t 0.9662698412698413\n"
     ]
    }
   ],
   "source": [
    "print(\"\\033[1m\" + \"For Random Forest:\"+ \"\\033[0m\")\n",
    "print(rfaccuracy_ecfp)\n",
    "print(\"\\033[0m\"+\"----------\")\n",
    "print(\"\\033[1m\" + \"For SVM:\"+ \"\\033[0m\")\n",
    "print(\"\\033[1m\" + \"For Logistic Regression:\" + \"\\033[0m\")\n",
    "print(\"SR-HSE: \\t\", taccuracy1)\n",
    "print(\"NR-AR: \\t\", taccuracy2)\n",
    "print(\"SR-ARE: \\t\", taccuracy3)\n",
    "print(\"NR-Aromatase: \\t\", taccuracy4)\n",
    "print(\"NR-ER-LBD: \\t\", taccuracy5)\n",
    "print(\"NR-AhR: \\t\", taccuracy6)\n",
    "print(\"SR-MMP: \\t\", taccuracy7)\n",
    "print(\"NR-ER: \\t\", taccuracy8)\n",
    "print(\"NR-PPAR-gamma: \\t\", taccuracy9)\n",
    "print(\"SR-p53: \\t\", taccuracy10)\n",
    "print(\"SR-ATAD5: \\t\", taccuracy11)\n",
    "print(\"NR-AR-LBD: \\t\", taccuracy12)\n",
    "print(\"\\033[0m\"+\"----------\")\n",
    "print(\"\\033[1m\" + \"For SVM:\"+ \"\\033[0m\")\n",
    "print(\"SR-HSE: \\t\", tsaccuracy1)\n",
    "print(\"NR-AR: \\t\", tsaccuracy2)\n",
    "print(\"SR-ARE: \\t\", tsaccuracy3)\n",
    "print(\"NR-Aromatase: \\t\", tsaccuracy4)\n",
    "print(\"NR-ER-LBD: \\t\", tsaccuracy5)\n",
    "print(\"NR-AhR: \\t\", tsaccuracy6)\n",
    "print(\"SR-MMP: \\t\", tsaccuracy7)\n",
    "print(\"NR-ER: \\t\", tsaccuracy8)\n",
    "print(\"NR-PPAR-gamma: \\t\", tsaccuracy9)\n",
    "print(\"SR-p53: \\t\", tsaccuracy10)\n",
    "print(\"SR-ATAD5: \\t\", tsaccuracy11)\n",
    "print(\"NR-AR-LBD: \\t\", tsaccuracy12)"
   ]
  },
  {
   "cell_type": "markdown",
   "metadata": {},
   "source": [
    "## Feature Selection"
   ]
  },
  {
   "cell_type": "markdown",
   "metadata": {},
   "source": [
    "### Random Forest Classifier"
   ]
  },
  {
   "cell_type": "code",
   "execution_count": 43,
   "metadata": {},
   "outputs": [
    {
     "data": {
      "text/plain": [
       "579    0.009679\n",
       "81     0.008377\n",
       "34     0.007846\n",
       "876    0.007272\n",
       "651    0.006720\n",
       "         ...   \n",
       "682    0.000092\n",
       "720    0.000081\n",
       "439    0.000064\n",
       "31     0.000059\n",
       "373    0.000041\n",
       "Length: 1024, dtype: float64"
      ]
     },
     "execution_count": 43,
     "metadata": {},
     "output_type": "execute_result"
    }
   ],
   "source": [
    "feature_importance= pd.DataFrame(classifier.feature_importances_,\\\n",
    "                                   index = Xm.columns,\\\n",
    "                                   columns=['importance']).sort_values('importance', ascending=False)\n",
    "classifier.fit(Xm_train, y_train)\n",
    "feature_scores = pd.Series(classifier.feature_importances_, index=Xm.columns).sort_values(ascending=False)\n",
    "\n",
    "feature_scores"
   ]
  },
  {
   "cell_type": "code",
   "execution_count": 44,
   "metadata": {},
   "outputs": [
    {
     "data": {
      "text/plain": [
       "579    0.009679\n",
       "81     0.008377\n",
       "34     0.007846\n",
       "876    0.007272\n",
       "651    0.006720\n",
       "         ...   \n",
       "682    0.000092\n",
       "720    0.000081\n",
       "439    0.000064\n",
       "31     0.000059\n",
       "373    0.000041\n",
       "Length: 1024, dtype: float64"
      ]
     },
     "execution_count": 44,
     "metadata": {},
     "output_type": "execute_result"
    }
   ],
   "source": [
    "classifier.fit(Xm_train, y_train)\n",
    "feature_scores = pd.Series(classifier.feature_importances_, index=Xm.columns).sort_values(ascending=False)\n",
    "\n",
    "feature_scores"
   ]
  },
  {
   "cell_type": "code",
   "execution_count": 45,
   "metadata": {},
   "outputs": [
    {
     "data": {
      "text/plain": [
       "Text(0, 0.5, 'Number of Features (RFC)')"
      ]
     },
     "execution_count": 45,
     "metadata": {},
     "output_type": "execute_result"
    },
    {
     "data": {
      "image/png": "[encoded data removed]",
      "text/plain": [
       "<Figure size 1728x864 with 1 Axes>"
      ]
     },
     "metadata": {},
     "output_type": "display_data"
    }
   ],
   "source": [
    "import seaborn as sb\n",
    "import matplotlib.pyplot as plt\n",
    "#histogram without feature selection\n",
    "sb.set(font_scale=2)\n",
    "f, axes = plt.subplots(1, 1, figsize=(24, 12))\n",
    "a= sb.distplot(feature_scores, kde = False, color = \"blue\", axlabel=\"Feature Importance (Before feature selection)\")\n",
    "axes.set_ylabel(\"Number of Features (RFC)\")"
   ]
  },
  {
   "cell_type": "code",
   "execution_count": 46,
   "metadata": {},
   "outputs": [
    {
     "data": {
      "text/plain": [
       "579    0.009679\n",
       "81     0.008377\n",
       "34     0.007846\n",
       "876    0.007272\n",
       "651    0.006720\n",
       "         ...   \n",
       "675    0.002077\n",
       "839    0.002071\n",
       "507    0.002070\n",
       "729    0.002053\n",
       "836    0.002034\n",
       "Length: 100, dtype: float64"
      ]
     },
     "execution_count": 46,
     "metadata": {},
     "output_type": "execute_result"
    }
   ],
   "source": [
    "#select these indexes and get those respective features from X\n",
    "features=feature_scores[0:100]\n",
    "features"
   ]
  },
  {
   "cell_type": "code",
   "execution_count": 47,
   "metadata": {},
   "outputs": [
    {
     "data": {
      "text/plain": [
       "Text(0, 0.5, 'Number of Features (RFC)')"
      ]
     },
     "execution_count": 47,
     "metadata": {},
     "output_type": "execute_result"
    },
    {
     "data": {
      "image/png": "[encoded data removed]",
      "text/plain": [
       "<Figure size 1728x864 with 1 Axes>"
      ]
     },
     "metadata": {},
     "output_type": "display_data"
    }
   ],
   "source": [
    "#plotting histogram for features after feature selection\n",
    "import seaborn as sb\n",
    "f, axes = plt.subplots(1, 1, figsize=(24, 12))\n",
    "sb.distplot(features, kde = False, color = \"red\",axlabel=\"Feature Importance (After feature selection)\")\n",
    "axes.set_ylabel(\"Number of Features (RFC)\")"
   ]
  },
  {
   "cell_type": "markdown",
   "metadata": {},
   "source": [
    "#### After re-training the data"
   ]
  },
  {
   "cell_type": "code",
   "execution_count": 48,
   "metadata": {},
   "outputs": [
    {
     "data": {
      "text/plain": [
       "SR-HSE           0.951531\n",
       "NR-AR            0.969104\n",
       "SR-ARE           0.865363\n",
       "NR-Aromatase     0.942177\n",
       "NR-ER-LBD        0.955215\n",
       "NR-AhR           0.911848\n",
       "SR-MMP           0.891156\n",
       "NR-ER            0.906179\n",
       "NR-PPAR-gamma    0.972789\n",
       "SR-p53           0.941610\n",
       "SR-ATAD5         0.972789\n",
       "NR-AR-LBD        0.972506\n",
       "dtype: float64"
      ]
     },
     "execution_count": 48,
     "metadata": {},
     "output_type": "execute_result"
    }
   ],
   "source": [
    "X_feat_train,X_feat_test,y_feat_train,y_feat_test=train_test_split(Xm[features.index],y,test_size=0.3,random_state=0)\n",
    "newclassifier = RandomForestClassifier(n_estimators = 100, criterion = 'entropy', random_state = 42)\n",
    "newclassifier.fit(X_feat_train,y_feat_train)\n",
    "newrfpredict=newclassifier.predict(X_feat_test)\n",
    "count_misclassified = (y_feat_test != newrfpredict).sum()\n",
    "newrfaccuracy= 1-(count_misclassified/len(y_feat_test))\n",
    "newrfaccuracy"
   ]
  },
  {
   "cell_type": "code",
   "execution_count": 49,
   "metadata": {},
   "outputs": [
    {
     "name": "stdout",
     "output_type": "stream",
     "text": [
      "\u001b[1mRandom Forest:\u001b[0m\n",
      "\u001b[1mBefore feature selection:\u001b[0m\n",
      "SR-HSE           0.948696\n",
      "NR-AR            0.964286\n",
      "SR-ARE           0.858560\n",
      "NR-Aromatase     0.939909\n",
      "NR-ER-LBD        0.955782\n",
      "NR-AhR           0.908447\n",
      "SR-MMP           0.886621\n",
      "NR-ER            0.901927\n",
      "NR-PPAR-gamma    0.977324\n",
      "SR-p53           0.937358\n",
      "SR-ATAD5         0.971939\n",
      "NR-AR-LBD        0.967120\n",
      "dtype: float64\n",
      "------------------\n",
      "\u001b[1mAfter feature selection:\u001b[0m\n",
      "SR-HSE           0.951531\n",
      "NR-AR            0.969104\n",
      "SR-ARE           0.865363\n",
      "NR-Aromatase     0.942177\n",
      "NR-ER-LBD        0.955215\n",
      "NR-AhR           0.911848\n",
      "SR-MMP           0.891156\n",
      "NR-ER            0.906179\n",
      "NR-PPAR-gamma    0.972789\n",
      "SR-p53           0.941610\n",
      "SR-ATAD5         0.972789\n",
      "NR-AR-LBD        0.972506\n",
      "dtype: float64\n"
     ]
    }
   ],
   "source": [
    "print(\"\\033[1m\" + \"Random Forest:\"+ \"\\033[0m\")\n",
    "print(\"\\033[1m\" + \"Before feature selection:\"+ \"\\033[0m\")\n",
    "print(rfaccuracy_ecfp)\n",
    "print(\"------------------\")\n",
    "print(\"\\033[1m\" + \"After feature selection:\"+ \"\\033[0m\")\n",
    "print(newrfaccuracy)"
   ]
  },
  {
   "cell_type": "code",
   "execution_count": 87,
   "metadata": {},
   "outputs": [
    {
     "name": "stdout",
     "output_type": "stream",
     "text": [
      "Average accuracy score before feature selection is  0.9348308767951625\n"
     ]
    }
   ],
   "source": [
    "sum =0\n",
    "for x in range(len(rfaccuracy_ecfp)):\n",
    "    sum= sum+ rfaccuracy_ecfp[x]\n",
    "average= sum/12\n",
    "print(\"Average accuracy score before feature selection is \", average)"
   ]
  },
  {
   "cell_type": "code",
   "execution_count": 88,
   "metadata": {},
   "outputs": [
    {
     "name": "stdout",
     "output_type": "stream",
     "text": [
      "Average accuracy score after feature selection is  0.9376889644746784\n"
     ]
    }
   ],
   "source": [
    "sum=0\n",
    "for x in range(len(newrfaccuracy)):\n",
    "    sum= sum+ newrfaccuracy[x]\n",
    "average= sum/12\n",
    "print(\"Average accuracy score after feature selection is \", average)"
   ]
  },
  {
   "cell_type": "markdown",
   "metadata": {},
   "source": [
    "### RFE"
   ]
  },
  {
   "cell_type": "code",
   "execution_count": 50,
   "metadata": {},
   "outputs": [],
   "source": [
    "from sklearn.feature_selection import RFE\n",
    "from sklearn.linear_model import LogisticRegression"
   ]
  },
  {
   "cell_type": "markdown",
   "metadata": {},
   "source": [
    "This will take a really long while"
   ]
  },
  {
   "cell_type": "code",
   "execution_count": 51,
   "metadata": {},
   "outputs": [],
   "source": [
    "rfe = RFE(lm, n_features_to_select= 100)\n",
    "rfe = rfe.fit(Xm, y['SR-HSE'])"
   ]
  },
  {
   "cell_type": "code",
   "execution_count": 52,
   "metadata": {},
   "outputs": [
    {
     "data": {
      "text/plain": [
       "1024"
      ]
     },
     "execution_count": 52,
     "metadata": {},
     "output_type": "execute_result"
    }
   ],
   "source": [
    "len(rfe.ranking_)"
   ]
  },
  {
   "cell_type": "code",
   "execution_count": 53,
   "metadata": {},
   "outputs": [
    {
     "data": {
      "text/plain": [
       "array([381, 765, 844, ..., 847, 471, 715])"
      ]
     },
     "execution_count": 53,
     "metadata": {},
     "output_type": "execute_result"
    }
   ],
   "source": [
    "rfe.ranking_"
   ]
  },
  {
   "cell_type": "code",
   "execution_count": null,
   "metadata": {},
   "outputs": [],
   "source": []
  },
  {
   "cell_type": "code",
   "execution_count": 54,
   "metadata": {},
   "outputs": [
    {
     "data": {
      "text/plain": [
       "428374"
      ]
     },
     "execution_count": 54,
     "metadata": {},
     "output_type": "execute_result"
    }
   ],
   "source": [
    "rfe.ranking_.sum()"
   ]
  },
  {
   "cell_type": "code",
   "execution_count": 55,
   "metadata": {},
   "outputs": [
    {
     "data": {
      "text/plain": [
       "0.7470703125"
      ]
     },
     "execution_count": 55,
     "metadata": {},
     "output_type": "execute_result"
    }
   ],
   "source": [
    "rf_rerank= rfe.ranking_/len(rfe.ranking_)\n",
    "rf_rerank[1]"
   ]
  },
  {
   "cell_type": "code",
   "execution_count": 56,
   "metadata": {},
   "outputs": [
    {
     "data": {
      "text/html": [
       "<div>\n",
       "<style scoped>\n",
       "    .dataframe tbody tr th:only-of-type {\n",
       "        vertical-align: middle;\n",
       "    }\n",
       "\n",
       "    .dataframe tbody tr th {\n",
       "        vertical-align: top;\n",
       "    }\n",
       "\n",
       "    .dataframe thead th {\n",
       "        text-align: right;\n",
       "    }\n",
       "</style>\n",
       "<table border=\"1\" class=\"dataframe\">\n",
       "  <thead>\n",
       "    <tr style=\"text-align: right;\">\n",
       "      <th></th>\n",
       "      <th>importance</th>\n",
       "    </tr>\n",
       "  </thead>\n",
       "  <tbody>\n",
       "    <tr>\n",
       "      <th>240</th>\n",
       "      <td>1</td>\n",
       "    </tr>\n",
       "    <tr>\n",
       "      <th>322</th>\n",
       "      <td>1</td>\n",
       "    </tr>\n",
       "    <tr>\n",
       "      <th>117</th>\n",
       "      <td>1</td>\n",
       "    </tr>\n",
       "    <tr>\n",
       "      <th>606</th>\n",
       "      <td>1</td>\n",
       "    </tr>\n",
       "    <tr>\n",
       "      <th>114</th>\n",
       "      <td>1</td>\n",
       "    </tr>\n",
       "    <tr>\n",
       "      <th>...</th>\n",
       "      <td>...</td>\n",
       "    </tr>\n",
       "    <tr>\n",
       "      <th>228</th>\n",
       "      <td>921</td>\n",
       "    </tr>\n",
       "    <tr>\n",
       "      <th>1020</th>\n",
       "      <td>922</td>\n",
       "    </tr>\n",
       "    <tr>\n",
       "      <th>941</th>\n",
       "      <td>923</td>\n",
       "    </tr>\n",
       "    <tr>\n",
       "      <th>710</th>\n",
       "      <td>924</td>\n",
       "    </tr>\n",
       "    <tr>\n",
       "      <th>829</th>\n",
       "      <td>925</td>\n",
       "    </tr>\n",
       "  </tbody>\n",
       "</table>\n",
       "<p>1024 rows × 1 columns</p>\n",
       "</div>"
      ],
      "text/plain": [
       "      importance\n",
       "240            1\n",
       "322            1\n",
       "117            1\n",
       "606            1\n",
       "114            1\n",
       "...          ...\n",
       "228          921\n",
       "1020         922\n",
       "941          923\n",
       "710          924\n",
       "829          925\n",
       "\n",
       "[1024 rows x 1 columns]"
      ]
     },
     "execution_count": 56,
     "metadata": {},
     "output_type": "execute_result"
    }
   ],
   "source": [
    "feature_importance= pd.DataFrame(rfe.ranking_,\\\n",
    "                                   index = Xm.columns,\\\n",
    "                                   columns=['importance']).sort_values('importance', ascending=True)\n",
    "feature_importance.round(6)"
   ]
  },
  {
   "cell_type": "code",
   "execution_count": 57,
   "metadata": {},
   "outputs": [
    {
     "data": {
      "text/html": [
       "<div>\n",
       "<style scoped>\n",
       "    .dataframe tbody tr th:only-of-type {\n",
       "        vertical-align: middle;\n",
       "    }\n",
       "\n",
       "    .dataframe tbody tr th {\n",
       "        vertical-align: top;\n",
       "    }\n",
       "\n",
       "    .dataframe thead th {\n",
       "        text-align: right;\n",
       "    }\n",
       "</style>\n",
       "<table border=\"1\" class=\"dataframe\">\n",
       "  <thead>\n",
       "    <tr style=\"text-align: right;\">\n",
       "      <th></th>\n",
       "      <th>importance</th>\n",
       "    </tr>\n",
       "  </thead>\n",
       "  <tbody>\n",
       "    <tr>\n",
       "      <th>240</th>\n",
       "      <td>1</td>\n",
       "    </tr>\n",
       "    <tr>\n",
       "      <th>322</th>\n",
       "      <td>1</td>\n",
       "    </tr>\n",
       "    <tr>\n",
       "      <th>117</th>\n",
       "      <td>1</td>\n",
       "    </tr>\n",
       "    <tr>\n",
       "      <th>606</th>\n",
       "      <td>1</td>\n",
       "    </tr>\n",
       "    <tr>\n",
       "      <th>114</th>\n",
       "      <td>1</td>\n",
       "    </tr>\n",
       "    <tr>\n",
       "      <th>...</th>\n",
       "      <td>...</td>\n",
       "    </tr>\n",
       "    <tr>\n",
       "      <th>666</th>\n",
       "      <td>1</td>\n",
       "    </tr>\n",
       "    <tr>\n",
       "      <th>403</th>\n",
       "      <td>1</td>\n",
       "    </tr>\n",
       "    <tr>\n",
       "      <th>501</th>\n",
       "      <td>1</td>\n",
       "    </tr>\n",
       "    <tr>\n",
       "      <th>665</th>\n",
       "      <td>1</td>\n",
       "    </tr>\n",
       "    <tr>\n",
       "      <th>39</th>\n",
       "      <td>1</td>\n",
       "    </tr>\n",
       "  </tbody>\n",
       "</table>\n",
       "<p>100 rows × 1 columns</p>\n",
       "</div>"
      ],
      "text/plain": [
       "     importance\n",
       "240           1\n",
       "322           1\n",
       "117           1\n",
       "606           1\n",
       "114           1\n",
       "..          ...\n",
       "666           1\n",
       "403           1\n",
       "501           1\n",
       "665           1\n",
       "39            1\n",
       "\n",
       "[100 rows x 1 columns]"
      ]
     },
     "execution_count": 57,
     "metadata": {},
     "output_type": "execute_result"
    }
   ],
   "source": [
    "feat_sel= feature_importance[0:100]\n",
    "feat_sel"
   ]
  },
  {
   "cell_type": "markdown",
   "metadata": {},
   "source": [
    "If ranking=1, it means that it is the best feature!"
   ]
  },
  {
   "cell_type": "code",
   "execution_count": 58,
   "metadata": {},
   "outputs": [
    {
     "data": {
      "text/html": [
       "<div>\n",
       "<style scoped>\n",
       "    .dataframe tbody tr th:only-of-type {\n",
       "        vertical-align: middle;\n",
       "    }\n",
       "\n",
       "    .dataframe tbody tr th {\n",
       "        vertical-align: top;\n",
       "    }\n",
       "\n",
       "    .dataframe thead th {\n",
       "        text-align: right;\n",
       "    }\n",
       "</style>\n",
       "<table border=\"1\" class=\"dataframe\">\n",
       "  <thead>\n",
       "    <tr style=\"text-align: right;\">\n",
       "      <th></th>\n",
       "      <th>240</th>\n",
       "      <th>322</th>\n",
       "      <th>117</th>\n",
       "      <th>606</th>\n",
       "      <th>114</th>\n",
       "      <th>990</th>\n",
       "      <th>111</th>\n",
       "      <th>602</th>\n",
       "      <th>332</th>\n",
       "      <th>334</th>\n",
       "      <th>...</th>\n",
       "      <th>910</th>\n",
       "      <th>19</th>\n",
       "      <th>541</th>\n",
       "      <th>1014</th>\n",
       "      <th>500</th>\n",
       "      <th>666</th>\n",
       "      <th>403</th>\n",
       "      <th>501</th>\n",
       "      <th>665</th>\n",
       "      <th>39</th>\n",
       "    </tr>\n",
       "  </thead>\n",
       "  <tbody>\n",
       "    <tr>\n",
       "      <th>0</th>\n",
       "      <td>0</td>\n",
       "      <td>0</td>\n",
       "      <td>0</td>\n",
       "      <td>0</td>\n",
       "      <td>0</td>\n",
       "      <td>0</td>\n",
       "      <td>0</td>\n",
       "      <td>0</td>\n",
       "      <td>0</td>\n",
       "      <td>0</td>\n",
       "      <td>...</td>\n",
       "      <td>0</td>\n",
       "      <td>0</td>\n",
       "      <td>0</td>\n",
       "      <td>0</td>\n",
       "      <td>0</td>\n",
       "      <td>0</td>\n",
       "      <td>0</td>\n",
       "      <td>0</td>\n",
       "      <td>0</td>\n",
       "      <td>0</td>\n",
       "    </tr>\n",
       "    <tr>\n",
       "      <th>1</th>\n",
       "      <td>0</td>\n",
       "      <td>0</td>\n",
       "      <td>0</td>\n",
       "      <td>0</td>\n",
       "      <td>1</td>\n",
       "      <td>0</td>\n",
       "      <td>0</td>\n",
       "      <td>0</td>\n",
       "      <td>0</td>\n",
       "      <td>0</td>\n",
       "      <td>...</td>\n",
       "      <td>0</td>\n",
       "      <td>0</td>\n",
       "      <td>0</td>\n",
       "      <td>0</td>\n",
       "      <td>0</td>\n",
       "      <td>0</td>\n",
       "      <td>0</td>\n",
       "      <td>0</td>\n",
       "      <td>0</td>\n",
       "      <td>0</td>\n",
       "    </tr>\n",
       "    <tr>\n",
       "      <th>2</th>\n",
       "      <td>0</td>\n",
       "      <td>0</td>\n",
       "      <td>0</td>\n",
       "      <td>0</td>\n",
       "      <td>0</td>\n",
       "      <td>0</td>\n",
       "      <td>0</td>\n",
       "      <td>0</td>\n",
       "      <td>0</td>\n",
       "      <td>1</td>\n",
       "      <td>...</td>\n",
       "      <td>0</td>\n",
       "      <td>0</td>\n",
       "      <td>0</td>\n",
       "      <td>0</td>\n",
       "      <td>0</td>\n",
       "      <td>0</td>\n",
       "      <td>0</td>\n",
       "      <td>0</td>\n",
       "      <td>0</td>\n",
       "      <td>0</td>\n",
       "    </tr>\n",
       "    <tr>\n",
       "      <th>3</th>\n",
       "      <td>0</td>\n",
       "      <td>0</td>\n",
       "      <td>0</td>\n",
       "      <td>0</td>\n",
       "      <td>0</td>\n",
       "      <td>0</td>\n",
       "      <td>0</td>\n",
       "      <td>0</td>\n",
       "      <td>0</td>\n",
       "      <td>1</td>\n",
       "      <td>...</td>\n",
       "      <td>0</td>\n",
       "      <td>0</td>\n",
       "      <td>0</td>\n",
       "      <td>0</td>\n",
       "      <td>0</td>\n",
       "      <td>0</td>\n",
       "      <td>0</td>\n",
       "      <td>0</td>\n",
       "      <td>0</td>\n",
       "      <td>0</td>\n",
       "    </tr>\n",
       "    <tr>\n",
       "      <th>4</th>\n",
       "      <td>0</td>\n",
       "      <td>0</td>\n",
       "      <td>0</td>\n",
       "      <td>0</td>\n",
       "      <td>0</td>\n",
       "      <td>0</td>\n",
       "      <td>0</td>\n",
       "      <td>0</td>\n",
       "      <td>0</td>\n",
       "      <td>0</td>\n",
       "      <td>...</td>\n",
       "      <td>0</td>\n",
       "      <td>1</td>\n",
       "      <td>0</td>\n",
       "      <td>0</td>\n",
       "      <td>0</td>\n",
       "      <td>0</td>\n",
       "      <td>0</td>\n",
       "      <td>0</td>\n",
       "      <td>0</td>\n",
       "      <td>0</td>\n",
       "    </tr>\n",
       "    <tr>\n",
       "      <th>...</th>\n",
       "      <td>...</td>\n",
       "      <td>...</td>\n",
       "      <td>...</td>\n",
       "      <td>...</td>\n",
       "      <td>...</td>\n",
       "      <td>...</td>\n",
       "      <td>...</td>\n",
       "      <td>...</td>\n",
       "      <td>...</td>\n",
       "      <td>...</td>\n",
       "      <td>...</td>\n",
       "      <td>...</td>\n",
       "      <td>...</td>\n",
       "      <td>...</td>\n",
       "      <td>...</td>\n",
       "      <td>...</td>\n",
       "      <td>...</td>\n",
       "      <td>...</td>\n",
       "      <td>...</td>\n",
       "      <td>...</td>\n",
       "      <td>...</td>\n",
       "    </tr>\n",
       "    <tr>\n",
       "      <th>11753</th>\n",
       "      <td>0</td>\n",
       "      <td>0</td>\n",
       "      <td>1</td>\n",
       "      <td>0</td>\n",
       "      <td>0</td>\n",
       "      <td>0</td>\n",
       "      <td>0</td>\n",
       "      <td>0</td>\n",
       "      <td>0</td>\n",
       "      <td>0</td>\n",
       "      <td>...</td>\n",
       "      <td>0</td>\n",
       "      <td>0</td>\n",
       "      <td>0</td>\n",
       "      <td>0</td>\n",
       "      <td>0</td>\n",
       "      <td>0</td>\n",
       "      <td>0</td>\n",
       "      <td>0</td>\n",
       "      <td>0</td>\n",
       "      <td>0</td>\n",
       "    </tr>\n",
       "    <tr>\n",
       "      <th>11754</th>\n",
       "      <td>0</td>\n",
       "      <td>0</td>\n",
       "      <td>0</td>\n",
       "      <td>0</td>\n",
       "      <td>0</td>\n",
       "      <td>0</td>\n",
       "      <td>0</td>\n",
       "      <td>0</td>\n",
       "      <td>0</td>\n",
       "      <td>0</td>\n",
       "      <td>...</td>\n",
       "      <td>0</td>\n",
       "      <td>0</td>\n",
       "      <td>0</td>\n",
       "      <td>0</td>\n",
       "      <td>0</td>\n",
       "      <td>0</td>\n",
       "      <td>0</td>\n",
       "      <td>1</td>\n",
       "      <td>0</td>\n",
       "      <td>0</td>\n",
       "    </tr>\n",
       "    <tr>\n",
       "      <th>11755</th>\n",
       "      <td>0</td>\n",
       "      <td>0</td>\n",
       "      <td>0</td>\n",
       "      <td>0</td>\n",
       "      <td>0</td>\n",
       "      <td>0</td>\n",
       "      <td>0</td>\n",
       "      <td>0</td>\n",
       "      <td>0</td>\n",
       "      <td>0</td>\n",
       "      <td>...</td>\n",
       "      <td>0</td>\n",
       "      <td>0</td>\n",
       "      <td>0</td>\n",
       "      <td>0</td>\n",
       "      <td>0</td>\n",
       "      <td>0</td>\n",
       "      <td>0</td>\n",
       "      <td>0</td>\n",
       "      <td>0</td>\n",
       "      <td>0</td>\n",
       "    </tr>\n",
       "    <tr>\n",
       "      <th>11756</th>\n",
       "      <td>0</td>\n",
       "      <td>0</td>\n",
       "      <td>0</td>\n",
       "      <td>0</td>\n",
       "      <td>0</td>\n",
       "      <td>0</td>\n",
       "      <td>0</td>\n",
       "      <td>0</td>\n",
       "      <td>0</td>\n",
       "      <td>0</td>\n",
       "      <td>...</td>\n",
       "      <td>0</td>\n",
       "      <td>0</td>\n",
       "      <td>0</td>\n",
       "      <td>0</td>\n",
       "      <td>0</td>\n",
       "      <td>0</td>\n",
       "      <td>0</td>\n",
       "      <td>0</td>\n",
       "      <td>0</td>\n",
       "      <td>0</td>\n",
       "    </tr>\n",
       "    <tr>\n",
       "      <th>11757</th>\n",
       "      <td>0</td>\n",
       "      <td>0</td>\n",
       "      <td>0</td>\n",
       "      <td>0</td>\n",
       "      <td>0</td>\n",
       "      <td>0</td>\n",
       "      <td>0</td>\n",
       "      <td>0</td>\n",
       "      <td>0</td>\n",
       "      <td>0</td>\n",
       "      <td>...</td>\n",
       "      <td>0</td>\n",
       "      <td>0</td>\n",
       "      <td>1</td>\n",
       "      <td>0</td>\n",
       "      <td>0</td>\n",
       "      <td>0</td>\n",
       "      <td>0</td>\n",
       "      <td>0</td>\n",
       "      <td>0</td>\n",
       "      <td>1</td>\n",
       "    </tr>\n",
       "  </tbody>\n",
       "</table>\n",
       "<p>11758 rows × 100 columns</p>\n",
       "</div>"
      ],
      "text/plain": [
       "       240  322  117  606  114  990  111  602  332  334  ...  910  19  541  \\\n",
       "0        0    0    0    0    0    0    0    0    0    0  ...    0   0    0   \n",
       "1        0    0    0    0    1    0    0    0    0    0  ...    0   0    0   \n",
       "2        0    0    0    0    0    0    0    0    0    1  ...    0   0    0   \n",
       "3        0    0    0    0    0    0    0    0    0    1  ...    0   0    0   \n",
       "4        0    0    0    0    0    0    0    0    0    0  ...    0   1    0   \n",
       "...    ...  ...  ...  ...  ...  ...  ...  ...  ...  ...  ...  ...  ..  ...   \n",
       "11753    0    0    1    0    0    0    0    0    0    0  ...    0   0    0   \n",
       "11754    0    0    0    0    0    0    0    0    0    0  ...    0   0    0   \n",
       "11755    0    0    0    0    0    0    0    0    0    0  ...    0   0    0   \n",
       "11756    0    0    0    0    0    0    0    0    0    0  ...    0   0    0   \n",
       "11757    0    0    0    0    0    0    0    0    0    0  ...    0   0    1   \n",
       "\n",
       "       1014  500  666  403  501  665  39  \n",
       "0         0    0    0    0    0    0   0  \n",
       "1         0    0    0    0    0    0   0  \n",
       "2         0    0    0    0    0    0   0  \n",
       "3         0    0    0    0    0    0   0  \n",
       "4         0    0    0    0    0    0   0  \n",
       "...     ...  ...  ...  ...  ...  ...  ..  \n",
       "11753     0    0    0    0    0    0   0  \n",
       "11754     0    0    0    0    1    0   0  \n",
       "11755     0    0    0    0    0    0   0  \n",
       "11756     0    0    0    0    0    0   0  \n",
       "11757     0    0    0    0    0    0   1  \n",
       "\n",
       "[11758 rows x 100 columns]"
      ]
     },
     "execution_count": 58,
     "metadata": {},
     "output_type": "execute_result"
    }
   ],
   "source": [
    "Xm[feat_sel.index]"
   ]
  },
  {
   "cell_type": "code",
   "execution_count": 59,
   "metadata": {},
   "outputs": [],
   "source": [
    "Xt_rfe_train,Xt_rfe_test,yt_rfe_train,yt_rfe_test=train_test_split(Xm[feat_sel.index],y,test_size=0.3,random_state=0)"
   ]
  },
  {
   "cell_type": "markdown",
   "metadata": {},
   "source": [
    "#### SR-HSE"
   ]
  },
  {
   "cell_type": "code",
   "execution_count": 60,
   "metadata": {},
   "outputs": [
    {
     "name": "stdout",
     "output_type": "stream",
     "text": [
      "The accuracy of the model is: 0.9489795918367347\n"
     ]
    }
   ],
   "source": [
    "sr_hse= yt_rfe_train['SR-HSE']\n",
    "lm.fit(Xt_rfe_train, sr_hse)\n",
    "newtaccuracy1=lm.score(Xt_rfe_test, yt_rfe_test['SR-HSE'])\n",
    "print(\"The accuracy of the model is:\",newtaccuracy1)"
   ]
  },
  {
   "cell_type": "markdown",
   "metadata": {},
   "source": [
    "#### NR-AR "
   ]
  },
  {
   "cell_type": "code",
   "execution_count": 61,
   "metadata": {},
   "outputs": [
    {
     "name": "stdout",
     "output_type": "stream",
     "text": [
      "The accuracy of the model is: 0.969671201814059\n"
     ]
    }
   ],
   "source": [
    "nr_ar= yt_rfe_train['NR-AR']\n",
    "lm.fit(Xt_rfe_train, nr_ar)\n",
    "newtaccuracy2= lm.score(Xt_rfe_test, yt_rfe_test['NR-AR'])\n",
    "print(\"The accuracy of the model is:\",newtaccuracy2)"
   ]
  },
  {
   "cell_type": "markdown",
   "metadata": {},
   "source": [
    "#### SR-ARE"
   ]
  },
  {
   "cell_type": "code",
   "execution_count": 62,
   "metadata": {},
   "outputs": [
    {
     "name": "stdout",
     "output_type": "stream",
     "text": [
      "The accuracy of the model is: 0.8562925170068028\n"
     ]
    }
   ],
   "source": [
    "sr_are= yt_rfe_train['SR-ARE']\n",
    "lm.fit(Xt_rfe_train, sr_are)\n",
    "newtaccuracy3= lm.score(Xt_rfe_test, yt_rfe_test['SR-ARE'])\n",
    "print(\"The accuracy of the model is:\",newtaccuracy3)"
   ]
  },
  {
   "cell_type": "markdown",
   "metadata": {},
   "source": [
    "#### NR-Aromatase"
   ]
  },
  {
   "cell_type": "code",
   "execution_count": 63,
   "metadata": {},
   "outputs": [
    {
     "name": "stdout",
     "output_type": "stream",
     "text": [
      "The accuracy of the model is: 0.9433106575963719\n"
     ]
    }
   ],
   "source": [
    "nr_aromatase= yt_rfe_train['NR-Aromatase']\n",
    "lm.fit(Xt_rfe_train, nr_aromatase)\n",
    "newtaccuracy4= lm.score(Xt_rfe_test, yt_rfe_test['NR-Aromatase'])\n",
    "print(\"The accuracy of the model is:\",newtaccuracy4)"
   ]
  },
  {
   "cell_type": "markdown",
   "metadata": {},
   "source": [
    "#### NR-ER-LBD"
   ]
  },
  {
   "cell_type": "code",
   "execution_count": 64,
   "metadata": {},
   "outputs": [
    {
     "name": "stdout",
     "output_type": "stream",
     "text": [
      "The accuracy of the model is: 0.9498299319727891\n"
     ]
    }
   ],
   "source": [
    "nr_erlbd= yt_rfe_train['NR-ER-LBD']\n",
    "lm.fit(Xt_rfe_train, nr_erlbd)\n",
    "newtaccuracy5= lm.score(Xt_rfe_test, yt_rfe_test['NR-ER-LBD'])\n",
    "print(\"The accuracy of the model is:\",newtaccuracy5)"
   ]
  },
  {
   "cell_type": "markdown",
   "metadata": {},
   "source": [
    "#### NR-AhR"
   ]
  },
  {
   "cell_type": "code",
   "execution_count": 65,
   "metadata": {},
   "outputs": [
    {
     "name": "stdout",
     "output_type": "stream",
     "text": [
      "The accuracy of the model is: 0.9084467120181405\n"
     ]
    }
   ],
   "source": [
    "nr_ahr= yt_rfe_train['NR-AhR']\n",
    "lm.fit(Xt_rfe_train, nr_ahr)\n",
    "newtaccuracy6= lm.score(Xt_rfe_test, yt_rfe_test['NR-AhR'])\n",
    "print(\"The accuracy of the model is:\",newtaccuracy6)"
   ]
  },
  {
   "cell_type": "markdown",
   "metadata": {},
   "source": [
    "#### SR-MMP"
   ]
  },
  {
   "cell_type": "code",
   "execution_count": 66,
   "metadata": {},
   "outputs": [
    {
     "name": "stdout",
     "output_type": "stream",
     "text": [
      "The accuracy of the model is: 0.8832199546485261\n"
     ]
    }
   ],
   "source": [
    "sr_mmp= yt_rfe_train['SR-MMP']\n",
    "lm.fit(Xt_rfe_train, sr_mmp)\n",
    "newtaccuracy7= lm.score(Xt_rfe_test, yt_rfe_test['SR-MMP'])\n",
    "print(\"The accuracy of the model is:\",newtaccuracy7)"
   ]
  },
  {
   "cell_type": "markdown",
   "metadata": {},
   "source": [
    "#### NR-ER"
   ]
  },
  {
   "cell_type": "code",
   "execution_count": 67,
   "metadata": {},
   "outputs": [
    {
     "name": "stdout",
     "output_type": "stream",
     "text": [
      "The accuracy of the model is: 0.9058956916099773\n"
     ]
    }
   ],
   "source": [
    "nr_er= yt_rfe_train['NR-ER']\n",
    "lm.fit(Xt_rfe_train, nr_er)\n",
    "newtaccuracy8= lm.score(Xt_rfe_test, yt_rfe_test['NR-ER'])\n",
    "print(\"The accuracy of the model is:\",newtaccuracy8)"
   ]
  },
  {
   "cell_type": "markdown",
   "metadata": {},
   "source": [
    "#### NR-PPAR-gamma"
   ]
  },
  {
   "cell_type": "code",
   "execution_count": 68,
   "metadata": {},
   "outputs": [
    {
     "name": "stdout",
     "output_type": "stream",
     "text": [
      "The accuracy of the model is: 0.9747732426303855\n"
     ]
    }
   ],
   "source": [
    "nr_ppar= yt_rfe_train['NR-PPAR-gamma']\n",
    "lm.fit(Xt_rfe_train, nr_ppar)\n",
    "newtaccuracy9= lm.score(Xt_rfe_test, yt_rfe_test['NR-PPAR-gamma'])\n",
    "print(\"The accuracy of the model is:\",newtaccuracy9)"
   ]
  },
  {
   "cell_type": "markdown",
   "metadata": {},
   "source": [
    "#### SR-p53"
   ]
  },
  {
   "cell_type": "code",
   "execution_count": 69,
   "metadata": {},
   "outputs": [
    {
     "name": "stdout",
     "output_type": "stream",
     "text": [
      "The accuracy of the model is: 0.94359410430839\n"
     ]
    }
   ],
   "source": [
    "sr_p53= yt_rfe_train['SR-p53']\n",
    "lm.fit(Xt_rfe_train, sr_p53)\n",
    "newtaccuracy10= lm.score(Xt_rfe_test, yt_rfe_test['SR-p53'])\n",
    "print(\"The accuracy of the model is:\",newtaccuracy10)"
   ]
  },
  {
   "cell_type": "markdown",
   "metadata": {},
   "source": [
    "#### SR-ATAD5"
   ]
  },
  {
   "cell_type": "code",
   "execution_count": 70,
   "metadata": {},
   "outputs": [
    {
     "name": "stdout",
     "output_type": "stream",
     "text": [
      "The accuracy of the model is: 0.971655328798186\n"
     ]
    }
   ],
   "source": [
    "sr_atad5= yt_rfe_train['SR-ATAD5']\n",
    "lm.fit(Xt_rfe_train, sr_atad5)\n",
    "newtaccuracy11= lm.score(Xt_rfe_test, yt_rfe_test['SR-ATAD5'])\n",
    "print(\"The accuracy of the model is:\",newtaccuracy11)"
   ]
  },
  {
   "cell_type": "markdown",
   "metadata": {},
   "source": [
    "#### NR-AR-LBD"
   ]
  },
  {
   "cell_type": "code",
   "execution_count": 71,
   "metadata": {},
   "outputs": [
    {
     "name": "stdout",
     "output_type": "stream",
     "text": [
      "The accuracy of the model is: 0.971655328798186\n"
     ]
    }
   ],
   "source": [
    "nr_arlbd= yt_rfe_train['NR-AR-LBD']\n",
    "lm.fit(Xt_rfe_train, nr_arlbd)\n",
    "newtaccuracy12= lm.score(Xt_rfe_test, yt_rfe_test['NR-AR-LBD'])\n",
    "print(\"The accuracy of the model is:\",newtaccuracy12)"
   ]
  },
  {
   "cell_type": "code",
   "execution_count": 89,
   "metadata": {},
   "outputs": [
    {
     "name": "stdout",
     "output_type": "stream",
     "text": [
      "\u001b[1mLogistic Regression:\u001b[0m\n",
      "\u001b[1mBefore Feature Selection:\u001b[0m\n",
      "SR-HSE: \t 0.947562358276644\n",
      "NR-AR: \t 0.9671201814058957\n",
      "SR-ARE: \t 0.8460884353741497\n",
      "NR-Aromatase: \t 0.9390589569160998\n",
      "NR-ER-LBD: \t 0.9589002267573696\n",
      "NR-AhR: \t 0.9061791383219955\n",
      "SR-MMP: \t 0.88718820861678\n",
      "NR-ER: \t 0.9030612244897959\n",
      "NR-PPAR-gamma: \t 0.9753401360544217\n",
      "SR-p53: \t 0.9339569160997733\n",
      "SR-ATAD5: \t 0.9705215419501134\n",
      "NR-AR-LBD: \t 0.969671201814059\n",
      "Average: \t 0.9337207105064248\n",
      "------------------------------\n",
      "\n",
      "\u001b[1mAfter Feature Selection:\u001b[0m\n",
      "SR-HSE: \t 0.9489795918367347\n",
      "NR-AR: \t 0.969671201814059\n",
      "SR-ARE: \t 0.8562925170068028\n",
      "NR-Aromatase: \t 0.9433106575963719\n",
      "NR-ER-LBD: \t 0.9498299319727891\n",
      "NR-AhR: \t 0.9084467120181405\n",
      "SR-MMP: \t 0.8832199546485261\n",
      "NR-ER: \t 0.9058956916099773\n",
      "NR-PPAR-gamma: \t 0.9747732426303855\n",
      "SR-p53: \t 0.94359410430839\n",
      "SR-ATAD5: \t 0.971655328798186\n",
      "NR-AR-LBD: \t 0.971655328798186\n",
      "Average: \t 0.9356103552532123\n"
     ]
    }
   ],
   "source": [
    "print(\"\\033[1m\" + \"Logistic Regression:\" + \"\\033[0m\")\n",
    "print(\"\\033[1m\" + \"Before Feature Selection:\" + \"\\033[0m\")\n",
    "print(\"SR-HSE: \\t\", taccuracy1)\n",
    "print(\"NR-AR: \\t\", taccuracy2)\n",
    "print(\"SR-ARE: \\t\", taccuracy3)\n",
    "print(\"NR-Aromatase: \\t\", taccuracy4)\n",
    "print(\"NR-ER-LBD: \\t\", taccuracy5)\n",
    "print(\"NR-AhR: \\t\", taccuracy6)\n",
    "print(\"SR-MMP: \\t\", taccuracy7)\n",
    "print(\"NR-ER: \\t\", taccuracy8)\n",
    "print(\"NR-PPAR-gamma: \\t\", taccuracy9)\n",
    "print(\"SR-p53: \\t\", taccuracy10)\n",
    "print(\"SR-ATAD5: \\t\", taccuracy11)\n",
    "print(\"NR-AR-LBD: \\t\", taccuracy12)\n",
    "print(\"Average: \\t\", (taccuracy1+taccuracy2+taccuracy3+taccuracy4+taccuracy5+taccuracy6+taccuracy7+taccuracy8+taccuracy9+taccuracy10+taccuracy11+taccuracy12)/12)\n",
    "print(\"------------------------------\\n\")\n",
    "print(\"\\033[1m\" + \"After Feature Selection:\" + \"\\033[0m\")\n",
    "print(\"SR-HSE: \\t\", newtaccuracy1)\n",
    "print(\"NR-AR: \\t\", newtaccuracy2)\n",
    "print(\"SR-ARE: \\t\", newtaccuracy3)\n",
    "print(\"NR-Aromatase: \\t\", newtaccuracy4)\n",
    "print(\"NR-ER-LBD: \\t\", newtaccuracy5)\n",
    "print(\"NR-AhR: \\t\", newtaccuracy6)\n",
    "print(\"SR-MMP: \\t\", newtaccuracy7)\n",
    "print(\"NR-ER: \\t\", newtaccuracy8)\n",
    "print(\"NR-PPAR-gamma: \\t\", newtaccuracy9)\n",
    "print(\"SR-p53: \\t\", newtaccuracy10)\n",
    "print(\"SR-ATAD5: \\t\", newtaccuracy11)\n",
    "print(\"NR-AR-LBD: \\t\", newtaccuracy12)\n",
    "print(\"Average: \\t\", (newtaccuracy1+newtaccuracy2+newtaccuracy3+newtaccuracy4+newtaccuracy5+newtaccuracy6+newtaccuracy7+newtaccuracy8+newtaccuracy9+newtaccuracy10+newtaccuracy11+newtaccuracy12)/12)\n"
   ]
  },
  {
   "cell_type": "markdown",
   "metadata": {},
   "source": [
    "### Re-training SVM SVC"
   ]
  },
  {
   "cell_type": "markdown",
   "metadata": {},
   "source": [
    "Was not able to use my sig model to re-train the features as some error popped up. Error mentioned that the model didn't have a coeff_, but it does"
   ]
  },
  {
   "cell_type": "markdown",
   "metadata": {},
   "source": [
    "#### SR-HSE"
   ]
  },
  {
   "cell_type": "code",
   "execution_count": 74,
   "metadata": {},
   "outputs": [
    {
     "name": "stdout",
     "output_type": "stream",
     "text": [
      "The accuracy of the model is: 0.9305555555555556\n"
     ]
    }
   ],
   "source": [
    "sr_hse= yt_rfe_train['SR-HSE']\n",
    "sig.fit(Xt_rfe_train, sr_hse)\n",
    "newtsaccuracy1=sig.score(Xt_rfe_test, yt_rfe_test['SR-HSE'])\n",
    "print(\"The accuracy of the model is:\",newtsaccuracy1)"
   ]
  },
  {
   "cell_type": "markdown",
   "metadata": {},
   "source": [
    "#### NR-AR "
   ]
  },
  {
   "cell_type": "code",
   "execution_count": 75,
   "metadata": {},
   "outputs": [
    {
     "name": "stdout",
     "output_type": "stream",
     "text": [
      "The accuracy of the model is: 0.9642857142857143\n"
     ]
    }
   ],
   "source": [
    "nr_ar= yt_rfe_train['NR-AR']\n",
    "sig.fit(Xt_rfe_train, nr_ar)\n",
    "newtsaccuracy2= sig.score(Xt_rfe_test, yt_rfe_test['NR-AR'])\n",
    "print(\"The accuracy of the model is:\",newtsaccuracy2)"
   ]
  },
  {
   "cell_type": "markdown",
   "metadata": {},
   "source": [
    "#### SR-ARE"
   ]
  },
  {
   "cell_type": "code",
   "execution_count": 76,
   "metadata": {},
   "outputs": [
    {
     "name": "stdout",
     "output_type": "stream",
     "text": [
      "The accuracy of the model is: 0.8202947845804989\n"
     ]
    }
   ],
   "source": [
    "sr_are= yt_rfe_train['SR-ARE']\n",
    "sig.fit(Xt_rfe_train, sr_are)\n",
    "newtsaccuracy3= sig.score(Xt_rfe_test, yt_rfe_test['SR-ARE'])\n",
    "print(\"The accuracy of the model is:\",newtsaccuracy3)"
   ]
  },
  {
   "cell_type": "markdown",
   "metadata": {},
   "source": [
    "#### NR-Aromatase"
   ]
  },
  {
   "cell_type": "code",
   "execution_count": 77,
   "metadata": {},
   "outputs": [
    {
     "name": "stdout",
     "output_type": "stream",
     "text": [
      "The accuracy of the model is: 0.9271541950113379\n"
     ]
    }
   ],
   "source": [
    "nr_aromatase= yt_rfe_train['NR-Aromatase']\n",
    "sig.fit(Xt_rfe_train, nr_aromatase)\n",
    "newtsaccuracy4= sig.score(Xt_rfe_test, yt_rfe_test['NR-Aromatase'])\n",
    "print(\"The accuracy of the model is:\",newtsaccuracy4)"
   ]
  },
  {
   "cell_type": "markdown",
   "metadata": {},
   "source": [
    "#### NR-ER-LBD"
   ]
  },
  {
   "cell_type": "code",
   "execution_count": 78,
   "metadata": {},
   "outputs": [
    {
     "name": "stdout",
     "output_type": "stream",
     "text": [
      "The accuracy of the model is: 0.9387755102040817\n"
     ]
    }
   ],
   "source": [
    "nr_erlbd= yt_rfe_train['NR-ER-LBD']\n",
    "sig.fit(Xt_rfe_train, nr_erlbd)\n",
    "newtsaccuracy5= sig.score(Xt_rfe_test, yt_rfe_test['NR-ER-LBD'])\n",
    "print(\"The accuracy of the model is:\",newtsaccuracy5)"
   ]
  },
  {
   "cell_type": "markdown",
   "metadata": {},
   "source": [
    "#### NR-AhR"
   ]
  },
  {
   "cell_type": "code",
   "execution_count": 79,
   "metadata": {},
   "outputs": [
    {
     "name": "stdout",
     "output_type": "stream",
     "text": [
      "The accuracy of the model is: 0.8900226757369615\n"
     ]
    }
   ],
   "source": [
    "nr_ahr= yt_rfe_train['NR-AhR']\n",
    "sig.fit(Xt_rfe_train, nr_ahr)\n",
    "newtsaccuracy6= sig.score(Xt_rfe_test, yt_rfe_test['NR-AhR'])\n",
    "print(\"The accuracy of the model is:\",newtsaccuracy6)"
   ]
  },
  {
   "cell_type": "markdown",
   "metadata": {},
   "source": [
    "#### SR-MMP"
   ]
  },
  {
   "cell_type": "code",
   "execution_count": 80,
   "metadata": {},
   "outputs": [
    {
     "name": "stdout",
     "output_type": "stream",
     "text": [
      "The accuracy of the model is: 0.8594104308390023\n"
     ]
    }
   ],
   "source": [
    "sr_mmp= yt_rfe_train['SR-MMP']\n",
    "sig.fit(Xt_rfe_train, sr_mmp)\n",
    "newtsaccuracy7= sig.score(Xt_rfe_test, yt_rfe_test['SR-MMP'])\n",
    "print(\"The accuracy of the model is:\",newtsaccuracy7)"
   ]
  },
  {
   "cell_type": "markdown",
   "metadata": {},
   "source": [
    "#### NR-ER"
   ]
  },
  {
   "cell_type": "code",
   "execution_count": 81,
   "metadata": {},
   "outputs": [
    {
     "name": "stdout",
     "output_type": "stream",
     "text": [
      "The accuracy of the model is: 0.8837868480725624\n"
     ]
    }
   ],
   "source": [
    "nr_er= yt_rfe_train['NR-ER']\n",
    "sig.fit(Xt_rfe_train, nr_er)\n",
    "newtsaccuracy8= sig.score(Xt_rfe_test, yt_rfe_test['NR-ER'])\n",
    "print(\"The accuracy of the model is:\",newtsaccuracy8)"
   ]
  },
  {
   "cell_type": "markdown",
   "metadata": {},
   "source": [
    "#### NR-PPAR-gamma"
   ]
  },
  {
   "cell_type": "code",
   "execution_count": 82,
   "metadata": {},
   "outputs": [
    {
     "name": "stdout",
     "output_type": "stream",
     "text": [
      "The accuracy of the model is: 0.9702380952380952\n"
     ]
    }
   ],
   "source": [
    "nr_ppar= yt_rfe_train['NR-PPAR-gamma']\n",
    "sig.fit(Xt_rfe_train, nr_ppar)\n",
    "newtsaccuracy9= sig.score(Xt_rfe_test, yt_rfe_test['NR-PPAR-gamma'])\n",
    "print(\"The accuracy of the model is:\",newtsaccuracy9)"
   ]
  },
  {
   "cell_type": "markdown",
   "metadata": {},
   "source": [
    "#### SR-p53"
   ]
  },
  {
   "cell_type": "code",
   "execution_count": 83,
   "metadata": {},
   "outputs": [
    {
     "name": "stdout",
     "output_type": "stream",
     "text": [
      "The accuracy of the model is: 0.9271541950113379\n"
     ]
    }
   ],
   "source": [
    "sr_p53= yt_rfe_train['SR-p53']\n",
    "sig.fit(Xt_rfe_train, sr_p53)\n",
    "newtsaccuracy10= sig.score(Xt_rfe_test, yt_rfe_test['SR-p53'])\n",
    "print(\"The accuracy of the model is:\",newtsaccuracy10)"
   ]
  },
  {
   "cell_type": "markdown",
   "metadata": {},
   "source": [
    "#### SR-ATAD5"
   ]
  },
  {
   "cell_type": "code",
   "execution_count": 84,
   "metadata": {},
   "outputs": [
    {
     "name": "stdout",
     "output_type": "stream",
     "text": [
      "The accuracy of the model is: 0.9662698412698413\n"
     ]
    }
   ],
   "source": [
    "sr_atad5= yt_rfe_train['SR-ATAD5']\n",
    "sig.fit(Xt_rfe_train, sr_atad5)\n",
    "newtsaccuracy11= sig.score(Xt_rfe_test, yt_rfe_test['SR-ATAD5'])\n",
    "print(\"The accuracy of the model is:\",newtsaccuracy11)"
   ]
  },
  {
   "cell_type": "markdown",
   "metadata": {},
   "source": [
    "#### NR-AR-LBD"
   ]
  },
  {
   "cell_type": "code",
   "execution_count": 85,
   "metadata": {},
   "outputs": [
    {
     "name": "stdout",
     "output_type": "stream",
     "text": [
      "The accuracy of the model is: 0.9617346938775511\n"
     ]
    }
   ],
   "source": [
    "nr_arlbd= yt_rfe_train['NR-AR-LBD']\n",
    "sig.fit(Xt_rfe_train, nr_arlbd)\n",
    "newtsaccuracy12= sig.score(Xt_rfe_test, yt_rfe_test['NR-AR-LBD'])\n",
    "print(\"The accuracy of the model is:\",newtsaccuracy12)"
   ]
  },
  {
   "cell_type": "code",
   "execution_count": 86,
   "metadata": {},
   "outputs": [
    {
     "name": "stdout",
     "output_type": "stream",
     "text": [
      "\u001b[1mSVM SC Regression:\u001b[0m\n",
      "\u001b[1mBefore Feature Selection:\u001b[0m\n",
      "SR-HSE: \t 0.9455782312925171\n",
      "NR-AR: \t 0.969954648526077\n",
      "SR-ARE: \t 0.8398526077097506\n",
      "NR-Aromatase: \t 0.9390589569160998\n",
      "NR-ER-LBD: \t 0.9509637188208617\n",
      "NR-AhR: \t 0.9007936507936508\n",
      "SR-MMP: \t 0.8732993197278912\n",
      "NR-ER: \t 0.9024943310657596\n",
      "NR-PPAR-gamma: \t 0.9764739229024944\n",
      "SR-p53: \t 0.9362244897959183\n",
      "SR-ATAD5: \t 0.9682539682539683\n",
      "NR-AR-LBD: \t 0.9662698412698413\n",
      "Average: \t 0.9307681405895694\n",
      "------------------------------\n",
      "\n",
      "\u001b[1mAfter Feature Selection:\u001b[0m\n",
      "SR-HSE: \t 0.9305555555555556\n",
      "NR-AR: \t 0.9642857142857143\n",
      "SR-ARE: \t 0.8202947845804989\n",
      "NR-Aromatase: \t 0.9271541950113379\n",
      "NR-ER-LBD: \t 0.9387755102040817\n",
      "NR-AhR: \t 0.8900226757369615\n",
      "SR-MMP: \t 0.8594104308390023\n",
      "NR-ER: \t 0.8837868480725624\n",
      "NR-PPAR-gamma: \t 0.9702380952380952\n",
      "SR-p53: \t 0.9271541950113379\n",
      "SR-ATAD5: \t 0.9662698412698413\n",
      "NR-AR-LBD: \t 0.9617346938775511\n",
      "Average: \t 0.9199735449735451\n"
     ]
    }
   ],
   "source": [
    "print(\"\\033[1m\" + \"SVM SC Regression:\" + \"\\033[0m\")\n",
    "print(\"\\033[1m\" + \"Before Feature Selection:\" + \"\\033[0m\")\n",
    "print(\"SR-HSE: \\t\", tsaccuracy1)\n",
    "print(\"NR-AR: \\t\", tsaccuracy2)\n",
    "print(\"SR-ARE: \\t\", tsaccuracy3)\n",
    "print(\"NR-Aromatase: \\t\", tsaccuracy4)\n",
    "print(\"NR-ER-LBD: \\t\", tsaccuracy5)\n",
    "print(\"NR-AhR: \\t\", tsaccuracy6)\n",
    "print(\"SR-MMP: \\t\", tsaccuracy7)\n",
    "print(\"NR-ER: \\t\", tsaccuracy8)\n",
    "print(\"NR-PPAR-gamma: \\t\", tsaccuracy9)\n",
    "print(\"SR-p53: \\t\", tsaccuracy10)\n",
    "print(\"SR-ATAD5: \\t\", tsaccuracy11)\n",
    "print(\"NR-AR-LBD: \\t\", tsaccuracy12)\n",
    "print(\"Average: \\t\", (tsaccuracy1+tsaccuracy2+tsaccuracy3+tsaccuracy4+tsaccuracy5+tsaccuracy6+tsaccuracy7+tsaccuracy8+tsaccuracy9+tsaccuracy10+tsaccuracy11+tsaccuracy12)/12)\n",
    "print(\"------------------------------\\n\")\n",
    "print(\"\\033[1m\" + \"After Feature Selection:\" + \"\\033[0m\")\n",
    "print(\"SR-HSE: \\t\", newtsaccuracy1)\n",
    "print(\"NR-AR: \\t\", newtsaccuracy2)\n",
    "print(\"SR-ARE: \\t\", newtsaccuracy3)\n",
    "print(\"NR-Aromatase: \\t\", newtsaccuracy4)\n",
    "print(\"NR-ER-LBD: \\t\", newtsaccuracy5)\n",
    "print(\"NR-AhR: \\t\", newtsaccuracy6)\n",
    "print(\"SR-MMP: \\t\", newtsaccuracy7)\n",
    "print(\"NR-ER: \\t\", newtsaccuracy8)\n",
    "print(\"NR-PPAR-gamma: \\t\", newtsaccuracy9)\n",
    "print(\"SR-p53: \\t\", newtsaccuracy10)\n",
    "print(\"SR-ATAD5: \\t\", newtsaccuracy11)\n",
    "print(\"NR-AR-LBD: \\t\", newtsaccuracy12)\n",
    "print(\"Average: \\t\", (newtsaccuracy1+newtsaccuracy2+newtsaccuracy3+newtsaccuracy4+newtsaccuracy5+newtsaccuracy6+newtsaccuracy7+newtsaccuracy8+newtsaccuracy9+newtsaccuracy10+newtsaccuracy11+newtsaccuracy12)/12)"
   ]
  },
  {
   "cell_type": "markdown",
   "metadata": {},
   "source": [
    "### Re-training Neural Network"
   ]
  },
  {
   "cell_type": "markdown",
   "metadata": {},
   "source": [
    "Using features from **RFE**"
   ]
  },
  {
   "cell_type": "code",
   "execution_count": null,
   "metadata": {},
   "outputs": [],
   "source": [
    "Xt_rfe_train,Xt_rfe_test,yt_rfe_train,yt_rfe_test"
   ]
  },
  {
   "cell_type": "code",
   "execution_count": 90,
   "metadata": {},
   "outputs": [
    {
     "name": "stdout",
     "output_type": "stream",
     "text": [
      "Executing op VarHandleOp in device /job:localhost/replica:0/task:0/device:GPU:0\n"
     ]
    }
   ],
   "source": [
    "from tensorflow import keras\n",
    "from tensorflow.keras import layers\n",
    "newmorganmodel = keras.Sequential(\n",
    "    [\n",
    "        layers.Embedding(len(Xm_train),128,name=\"embedding_layer\", input_length= len(Xt_rfe_train.iloc[0])),\n",
    "        layers.Dense(1300, activation=\"relu\"),\n",
    "        #layers.Dense(3, activation=\"relu\"),\n",
    "        layers.Flatten(),\n",
    "        layers.Dropout(0.5),\n",
    "        layers.Dense(12,activation='sigmoid', name=\"Output_layer\"),\n",
    "    ]\n",
    ")"
   ]
  },
  {
   "cell_type": "code",
   "execution_count": 91,
   "metadata": {},
   "outputs": [
    {
     "name": "stdout",
     "output_type": "stream",
     "text": [
      "Model: \"sequential_1\"\n",
      "_________________________________________________________________\n",
      "Layer (type)                 Output Shape              Param #   \n",
      "=================================================================\n",
      "embedding_layer (Embedding)  (None, 100, 128)          1053440   \n",
      "_________________________________________________________________\n",
      "dense_1 (Dense)              (None, 100, 1300)         167700    \n",
      "_________________________________________________________________\n",
      "flatten_1 (Flatten)          (None, 130000)            0         \n",
      "_________________________________________________________________\n",
      "dropout_1 (Dropout)          (None, 130000)            0         \n",
      "_________________________________________________________________\n",
      "Output_layer (Dense)         (None, 12)                1560012   \n",
      "=================================================================\n",
      "Total params: 2,781,152\n",
      "Trainable params: 2,781,152\n",
      "Non-trainable params: 0\n",
      "_________________________________________________________________\n",
      "Executing op RangeDataset in device /job:localhost/replica:0/task:0/device:CPU:0\n",
      "Executing op RepeatDataset in device /job:localhost/replica:0/task:0/device:CPU:0\n",
      "Executing op MapDataset in device /job:localhost/replica:0/task:0/device:CPU:0\n",
      "Executing op PrefetchDataset in device /job:localhost/replica:0/task:0/device:CPU:0\n",
      "Executing op FlatMapDataset in device /job:localhost/replica:0/task:0/device:CPU:0\n",
      "Executing op TensorDataset in device /job:localhost/replica:0/task:0/device:CPU:0\n",
      "Executing op RepeatDataset in device /job:localhost/replica:0/task:0/device:CPU:0\n",
      "Executing op ZipDataset in device /job:localhost/replica:0/task:0/device:CPU:0\n",
      "Executing op ParallelMapDataset in device /job:localhost/replica:0/task:0/device:CPU:0\n",
      "Executing op ModelDataset in device /job:localhost/replica:0/task:0/device:CPU:0\n",
      "Executing op AnonymousIteratorV2 in device /job:localhost/replica:0/task:0/device:CPU:0\n",
      "Epoch 1/10\n",
      "Executing op VarHandleOp in device /job:localhost/replica:0/task:0/device:GPU:0\n",
      "Executing op VarHandleOp in device /job:localhost/replica:0/task:0/device:GPU:0\n",
      "Executing op VarHandleOp in device /job:localhost/replica:0/task:0/device:GPU:0\n",
      "Executing op VarHandleOp in device /job:localhost/replica:0/task:0/device:GPU:0\n",
      "Executing op VarHandleOp in device /job:localhost/replica:0/task:0/device:GPU:0\n",
      "Executing op VarHandleOp in device /job:localhost/replica:0/task:0/device:CPU:0\n",
      "Executing op VarHandleOp in device /job:localhost/replica:0/task:0/device:GPU:0\n",
      "Executing op VarHandleOp in device /job:localhost/replica:0/task:0/device:GPU:0\n",
      "Executing op VarHandleOp in device /job:localhost/replica:0/task:0/device:GPU:0\n",
      "Executing op VarHandleOp in device /job:localhost/replica:0/task:0/device:GPU:0\n",
      "Executing op VarHandleOp in device /job:localhost/replica:0/task:0/device:CPU:0\n",
      "Executing op VarHandleOp in device /job:localhost/replica:0/task:0/device:GPU:0\n",
      "Executing op VarHandleOp in device /job:localhost/replica:0/task:0/device:GPU:0\n",
      "Executing op VarHandleOp in device /job:localhost/replica:0/task:0/device:GPU:0\n",
      "Executing op VarHandleOp in device /job:localhost/replica:0/task:0/device:GPU:0\n",
      "Executing op VarHandleOp in device /job:localhost/replica:0/task:0/device:GPU:0\n",
      "Executing op VarHandleOp in device /job:localhost/replica:0/task:0/device:GPU:0\n",
      "Executing op __inference_train_function_1464117 in device /job:localhost/replica:0/task:0/device:GPU:0\n",
      "Epoch 2/10\n",
      "Epoch 3/10\n",
      "Epoch 4/10\n",
      "Epoch 5/10\n",
      "Epoch 6/10\n",
      "Epoch 7/10\n",
      "Epoch 8/10\n",
      "Epoch 9/10\n",
      "Epoch 10/10\n"
     ]
    },
    {
     "data": {
      "text/plain": [
       "<tensorflow.python.keras.callbacks.History at 0x7eff404da610>"
      ]
     },
     "execution_count": 91,
     "metadata": {},
     "output_type": "execute_result"
    }
   ],
   "source": [
    "newmorganmodel.summary()\n",
    "\n",
    "#compile and fit the model\n",
    "newmorganmodel.compile(optimizer='adam', loss='binary_crossentropy', metrics=['accuracy'])\n",
    "\n",
    "#fit to model\n",
    "newmorganmodel.fit(Xt_rfe_train, yt_rfe_train, epochs=10, batch_size=48, verbose=0.1)"
   ]
  },
  {
   "cell_type": "code",
   "execution_count": 92,
   "metadata": {},
   "outputs": [
    {
     "name": "stdout",
     "output_type": "stream",
     "text": [
      "Executing op RangeDataset in device /job:localhost/replica:0/task:0/device:CPU:0\n",
      "Executing op RepeatDataset in device /job:localhost/replica:0/task:0/device:CPU:0\n",
      "Executing op MapDataset in device /job:localhost/replica:0/task:0/device:CPU:0\n",
      "Executing op PrefetchDataset in device /job:localhost/replica:0/task:0/device:CPU:0\n",
      "Executing op FlatMapDataset in device /job:localhost/replica:0/task:0/device:CPU:0\n",
      "Executing op TensorDataset in device /job:localhost/replica:0/task:0/device:CPU:0\n",
      "Executing op RepeatDataset in device /job:localhost/replica:0/task:0/device:CPU:0\n",
      "Executing op ZipDataset in device /job:localhost/replica:0/task:0/device:CPU:0\n",
      "Executing op ParallelMapDataset in device /job:localhost/replica:0/task:0/device:CPU:0\n",
      "Executing op ModelDataset in device /job:localhost/replica:0/task:0/device:CPU:0\n",
      "Executing op AnonymousIteratorV2 in device /job:localhost/replica:0/task:0/device:CPU:0\n",
      "Executing op __inference_predict_function_1467695 in device /job:localhost/replica:0/task:0/device:GPU:0\n",
      "The accuracy for the training set is:  0.9364216281895504\n"
     ]
    }
   ],
   "source": [
    "#using model.predict to do thresholding\n",
    "newmorganpred = newmorganmodel.predict(Xt_rfe_train)\n",
    "newmorganpred= tf.dtypes.cast(newmorganpred>= 0.5, tf.int64)\n",
    "\n",
    "#for training data\n",
    "count=0\n",
    "for i in range(len(yt_rfe_train)):\n",
    "    a= (yt_rfe_train.iloc[i]==newmorganpred[i])\n",
    "    for j in range(len(a)):\n",
    "        if (yt_rfe_train.iloc[i][j]==newmorganpred[i][j]):\n",
    "            count= count+1\n",
    "print(\"The accuracy for the training set is: \",(count)/(len(yt_rfe_train)*12))"
   ]
  },
  {
   "cell_type": "code",
   "execution_count": 94,
   "metadata": {},
   "outputs": [
    {
     "name": "stdout",
     "output_type": "stream",
     "text": [
      "Executing op RangeDataset in device /job:localhost/replica:0/task:0/device:CPU:0\n",
      "Executing op RepeatDataset in device /job:localhost/replica:0/task:0/device:CPU:0\n",
      "Executing op MapDataset in device /job:localhost/replica:0/task:0/device:CPU:0\n",
      "Executing op PrefetchDataset in device /job:localhost/replica:0/task:0/device:CPU:0\n",
      "Executing op FlatMapDataset in device /job:localhost/replica:0/task:0/device:CPU:0\n",
      "Executing op TensorDataset in device /job:localhost/replica:0/task:0/device:CPU:0\n",
      "Executing op RepeatDataset in device /job:localhost/replica:0/task:0/device:CPU:0\n",
      "Executing op ZipDataset in device /job:localhost/replica:0/task:0/device:CPU:0\n",
      "Executing op ParallelMapDataset in device /job:localhost/replica:0/task:0/device:CPU:0\n",
      "Executing op ModelDataset in device /job:localhost/replica:0/task:0/device:CPU:0\n",
      "The accuracy for test score is:  0.9355867346938775\n"
     ]
    }
   ],
   "source": [
    "newmorganpredtest= newmorganmodel.predict(Xt_rfe_test)\n",
    "newmorganpredtest= tf.dtypes.cast(newmorganpredtest>= 0.5, tf.int64)\n",
    "count=0\n",
    "for i in range(len(yt_rfe_test)):\n",
    "    a= (yt_rfe_test.iloc[i]==newmorganpredtest[i])\n",
    "    for j in range(len(a)):\n",
    "        if (yt_rfe_test.iloc[i][j]==newmorganpredtest[i][j]):\n",
    "            count= count+1\n",
    "print(\"The accuracy for test score is: \", count/(len(yt_rfe_test)*12))"
   ]
  },
  {
   "cell_type": "code",
   "execution_count": 96,
   "metadata": {},
   "outputs": [
    {
     "name": "stdout",
     "output_type": "stream",
     "text": [
      "Executing op RangeDataset in device /job:localhost/replica:0/task:0/device:CPU:0\n",
      "Executing op RepeatDataset in device /job:localhost/replica:0/task:0/device:CPU:0\n",
      "Executing op MapDataset in device /job:localhost/replica:0/task:0/device:CPU:0\n",
      "Executing op PrefetchDataset in device /job:localhost/replica:0/task:0/device:CPU:0\n",
      "Executing op FlatMapDataset in device /job:localhost/replica:0/task:0/device:CPU:0\n",
      "Executing op TensorDataset in device /job:localhost/replica:0/task:0/device:CPU:0\n",
      "Executing op RepeatDataset in device /job:localhost/replica:0/task:0/device:CPU:0\n",
      "Executing op ZipDataset in device /job:localhost/replica:0/task:0/device:CPU:0\n",
      "Executing op ParallelMapDataset in device /job:localhost/replica:0/task:0/device:CPU:0\n",
      "Executing op ModelDataset in device /job:localhost/replica:0/task:0/device:CPU:0\n",
      "Executing op __inference_test_function_3364023 in device /job:localhost/replica:0/task:0/device:GPU:0\n",
      "28/28 [==============================] - 0s 6ms/step - loss: 0.2089 - accuracy: 0.1015\n"
     ]
    },
    {
     "data": {
      "text/plain": [
       "0.20894809067249298"
      ]
     },
     "execution_count": 96,
     "metadata": {},
     "output_type": "execute_result"
    }
   ],
   "source": [
    "loss, acc= newmorganmodel.evaluate(Xt_rfe_test, yt_rfe_test, batch_size=128)\n",
    "loss"
   ]
  },
  {
   "cell_type": "code",
   "execution_count": null,
   "metadata": {},
   "outputs": [],
   "source": []
  },
  {
   "cell_type": "markdown",
   "metadata": {},
   "source": [
    "---"
   ]
  }
 ],
 "metadata": {
  "kernelspec": {
   "display_name": "Python 3",
   "language": "python",
   "name": "python3"
  },
  "language_info": {
   "codemirror_mode": {
    "name": "ipython",
    "version": 3
   },
   "file_extension": ".py",
   "mimetype": "text/x-python",
   "name": "python",
   "nbconvert_exporter": "python",
   "pygments_lexer": "ipython3",
   "version": "3.7.7"
  }
 },
 "nbformat": 4,
 "nbformat_minor": 4
}
