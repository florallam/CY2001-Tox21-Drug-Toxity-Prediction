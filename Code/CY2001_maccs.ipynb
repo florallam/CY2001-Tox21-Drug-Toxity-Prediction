{
 "cells": [
  {
   "cell_type": "code",
   "execution_count": 2,
   "metadata": {},
   "outputs": [
    {
     "name": "stdout",
     "output_type": "stream",
     "text": [
      "2.2.0\n",
      "Num GPUs Available:  1\n",
      "Executing op MatMul in device /job:localhost/replica:0/task:0/device:GPU:0\n",
      "tf.Tensor(\n",
      "[[22. 28.]\n",
      " [49. 64.]], shape=(2, 2), dtype=float32)\n"
     ]
    }
   ],
   "source": [
    "#gpu stuff and testing\n",
    "import os\n",
    "os.environ[\"CUDA_DEVICE_ORDER\"]= \"PCI_BUS_ID\"\n",
    "os.environ[\"CUDA_VISIBLE_DEVICES\"]= \"0\"\n",
    "##############################################\n",
    "import tensorflow as tf\n",
    "print(tf.__version__)\n",
    "print(\"Num GPUs Available: \", len(tf.config.experimental.list_physical_devices('GPU')))\n",
    "##############################################\n",
    "tf.debugging.set_log_device_placement(True)\n",
    "\n",
    "# Create some tensors\n",
    "a = tf.constant([[1.0, 2.0, 3.0], [4.0, 5.0, 6.0]])\n",
    "b = tf.constant([[1.0, 2.0], [3.0, 4.0], [5.0, 6.0]])\n",
    "c = tf.matmul(a, b)\n",
    "\n",
    "print(c)"
   ]
  },
  {
   "cell_type": "code",
   "execution_count": 3,
   "metadata": {},
   "outputs": [],
   "source": [
    "import pandas as pd\n",
    "import numpy as np"
   ]
  },
  {
   "cell_type": "markdown",
   "metadata": {},
   "source": [
    "# Getting to business!"
   ]
  },
  {
   "cell_type": "markdown",
   "metadata": {},
   "source": [
    "## Neural Network"
   ]
  },
  {
   "cell_type": "markdown",
   "metadata": {},
   "source": [
    "### MACCS"
   ]
  },
  {
   "cell_type": "code",
   "execution_count": 5,
   "metadata": {},
   "outputs": [],
   "source": [
    "#reshape maccs data\n",
    "Xmac= pd.read_csv('../Data/maccscolumns.csv')\n",
    "file= pd.read_csv('../Data/tox21mice_duplicate.csv')\n",
    "y=file[['SR-HSE', 'NR-AR','SR-ARE', 'NR-Aromatase', 'NR-ER-LBD', 'NR-AhR', 'SR-MMP', 'NR-ER','NR-PPAR-gamma', 'SR-p53', 'SR-ATAD5', 'NR-AR-LBD']]\n",
    "\n",
    "#splitting into train and test data\n",
    "from sklearn.model_selection import train_test_split\n",
    "Xmac_train, Xmac_test, y_train, y_test = train_test_split(Xmac, y, test_size = 0.3, random_state = 21)\n",
    "Xmac_train_reshape= Xmac_train.astype(\"float32\")\n",
    "Xmac_test_reshape= Xmac_test.astype(\"float32\")"
   ]
  },
  {
   "cell_type": "code",
   "execution_count": 6,
   "metadata": {},
   "outputs": [
    {
     "data": {
      "text/plain": [
       "8230"
      ]
     },
     "execution_count": 6,
     "metadata": {},
     "output_type": "execute_result"
    }
   ],
   "source": [
    "len(Xmac_train)"
   ]
  },
  {
   "cell_type": "code",
   "execution_count": 9,
   "metadata": {},
   "outputs": [
    {
     "name": "stdout",
     "output_type": "stream",
     "text": [
      "Executing op RandomUniform in device /job:localhost/replica:0/task:0/device:CPU:0\n",
      "Executing op Sub in device /job:localhost/replica:0/task:0/device:CPU:0\n",
      "Executing op Mul in device /job:localhost/replica:0/task:0/device:CPU:0\n",
      "Executing op Add in device /job:localhost/replica:0/task:0/device:CPU:0\n",
      "Executing op VarHandleOp in device /job:localhost/replica:0/task:0/device:CPU:0\n",
      "Executing op VarIsInitializedOp in device /job:localhost/replica:0/task:0/device:CPU:0\n",
      "Executing op LogicalNot in device /job:localhost/replica:0/task:0/device:CPU:0\n",
      "Executing op Assert in device /job:localhost/replica:0/task:0/device:CPU:0\n",
      "Executing op AssignVariableOp in device /job:localhost/replica:0/task:0/device:CPU:0\n",
      "Executing op RandomUniform in device /job:localhost/replica:0/task:0/device:GPU:0\n",
      "Executing op Sub in device /job:localhost/replica:0/task:0/device:GPU:0\n",
      "Executing op Mul in device /job:localhost/replica:0/task:0/device:GPU:0\n",
      "Executing op Add in device /job:localhost/replica:0/task:0/device:GPU:0\n",
      "Executing op VarHandleOp in device /job:localhost/replica:0/task:0/device:GPU:0\n",
      "Executing op VarIsInitializedOp in device /job:localhost/replica:0/task:0/device:GPU:0\n",
      "Executing op LogicalNot in device /job:localhost/replica:0/task:0/device:GPU:0\n",
      "Executing op Assert in device /job:localhost/replica:0/task:0/device:GPU:0\n",
      "Executing op AssignVariableOp in device /job:localhost/replica:0/task:0/device:GPU:0\n",
      "Executing op Fill in device /job:localhost/replica:0/task:0/device:GPU:0\n",
      "Executing op VarHandleOp in device /job:localhost/replica:0/task:0/device:GPU:0\n",
      "Executing op VarHandleOp in device /job:localhost/replica:0/task:0/device:GPU:0\n",
      "Executing op VarHandleOp in device /job:localhost/replica:0/task:0/device:GPU:0\n"
     ]
    }
   ],
   "source": [
    "from tensorflow import keras\n",
    "from tensorflow.keras import layers\n",
    "macmodel = keras.Sequential(\n",
    "    [\n",
    "        layers.Embedding(len(Xmac_train),128,name=\"embedding_layer\", input_length= len(Xmac.iloc[0])),\n",
    "        layers.Dense(1300, activation=\"relu\"),\n",
    "        #layers.Dense(3, activation=\"relu\"),\n",
    "        layers.Flatten(),\n",
    "        layers.Dropout(0.5),\n",
    "        layers.Dense(12,activation='sigmoid', name=\"Output_layer\"),\n",
    "    ]\n",
    ")"
   ]
  },
  {
   "cell_type": "code",
   "execution_count": 10,
   "metadata": {},
   "outputs": [
    {
     "name": "stdout",
     "output_type": "stream",
     "text": [
      "Model: \"sequential\"\n",
      "_________________________________________________________________\n",
      "Layer (type)                 Output Shape              Param #   \n",
      "=================================================================\n",
      "embedding_layer (Embedding)  (None, 167, 128)          1053440   \n",
      "_________________________________________________________________\n",
      "dense (Dense)                (None, 167, 1300)         167700    \n",
      "_________________________________________________________________\n",
      "flatten (Flatten)            (None, 217100)            0         \n",
      "_________________________________________________________________\n",
      "dropout (Dropout)            (None, 217100)            0         \n",
      "_________________________________________________________________\n",
      "Output_layer (Dense)         (None, 12)                2605212   \n",
      "=================================================================\n",
      "Total params: 3,826,352\n",
      "Trainable params: 3,826,352\n",
      "Non-trainable params: 0\n",
      "_________________________________________________________________\n",
      "Executing op VarHandleOp in device /job:localhost/replica:0/task:0/device:GPU:0\n",
      "Executing op RangeDataset in device /job:localhost/replica:0/task:0/device:CPU:0\n",
      "Executing op RepeatDataset in device /job:localhost/replica:0/task:0/device:CPU:0\n",
      "Executing op MapDataset in device /job:localhost/replica:0/task:0/device:CPU:0\n",
      "Executing op PrefetchDataset in device /job:localhost/replica:0/task:0/device:CPU:0\n",
      "Executing op FlatMapDataset in device /job:localhost/replica:0/task:0/device:CPU:0\n",
      "Executing op TensorDataset in device /job:localhost/replica:0/task:0/device:CPU:0\n",
      "Executing op RepeatDataset in device /job:localhost/replica:0/task:0/device:CPU:0\n",
      "Executing op ZipDataset in device /job:localhost/replica:0/task:0/device:CPU:0\n",
      "Executing op ParallelMapDataset in device /job:localhost/replica:0/task:0/device:CPU:0\n",
      "Executing op ModelDataset in device /job:localhost/replica:0/task:0/device:CPU:0\n",
      "Executing op AnonymousIteratorV2 in device /job:localhost/replica:0/task:0/device:CPU:0\n",
      "Executing op MakeIterator in device /job:localhost/replica:0/task:0/device:CPU:0\n",
      "Epoch 1/10\n",
      "Executing op Fill in device /job:localhost/replica:0/task:0/device:GPU:0\n",
      "Executing op VarHandleOp in device /job:localhost/replica:0/task:0/device:GPU:0\n",
      "Executing op AssignVariableOp in device /job:localhost/replica:0/task:0/device:GPU:0\n",
      "Executing op VarHandleOp in device /job:localhost/replica:0/task:0/device:GPU:0\n",
      "Executing op VarHandleOp in device /job:localhost/replica:0/task:0/device:GPU:0\n",
      "Executing op VarHandleOp in device /job:localhost/replica:0/task:0/device:GPU:0\n",
      "Executing op VarHandleOp in device /job:localhost/replica:0/task:0/device:GPU:0\n",
      "Executing op VarHandleOp in device /job:localhost/replica:0/task:0/device:CPU:0\n",
      "Executing op VarHandleOp in device /job:localhost/replica:0/task:0/device:GPU:0\n",
      "Executing op LogicalNot in device /job:localhost/replica:0/task:0/device:GPU:0\n",
      "Executing op Assert in device /job:localhost/replica:0/task:0/device:GPU:0\n",
      "Executing op VarHandleOp in device /job:localhost/replica:0/task:0/device:GPU:0\n",
      "Executing op VarHandleOp in device /job:localhost/replica:0/task:0/device:GPU:0\n",
      "Executing op VarHandleOp in device /job:localhost/replica:0/task:0/device:GPU:0\n",
      "Executing op VarHandleOp in device /job:localhost/replica:0/task:0/device:CPU:0\n",
      "Executing op VarHandleOp in device /job:localhost/replica:0/task:0/device:GPU:0\n",
      "Executing op VarHandleOp in device /job:localhost/replica:0/task:0/device:GPU:0\n",
      "Executing op VarHandleOp in device /job:localhost/replica:0/task:0/device:GPU:0\n",
      "Executing op VarHandleOp in device /job:localhost/replica:0/task:0/device:GPU:0\n",
      "Executing op VarHandleOp in device /job:localhost/replica:0/task:0/device:GPU:0\n",
      "Executing op VarHandleOp in device /job:localhost/replica:0/task:0/device:GPU:0\n",
      "Executing op __inference_train_function_950 in device /job:localhost/replica:0/task:0/device:GPU:0\n",
      "Epoch 2/10\n",
      "Epoch 3/10\n",
      "Epoch 4/10\n",
      "Epoch 5/10\n",
      "Epoch 6/10\n",
      "Epoch 7/10\n",
      "Epoch 8/10\n",
      "Epoch 9/10\n",
      "Epoch 10/10\n",
      "Executing op DeleteIterator in device /job:localhost/replica:0/task:0/device:CPU:0\n"
     ]
    },
    {
     "data": {
      "text/plain": [
       "<tensorflow.python.keras.callbacks.History at 0x7fece45b2f40>"
      ]
     },
     "execution_count": 10,
     "metadata": {},
     "output_type": "execute_result"
    }
   ],
   "source": [
    "macmodel.summary()\n",
    "\n",
    "#compile and fit the model\n",
    "macmodel.compile(optimizer='adam', loss='binary_crossentropy', metrics=['accuracy'])\n",
    "\n",
    "#fit to model\n",
    "macmodel.fit(Xmac_train_reshape, y_train, epochs=10, batch_size=48, verbose=0.1)"
   ]
  },
  {
   "cell_type": "code",
   "execution_count": 11,
   "metadata": {},
   "outputs": [
    {
     "name": "stdout",
     "output_type": "stream",
     "text": [
      "Executing op RangeDataset in device /job:localhost/replica:0/task:0/device:CPU:0\n",
      "Executing op RepeatDataset in device /job:localhost/replica:0/task:0/device:CPU:0\n",
      "Executing op MapDataset in device /job:localhost/replica:0/task:0/device:CPU:0\n",
      "Executing op PrefetchDataset in device /job:localhost/replica:0/task:0/device:CPU:0\n",
      "Executing op FlatMapDataset in device /job:localhost/replica:0/task:0/device:CPU:0\n",
      "Executing op TensorDataset in device /job:localhost/replica:0/task:0/device:CPU:0\n",
      "Executing op RepeatDataset in device /job:localhost/replica:0/task:0/device:CPU:0\n",
      "Executing op ZipDataset in device /job:localhost/replica:0/task:0/device:CPU:0\n",
      "Executing op ParallelMapDataset in device /job:localhost/replica:0/task:0/device:CPU:0\n",
      "Executing op ModelDataset in device /job:localhost/replica:0/task:0/device:CPU:0\n",
      "Executing op AnonymousIteratorV2 in device /job:localhost/replica:0/task:0/device:CPU:0\n",
      "Executing op __inference_predict_function_4527 in device /job:localhost/replica:0/task:0/device:GPU:0\n",
      "Executing op ConcatV2 in device /job:localhost/replica:0/task:0/device:GPU:0\n",
      "Executing op Cast in device /job:localhost/replica:0/task:0/device:GPU:0\n",
      "Executing op StridedSlice in device /job:localhost/replica:0/task:0/device:GPU:0\n",
      "Executing op Equal in device /job:localhost/replica:0/task:0/device:GPU:0\n",
      "The accuracy for the training set is:  0.9390542729850142\n"
     ]
    }
   ],
   "source": [
    "#using model.predict to do thresholding\n",
    "macpred = macmodel.predict(Xmac_train_reshape)\n",
    "macpred= tf.dtypes.cast(macpred>= 0.5, tf.int64)\n",
    "\n",
    "#for training data\n",
    "count=0\n",
    "for i in range(len(y_train)):\n",
    "    a= (y_train.iloc[i]==macpred[i])\n",
    "    for j in range(len(a)):\n",
    "        if (y_train.iloc[i][j]==macpred[i][j]):\n",
    "            count= count+1\n",
    "print(\"The accuracy for the training set is: \",(count)/(len(y_train)*12))"
   ]
  },
  {
   "cell_type": "code",
   "execution_count": 12,
   "metadata": {},
   "outputs": [
    {
     "name": "stdout",
     "output_type": "stream",
     "text": [
      "Executing op RangeDataset in device /job:localhost/replica:0/task:0/device:CPU:0\n",
      "Executing op RepeatDataset in device /job:localhost/replica:0/task:0/device:CPU:0\n",
      "Executing op MapDataset in device /job:localhost/replica:0/task:0/device:CPU:0\n",
      "Executing op PrefetchDataset in device /job:localhost/replica:0/task:0/device:CPU:0\n",
      "Executing op FlatMapDataset in device /job:localhost/replica:0/task:0/device:CPU:0\n",
      "Executing op TensorDataset in device /job:localhost/replica:0/task:0/device:CPU:0\n",
      "Executing op RepeatDataset in device /job:localhost/replica:0/task:0/device:CPU:0\n",
      "Executing op ZipDataset in device /job:localhost/replica:0/task:0/device:CPU:0\n",
      "Executing op ParallelMapDataset in device /job:localhost/replica:0/task:0/device:CPU:0\n",
      "Executing op ModelDataset in device /job:localhost/replica:0/task:0/device:CPU:0\n",
      "Executing op ConcatV2 in device /job:localhost/replica:0/task:0/device:GPU:0\n",
      "The accuracy for test score is:  0.9333427815570673\n"
     ]
    }
   ],
   "source": [
    "#for test set\n",
    "macpredtest= macmodel.predict(Xmac_test_reshape)\n",
    "macpredtest= tf.dtypes.cast(macpredtest>= 0.5, tf.int64)\n",
    "count=0\n",
    "for i in range(len(y_test)):\n",
    "    a= (y_test.iloc[i]==macpredtest[i])\n",
    "    for j in range(len(a)):\n",
    "        if (y_test.iloc[i][j]==macpredtest[i][j]):\n",
    "            count= count+1\n",
    "print(\"The accuracy for test score is: \", count/(len(y_test)*12))"
   ]
  },
  {
   "cell_type": "code",
   "execution_count": 13,
   "metadata": {},
   "outputs": [
    {
     "name": "stdout",
     "output_type": "stream",
     "text": [
      "Executing op RangeDataset in device /job:localhost/replica:0/task:0/device:CPU:0\n",
      "Executing op RepeatDataset in device /job:localhost/replica:0/task:0/device:CPU:0\n",
      "Executing op MapDataset in device /job:localhost/replica:0/task:0/device:CPU:0\n",
      "Executing op PrefetchDataset in device /job:localhost/replica:0/task:0/device:CPU:0\n",
      "Executing op FlatMapDataset in device /job:localhost/replica:0/task:0/device:CPU:0\n",
      "Executing op TensorDataset in device /job:localhost/replica:0/task:0/device:CPU:0\n",
      "Executing op RepeatDataset in device /job:localhost/replica:0/task:0/device:CPU:0\n",
      "Executing op ZipDataset in device /job:localhost/replica:0/task:0/device:CPU:0\n",
      "Executing op ParallelMapDataset in device /job:localhost/replica:0/task:0/device:CPU:0\n",
      "Executing op ModelDataset in device /job:localhost/replica:0/task:0/device:CPU:0\n",
      "Executing op __inference_test_function_1463115 in device /job:localhost/replica:0/task:0/device:GPU:0\n",
      "28/28 [==============================] - 0s 8ms/step - loss: 0.1982 - accuracy: 0.1363\n"
     ]
    },
    {
     "data": {
      "text/plain": [
       "0.19823606312274933"
      ]
     },
     "execution_count": 13,
     "metadata": {},
     "output_type": "execute_result"
    }
   ],
   "source": [
    "loss, acc= macmodel.evaluate(Xmac_test_reshape, y_test, batch_size=128)\n",
    "loss"
   ]
  },
  {
   "cell_type": "markdown",
   "metadata": {},
   "source": [
    "### Random Forest"
   ]
  },
  {
   "cell_type": "code",
   "execution_count": 14,
   "metadata": {},
   "outputs": [],
   "source": [
    "from sklearn.ensemble import RandomForestClassifier"
   ]
  },
  {
   "cell_type": "code",
   "execution_count": 15,
   "metadata": {},
   "outputs": [],
   "source": [
    "Xm_test= Xmac_test\n",
    "Xm_train= Xmac_train"
   ]
  },
  {
   "cell_type": "code",
   "execution_count": 16,
   "metadata": {},
   "outputs": [
    {
     "name": "stdout",
     "output_type": "stream",
     "text": [
      "The number of wrongly predicted data is:\n",
      " SR-HSE           174\n",
      "NR-AR            122\n",
      "SR-ARE           492\n",
      "NR-Aromatase     214\n",
      "NR-ER-LBD        154\n",
      "NR-AhR           323\n",
      "SR-MMP           383\n",
      "NR-ER            343\n",
      "NR-PPAR-gamma     81\n",
      "SR-p53           216\n",
      "SR-ATAD5          99\n",
      "NR-AR-LBD        113\n",
      "dtype: int64\n",
      "The accuracy of random forest is:\n",
      " SR-HSE           0.950680\n",
      "NR-AR            0.965420\n",
      "SR-ARE           0.860544\n",
      "NR-Aromatase     0.939342\n",
      "NR-ER-LBD        0.956349\n",
      "NR-AhR           0.908447\n",
      "SR-MMP           0.891440\n",
      "NR-ER            0.902778\n",
      "NR-PPAR-gamma    0.977041\n",
      "SR-p53           0.938776\n",
      "SR-ATAD5         0.971939\n",
      "NR-AR-LBD        0.967971\n",
      "dtype: float64\n"
     ]
    }
   ],
   "source": [
    "#X_topo_train, X_topo_test, y_train, y_test = train_test_split(X, y, test_size = 0.3, random_state = 21)\n",
    "classifier = RandomForestClassifier(n_estimators = 100, criterion = 'entropy', random_state = 42)\n",
    "classifier.fit(Xm_train, y_train)\n",
    "predict= classifier.predict(Xm_test)\n",
    "count_misclassified = (y_test != predict).sum()\n",
    "print(\"The number of wrongly predicted data is:\\n\",count_misclassified)\n",
    "rfaccuracy_maccs= 1-(count_misclassified/len(y_test))\n",
    "print(\"The accuracy of random forest is:\\n\", rfaccuracy_maccs)"
   ]
  },
  {
   "cell_type": "markdown",
   "metadata": {},
   "source": [
    "### Logistic Regression"
   ]
  },
  {
   "cell_type": "markdown",
   "metadata": {},
   "source": [
    "#### SR-HSE"
   ]
  },
  {
   "cell_type": "code",
   "execution_count": 17,
   "metadata": {},
   "outputs": [
    {
     "name": "stdout",
     "output_type": "stream",
     "text": [
      "The accuracy of the model is: 0.9492630385487528\n"
     ]
    }
   ],
   "source": [
    "from sklearn.linear_model import LogisticRegression\n",
    "sr_hse= y_train['SR-HSE']\n",
    "lm = LogisticRegression(multi_class='ovr', solver='liblinear')\n",
    "lm.fit(Xm_train, sr_hse)\n",
    "taccuracy1= lm.score(Xm_test, y_test['SR-HSE'])\n",
    "print(\"The accuracy of the model is:\",taccuracy1)"
   ]
  },
  {
   "cell_type": "markdown",
   "metadata": {},
   "source": [
    "#### NR-AR "
   ]
  },
  {
   "cell_type": "code",
   "execution_count": 18,
   "metadata": {},
   "outputs": [
    {
     "name": "stdout",
     "output_type": "stream",
     "text": [
      "The accuracy of the model is: 0.9688208616780045\n"
     ]
    }
   ],
   "source": [
    "nr_ar= y_train['NR-AR']\n",
    "lm.fit(Xm_train, nr_ar)\n",
    "taccuracy2= lm.score(Xm_test, y_test['NR-AR'])\n",
    "print(\"The accuracy of the model is:\",taccuracy2)"
   ]
  },
  {
   "cell_type": "markdown",
   "metadata": {},
   "source": [
    "#### SR-ARE"
   ]
  },
  {
   "cell_type": "code",
   "execution_count": 19,
   "metadata": {},
   "outputs": [
    {
     "name": "stdout",
     "output_type": "stream",
     "text": [
      "The accuracy of the model is: 0.8463718820861678\n"
     ]
    }
   ],
   "source": [
    "sr_are= y_train['SR-ARE']\n",
    "lm.fit(Xm_train, sr_are)\n",
    "taccuracy3= lm.score(Xm_test, y_test['SR-ARE'])\n",
    "print(\"The accuracy of the model is:\",taccuracy3)"
   ]
  },
  {
   "cell_type": "markdown",
   "metadata": {},
   "source": [
    "#### NR-Aromatase"
   ]
  },
  {
   "cell_type": "code",
   "execution_count": 20,
   "metadata": {},
   "outputs": [
    {
     "name": "stdout",
     "output_type": "stream",
     "text": [
      "The accuracy of the model is: 0.9382086167800453\n"
     ]
    }
   ],
   "source": [
    "nr_aromatase= y_train['NR-Aromatase']\n",
    "lm.fit(Xm_train, nr_aromatase)\n",
    "taccuracy4= lm.score(Xm_test, y_test['NR-Aromatase'])\n",
    "print(\"The accuracy of the model is:\",taccuracy4)"
   ]
  },
  {
   "cell_type": "markdown",
   "metadata": {},
   "source": [
    "#### NR-ER-LBD"
   ]
  },
  {
   "cell_type": "code",
   "execution_count": 21,
   "metadata": {},
   "outputs": [
    {
     "name": "stdout",
     "output_type": "stream",
     "text": [
      "The accuracy of the model is: 0.9546485260770975\n"
     ]
    }
   ],
   "source": [
    "nr_erlbd= y_train['NR-ER-LBD']\n",
    "lm.fit(Xm_train, nr_erlbd)\n",
    "taccuracy5= lm.score(Xm_test, y_test['NR-ER-LBD'])\n",
    "print(\"The accuracy of the model is:\",taccuracy5)"
   ]
  },
  {
   "cell_type": "markdown",
   "metadata": {},
   "source": [
    "#### NR-AhR"
   ]
  },
  {
   "cell_type": "code",
   "execution_count": 22,
   "metadata": {},
   "outputs": [
    {
     "name": "stdout",
     "output_type": "stream",
     "text": [
      "The accuracy of the model is: 0.905045351473923\n"
     ]
    }
   ],
   "source": [
    "nr_ahr= y_train['NR-AhR']\n",
    "lm.fit(Xm_train, nr_ahr)\n",
    "taccuracy6= lm.score(Xm_test, y_test['NR-AhR'])\n",
    "print(\"The accuracy of the model is:\",taccuracy6)"
   ]
  },
  {
   "cell_type": "markdown",
   "metadata": {},
   "source": [
    "#### SR-MMP"
   ]
  },
  {
   "cell_type": "code",
   "execution_count": 23,
   "metadata": {},
   "outputs": [
    {
     "name": "stdout",
     "output_type": "stream",
     "text": [
      "The accuracy of the model is: 0.8823696145124716\n"
     ]
    }
   ],
   "source": [
    "sr_mmp= y_train['SR-MMP']\n",
    "lm.fit(Xm_train, sr_mmp)\n",
    "taccuracy7= lm.score(Xm_test, y_test['SR-MMP'])\n",
    "print(\"The accuracy of the model is:\",taccuracy7)"
   ]
  },
  {
   "cell_type": "markdown",
   "metadata": {},
   "source": [
    "#### NR-ER"
   ]
  },
  {
   "cell_type": "code",
   "execution_count": 24,
   "metadata": {},
   "outputs": [
    {
     "name": "stdout",
     "output_type": "stream",
     "text": [
      "The accuracy of the model is: 0.9056122448979592\n"
     ]
    }
   ],
   "source": [
    "nr_er= y_train['NR-ER']\n",
    "lm.fit(Xm_train, nr_er)\n",
    "taccuracy8= lm.score(Xm_test, y_test['NR-ER'])\n",
    "print(\"The accuracy of the model is:\",taccuracy8)"
   ]
  },
  {
   "cell_type": "markdown",
   "metadata": {},
   "source": [
    "#### NR-PPAR-gamma"
   ]
  },
  {
   "cell_type": "code",
   "execution_count": 25,
   "metadata": {},
   "outputs": [
    {
     "name": "stdout",
     "output_type": "stream",
     "text": [
      "The accuracy of the model is: 0.9767573696145124\n"
     ]
    }
   ],
   "source": [
    "nr_ppar= y_train['NR-PPAR-gamma']\n",
    "lm.fit(Xm_train, nr_ppar)\n",
    "taccuracy9= lm.score(Xm_test, y_test['NR-PPAR-gamma'])\n",
    "print(\"The accuracy of the model is:\",taccuracy9)"
   ]
  },
  {
   "cell_type": "markdown",
   "metadata": {},
   "source": [
    "#### SR-p53"
   ]
  },
  {
   "cell_type": "code",
   "execution_count": 26,
   "metadata": {},
   "outputs": [
    {
     "name": "stdout",
     "output_type": "stream",
     "text": [
      "The accuracy of the model is: 0.9362244897959183\n"
     ]
    }
   ],
   "source": [
    "sr_p53= y_train['SR-p53']\n",
    "lm.fit(Xm_train, sr_p53)\n",
    "taccuracy10= lm.score(Xm_test, y_test['SR-p53'])\n",
    "print(\"The accuracy of the model is:\",taccuracy10)"
   ]
  },
  {
   "cell_type": "markdown",
   "metadata": {},
   "source": [
    "#### SR-ATAD5"
   ]
  },
  {
   "cell_type": "code",
   "execution_count": 27,
   "metadata": {},
   "outputs": [
    {
     "name": "stdout",
     "output_type": "stream",
     "text": [
      "The accuracy of the model is: 0.9693877551020408\n"
     ]
    }
   ],
   "source": [
    "sr_atad5= y_train['SR-ATAD5']\n",
    "lm.fit(Xm_train, sr_atad5)\n",
    "taccuracy11= lm.score(Xm_test, y_test['SR-ATAD5'])\n",
    "print(\"The accuracy of the model is:\",taccuracy11)"
   ]
  },
  {
   "cell_type": "markdown",
   "metadata": {},
   "source": [
    "#### NR-AR-LBD"
   ]
  },
  {
   "cell_type": "code",
   "execution_count": 28,
   "metadata": {},
   "outputs": [
    {
     "name": "stdout",
     "output_type": "stream",
     "text": [
      "The accuracy of the model is: 0.9682539682539683\n"
     ]
    }
   ],
   "source": [
    "nr_arlbd= y_train['NR-AR-LBD']\n",
    "lm.fit(Xm_train, nr_arlbd)\n",
    "taccuracy12= lm.score(Xm_test, y_test['NR-AR-LBD'])\n",
    "print(\"The accuracy of the model is:\",taccuracy12)"
   ]
  },
  {
   "cell_type": "markdown",
   "metadata": {},
   "source": [
    "### SVM"
   ]
  },
  {
   "cell_type": "code",
   "execution_count": 29,
   "metadata": {},
   "outputs": [],
   "source": [
    "from sklearn import svm"
   ]
  },
  {
   "cell_type": "markdown",
   "metadata": {},
   "source": [
    "#### SR-HSE"
   ]
  },
  {
   "cell_type": "code",
   "execution_count": 30,
   "metadata": {},
   "outputs": [
    {
     "name": "stdout",
     "output_type": "stream",
     "text": [
      "The accuracy of the model is: 0.9095804988662132\n"
     ]
    }
   ],
   "source": [
    "sr_hse= y_train['SR-HSE']\n",
    "sig = svm.SVC(kernel='sigmoid', C=1, decision_function_shape='ovr')\n",
    "sig.fit(Xm_train, sr_hse)\n",
    "tsaccuracy1= sig.score(Xm_test, y_test['SR-HSE'])\n",
    "print(\"The accuracy of the model is:\",tsaccuracy1)"
   ]
  },
  {
   "cell_type": "markdown",
   "metadata": {},
   "source": [
    "#### NR-AR "
   ]
  },
  {
   "cell_type": "code",
   "execution_count": 31,
   "metadata": {},
   "outputs": [
    {
     "name": "stdout",
     "output_type": "stream",
     "text": [
      "The accuracy of the model is: 0.951530612244898\n"
     ]
    }
   ],
   "source": [
    "nr_ar= y_train['NR-AR']\n",
    "sig.fit(Xm_train, nr_ar)\n",
    "tsaccuracy2= sig.score(Xm_test, y_test['NR-AR'])\n",
    "print(\"The accuracy of the model is:\",tsaccuracy2)"
   ]
  },
  {
   "cell_type": "markdown",
   "metadata": {},
   "source": [
    "#### SR-ARE"
   ]
  },
  {
   "cell_type": "code",
   "execution_count": 32,
   "metadata": {},
   "outputs": [
    {
     "name": "stdout",
     "output_type": "stream",
     "text": [
      "The accuracy of the model is: 0.7395124716553289\n"
     ]
    }
   ],
   "source": [
    "sr_are= y_train['SR-ARE']\n",
    "sig.fit(Xm_train, sr_are)\n",
    "tsaccuracy3= sig.score(Xm_test, y_test['SR-ARE'])\n",
    "print(\"The accuracy of the model is:\",tsaccuracy3)"
   ]
  },
  {
   "cell_type": "markdown",
   "metadata": {},
   "source": [
    "#### NR-Aromatase"
   ]
  },
  {
   "cell_type": "code",
   "execution_count": 33,
   "metadata": {},
   "outputs": [
    {
     "name": "stdout",
     "output_type": "stream",
     "text": [
      "The accuracy of the model is: 0.8934240362811792\n"
     ]
    }
   ],
   "source": [
    "nr_aromatase= y_train['NR-Aromatase']\n",
    "sig.fit(Xm_train, nr_aromatase)\n",
    "tsaccuracy4= sig.score(Xm_test, y_test['NR-Aromatase'])\n",
    "print(\"The accuracy of the model is:\",tsaccuracy4)"
   ]
  },
  {
   "cell_type": "markdown",
   "metadata": {},
   "source": [
    "#### NR-ER-LBD"
   ]
  },
  {
   "cell_type": "code",
   "execution_count": 34,
   "metadata": {},
   "outputs": [
    {
     "name": "stdout",
     "output_type": "stream",
     "text": [
      "The accuracy of the model is: 0.925453514739229\n"
     ]
    }
   ],
   "source": [
    "nr_erlbd= y_train['NR-ER-LBD']\n",
    "sig.fit(Xm_train, nr_erlbd)\n",
    "tsaccuracy5= sig.score(Xm_test, y_test['NR-ER-LBD'])\n",
    "print(\"The accuracy of the model is:\",tsaccuracy5)"
   ]
  },
  {
   "cell_type": "markdown",
   "metadata": {},
   "source": [
    "#### NR-AhR"
   ]
  },
  {
   "cell_type": "code",
   "execution_count": 35,
   "metadata": {},
   "outputs": [
    {
     "name": "stdout",
     "output_type": "stream",
     "text": [
      "The accuracy of the model is: 0.873015873015873\n"
     ]
    }
   ],
   "source": [
    "nr_ahr= y_train['NR-AhR']\n",
    "sig.fit(Xm_train, nr_ahr)\n",
    "tsaccuracy6= sig.score(Xm_test, y_test['NR-AhR'])\n",
    "print(\"The accuracy of the model is:\",tsaccuracy6)"
   ]
  },
  {
   "cell_type": "markdown",
   "metadata": {},
   "source": [
    "#### SR-MMP"
   ]
  },
  {
   "cell_type": "code",
   "execution_count": 36,
   "metadata": {},
   "outputs": [
    {
     "name": "stdout",
     "output_type": "stream",
     "text": [
      "The accuracy of the model is: 0.7970521541950113\n"
     ]
    }
   ],
   "source": [
    "sr_mmp= y_train['SR-MMP']\n",
    "sig.fit(Xm_train, sr_mmp)\n",
    "tsaccuracy7= sig.score(Xm_test, y_test['SR-MMP'])\n",
    "print(\"The accuracy of the model is:\",tsaccuracy7)"
   ]
  },
  {
   "cell_type": "markdown",
   "metadata": {},
   "source": [
    "#### NR-ER"
   ]
  },
  {
   "cell_type": "code",
   "execution_count": 37,
   "metadata": {},
   "outputs": [
    {
     "name": "stdout",
     "output_type": "stream",
     "text": [
      "The accuracy of the model is: 0.8679138321995464\n"
     ]
    }
   ],
   "source": [
    "nr_er= y_train['NR-ER']\n",
    "sig.fit(Xm_train, nr_er)\n",
    "tsaccuracy8= sig.score(Xm_test, y_test['NR-ER'])\n",
    "print(\"The accuracy of the model is:\",tsaccuracy8)"
   ]
  },
  {
   "cell_type": "markdown",
   "metadata": {},
   "source": [
    "#### NR-PPAR-gamma"
   ]
  },
  {
   "cell_type": "code",
   "execution_count": 38,
   "metadata": {},
   "outputs": [
    {
     "name": "stdout",
     "output_type": "stream",
     "text": [
      "The accuracy of the model is: 0.9744897959183674\n"
     ]
    }
   ],
   "source": [
    "nr_ppar= y_train['NR-PPAR-gamma']\n",
    "sig.fit(Xm_train, nr_ppar)\n",
    "tsaccuracy9= sig.score(Xm_test, y_test['NR-PPAR-gamma'])\n",
    "print(\"The accuracy of the model is:\",tsaccuracy9)"
   ]
  },
  {
   "cell_type": "markdown",
   "metadata": {},
   "source": [
    "#### SR-p53"
   ]
  },
  {
   "cell_type": "code",
   "execution_count": 39,
   "metadata": {},
   "outputs": [
    {
     "name": "stdout",
     "output_type": "stream",
     "text": [
      "The accuracy of the model is: 0.8942743764172335\n"
     ]
    }
   ],
   "source": [
    "sr_p53= y_train['SR-p53']\n",
    "sig.fit(Xm_train, sr_p53)\n",
    "tsaccuracy10= sig.score(Xm_test, y_test['SR-p53'])\n",
    "print(\"The accuracy of the model is:\",tsaccuracy10)"
   ]
  },
  {
   "cell_type": "markdown",
   "metadata": {},
   "source": [
    "#### SR-ATAD5"
   ]
  },
  {
   "cell_type": "code",
   "execution_count": 40,
   "metadata": {},
   "outputs": [
    {
     "name": "stdout",
     "output_type": "stream",
     "text": [
      "The accuracy of the model is: 0.9518140589569161\n"
     ]
    }
   ],
   "source": [
    "sr_atad5= y_train['SR-ATAD5']\n",
    "sig.fit(Xm_train, sr_atad5)\n",
    "tsaccuracy11= sig.score(Xm_test, y_test['SR-ATAD5'])\n",
    "print(\"The accuracy of the model is:\",tsaccuracy11)"
   ]
  },
  {
   "cell_type": "markdown",
   "metadata": {},
   "source": [
    "#### NR-AR-LBD"
   ]
  },
  {
   "cell_type": "code",
   "execution_count": 41,
   "metadata": {},
   "outputs": [
    {
     "name": "stdout",
     "output_type": "stream",
     "text": [
      "The accuracy of the model is: 0.9520975056689343\n"
     ]
    }
   ],
   "source": [
    "nr_arlbd= y_train['NR-AR-LBD']\n",
    "sig.fit(Xm_train, nr_arlbd)\n",
    "tsaccuracy12= sig.score(Xm_test, y_test['NR-AR-LBD'])\n",
    "print(\"The accuracy of the model is:\",tsaccuracy12)"
   ]
  },
  {
   "cell_type": "markdown",
   "metadata": {},
   "source": [
    "#### Summary of maccs data"
   ]
  },
  {
   "cell_type": "code",
   "execution_count": 42,
   "metadata": {},
   "outputs": [
    {
     "name": "stdout",
     "output_type": "stream",
     "text": [
      "\u001b[1mFor Random Forest:\u001b[0m\n",
      "SR-HSE           0.950680\n",
      "NR-AR            0.965420\n",
      "SR-ARE           0.860544\n",
      "NR-Aromatase     0.939342\n",
      "NR-ER-LBD        0.956349\n",
      "NR-AhR           0.908447\n",
      "SR-MMP           0.891440\n",
      "NR-ER            0.902778\n",
      "NR-PPAR-gamma    0.977041\n",
      "SR-p53           0.938776\n",
      "SR-ATAD5         0.971939\n",
      "NR-AR-LBD        0.967971\n",
      "dtype: float64\n",
      "\u001b[0m----------\n",
      "\u001b[1mFor SVM:\u001b[0m\n",
      "\u001b[1mFor Logistic Regression:\u001b[0m\n",
      "SR-HSE: \t 0.9492630385487528\n",
      "NR-AR: \t 0.9688208616780045\n",
      "SR-ARE: \t 0.8463718820861678\n",
      "NR-Aromatase: \t 0.9382086167800453\n",
      "NR-ER-LBD: \t 0.9546485260770975\n",
      "NR-AhR: \t 0.905045351473923\n",
      "SR-MMP: \t 0.8823696145124716\n",
      "NR-ER: \t 0.9056122448979592\n",
      "NR-PPAR-gamma: \t 0.9767573696145124\n",
      "SR-p53: \t 0.9362244897959183\n",
      "SR-ATAD5: \t 0.9693877551020408\n",
      "NR-AR-LBD: \t 0.9682539682539683\n",
      "Average: \t 0.9334136432350718\n",
      "\u001b[0m----------\n",
      "\u001b[1mFor SVM:\u001b[0m\n",
      "SR-HSE: \t 0.9095804988662132\n",
      "NR-AR: \t 0.951530612244898\n",
      "SR-ARE: \t 0.7395124716553289\n",
      "NR-Aromatase: \t 0.8934240362811792\n",
      "NR-ER-LBD: \t 0.925453514739229\n",
      "NR-AhR: \t 0.873015873015873\n",
      "SR-MMP: \t 0.7970521541950113\n",
      "NR-ER: \t 0.8679138321995464\n",
      "NR-PPAR-gamma: \t 0.9744897959183674\n",
      "SR-p53: \t 0.8942743764172335\n",
      "SR-ATAD5: \t 0.9518140589569161\n",
      "NR-AR-LBD: \t 0.9520975056689343\n",
      "Average: \t 0.8941798941798943\n"
     ]
    }
   ],
   "source": [
    "print(\"\\033[1m\" + \"For Random Forest:\"+ \"\\033[0m\")\n",
    "print(rfaccuracy_maccs)\n",
    "print(\"\\033[0m\"+\"----------\")\n",
    "print(\"\\033[1m\" + \"For SVM:\"+ \"\\033[0m\")\n",
    "print(\"\\033[1m\" + \"For Logistic Regression:\" + \"\\033[0m\")\n",
    "print(\"SR-HSE: \\t\", taccuracy1)\n",
    "print(\"NR-AR: \\t\", taccuracy2)\n",
    "print(\"SR-ARE: \\t\", taccuracy3)\n",
    "print(\"NR-Aromatase: \\t\", taccuracy4)\n",
    "print(\"NR-ER-LBD: \\t\", taccuracy5)\n",
    "print(\"NR-AhR: \\t\", taccuracy6)\n",
    "print(\"SR-MMP: \\t\", taccuracy7)\n",
    "print(\"NR-ER: \\t\", taccuracy8)\n",
    "print(\"NR-PPAR-gamma: \\t\", taccuracy9)\n",
    "print(\"SR-p53: \\t\", taccuracy10)\n",
    "print(\"SR-ATAD5: \\t\", taccuracy11)\n",
    "print(\"NR-AR-LBD: \\t\", taccuracy12)\n",
    "print(\"Average: \\t\", (taccuracy1+taccuracy2+taccuracy3+taccuracy4+taccuracy5+taccuracy6+taccuracy7+taccuracy8+taccuracy9+taccuracy10+taccuracy11+taccuracy12)/12)\n",
    "\n",
    "print(\"\\033[0m\"+\"----------\")\n",
    "print(\"\\033[1m\" + \"For SVM:\"+ \"\\033[0m\")\n",
    "print(\"SR-HSE: \\t\", tsaccuracy1)\n",
    "print(\"NR-AR: \\t\", tsaccuracy2)\n",
    "print(\"SR-ARE: \\t\", tsaccuracy3)\n",
    "print(\"NR-Aromatase: \\t\", tsaccuracy4)\n",
    "print(\"NR-ER-LBD: \\t\", tsaccuracy5)\n",
    "print(\"NR-AhR: \\t\", tsaccuracy6)\n",
    "print(\"SR-MMP: \\t\", tsaccuracy7)\n",
    "print(\"NR-ER: \\t\", tsaccuracy8)\n",
    "print(\"NR-PPAR-gamma: \\t\", tsaccuracy9)\n",
    "print(\"SR-p53: \\t\", tsaccuracy10)\n",
    "print(\"SR-ATAD5: \\t\", tsaccuracy11)\n",
    "print(\"NR-AR-LBD: \\t\", tsaccuracy12)\n",
    "print(\"Average: \\t\", (tsaccuracy1+tsaccuracy2+tsaccuracy3+tsaccuracy4+tsaccuracy5+tsaccuracy6+tsaccuracy7+tsaccuracy8+tsaccuracy9+tsaccuracy10+tsaccuracy11+tsaccuracy12)/12)\n"
   ]
  },
  {
   "cell_type": "markdown",
   "metadata": {},
   "source": [
    "## Feature Selection"
   ]
  },
  {
   "cell_type": "code",
   "execution_count": 43,
   "metadata": {},
   "outputs": [],
   "source": [
    "Xm= Xmac"
   ]
  },
  {
   "cell_type": "markdown",
   "metadata": {},
   "source": [
    "### Random Forest Classifier"
   ]
  },
  {
   "cell_type": "code",
   "execution_count": 44,
   "metadata": {},
   "outputs": [
    {
     "data": {
      "text/plain": [
       "126    0.017816\n",
       "146    0.017066\n",
       "161    0.015281\n",
       "132    0.014494\n",
       "151    0.013698\n",
       "         ...   \n",
       "6      0.000012\n",
       "5      0.000000\n",
       "3      0.000000\n",
       "2      0.000000\n",
       "1      0.000000\n",
       "Length: 167, dtype: float64"
      ]
     },
     "execution_count": 44,
     "metadata": {},
     "output_type": "execute_result"
    }
   ],
   "source": [
    "feature_importance= pd.DataFrame(classifier.feature_importances_,\\\n",
    "                                   index = Xm.columns,\\\n",
    "                                   columns=['importance']).sort_values('importance', ascending=False)\n",
    "classifier.fit(Xm_train, y_train)\n",
    "feature_scores = pd.Series(classifier.feature_importances_, index=Xm.columns).sort_values(ascending=False)\n",
    "\n",
    "feature_scores"
   ]
  },
  {
   "cell_type": "code",
   "execution_count": 45,
   "metadata": {},
   "outputs": [
    {
     "data": {
      "text/plain": [
       "126    0.017816\n",
       "146    0.017066\n",
       "161    0.015281\n",
       "132    0.014494\n",
       "151    0.013698\n",
       "         ...   \n",
       "6      0.000012\n",
       "5      0.000000\n",
       "3      0.000000\n",
       "2      0.000000\n",
       "1      0.000000\n",
       "Length: 167, dtype: float64"
      ]
     },
     "execution_count": 45,
     "metadata": {},
     "output_type": "execute_result"
    }
   ],
   "source": [
    "classifier.fit(Xm_train, y_train)\n",
    "feature_scores = pd.Series(classifier.feature_importances_, index=Xm.columns).sort_values(ascending=False)\n",
    "\n",
    "feature_scores"
   ]
  },
  {
   "cell_type": "code",
   "execution_count": 46,
   "metadata": {},
   "outputs": [
    {
     "data": {
      "text/plain": [
       "Text(0, 0.5, 'Number of Features (RFC)')"
      ]
     },
     "execution_count": 46,
     "metadata": {},
     "output_type": "execute_result"
    },
    {
     "data": {
      "image/png": "[encoded data removed]",
      "text/plain": [
       "<Figure size 1728x864 with 1 Axes>"
      ]
     },
     "metadata": {},
     "output_type": "display_data"
    }
   ],
   "source": [
    "import seaborn as sb\n",
    "import matplotlib.pyplot as plt\n",
    "#histogram without feature selection\n",
    "sb.set(font_scale=2)\n",
    "f, axes = plt.subplots(1, 1, figsize=(24, 12))\n",
    "a= sb.distplot(feature_scores, kde = False, color = \"blue\", axlabel=\"Feature Importance (Before feature selection)\")\n",
    "axes.set_ylabel(\"Number of Features (RFC)\")"
   ]
  },
  {
   "cell_type": "code",
   "execution_count": 47,
   "metadata": {},
   "outputs": [
    {
     "data": {
      "text/plain": [
       "126    0.017816\n",
       "146    0.017066\n",
       "161    0.015281\n",
       "132    0.014494\n",
       "151    0.013698\n",
       "         ...   \n",
       "35     0.005295\n",
       "50     0.005283\n",
       "43     0.005107\n",
       "111    0.004966\n",
       "93     0.004956\n",
       "Length: 100, dtype: float64"
      ]
     },
     "execution_count": 47,
     "metadata": {},
     "output_type": "execute_result"
    }
   ],
   "source": [
    "#select these indexes and get those respective features from X\n",
    "features=feature_scores[0:100]\n",
    "features"
   ]
  },
  {
   "cell_type": "code",
   "execution_count": 48,
   "metadata": {},
   "outputs": [
    {
     "data": {
      "text/plain": [
       "Text(0, 0.5, 'Number of Features (RFC)')"
      ]
     },
     "execution_count": 48,
     "metadata": {},
     "output_type": "execute_result"
    },
    {
     "data": {
      "image/png": "[encoded data removed]",
      "text/plain": [
       "<Figure size 1728x864 with 1 Axes>"
      ]
     },
     "metadata": {},
     "output_type": "display_data"
    }
   ],
   "source": [
    "#plotting histogram for features after feature selection\n",
    "import seaborn as sb\n",
    "f, axes = plt.subplots(1, 1, figsize=(24, 12))\n",
    "sb.distplot(features, kde = False, color = \"red\",axlabel=\"Feature Importance (After feature selection)\")\n",
    "axes.set_ylabel(\"Number of Features (RFC)\")"
   ]
  },
  {
   "cell_type": "markdown",
   "metadata": {},
   "source": [
    "#### After re-training the data"
   ]
  },
  {
   "cell_type": "code",
   "execution_count": 49,
   "metadata": {},
   "outputs": [
    {
     "data": {
      "text/plain": [
       "SR-HSE           0.950964\n",
       "NR-AR            0.971088\n",
       "SR-ARE           0.867347\n",
       "NR-Aromatase     0.941893\n",
       "NR-ER-LBD        0.957766\n",
       "NR-AhR           0.913832\n",
       "SR-MMP           0.894558\n",
       "NR-ER            0.907596\n",
       "NR-PPAR-gamma    0.973073\n",
       "SR-p53           0.943311\n",
       "SR-ATAD5         0.973073\n",
       "NR-AR-LBD        0.972506\n",
       "dtype: float64"
      ]
     },
     "execution_count": 49,
     "metadata": {},
     "output_type": "execute_result"
    }
   ],
   "source": [
    "X_feat_train,X_feat_test,y_feat_train,y_feat_test=train_test_split(Xm[features.index],y,test_size=0.3,random_state=0)\n",
    "newclassifier = RandomForestClassifier(n_estimators = 100, criterion = 'entropy', random_state = 42)\n",
    "newclassifier.fit(X_feat_train,y_feat_train)\n",
    "newrfpredict=newclassifier.predict(X_feat_test)\n",
    "count_misclassified = (y_feat_test != newrfpredict).sum()\n",
    "newrfaccuracy= 1-(count_misclassified/len(y_feat_test))\n",
    "newrfaccuracy"
   ]
  },
  {
   "cell_type": "code",
   "execution_count": 50,
   "metadata": {},
   "outputs": [
    {
     "name": "stdout",
     "output_type": "stream",
     "text": [
      "\u001b[1mRandom Forest:\u001b[0m\n",
      "\u001b[1mBefore feature selection:\u001b[0m\n",
      "SR-HSE           0.950680\n",
      "NR-AR            0.965420\n",
      "SR-ARE           0.860544\n",
      "NR-Aromatase     0.939342\n",
      "NR-ER-LBD        0.956349\n",
      "NR-AhR           0.908447\n",
      "SR-MMP           0.891440\n",
      "NR-ER            0.902778\n",
      "NR-PPAR-gamma    0.977041\n",
      "SR-p53           0.938776\n",
      "SR-ATAD5         0.971939\n",
      "NR-AR-LBD        0.967971\n",
      "dtype: float64\n",
      "------------------\n",
      "\u001b[1mAfter feature selection:\u001b[0m\n",
      "SR-HSE           0.950964\n",
      "NR-AR            0.971088\n",
      "SR-ARE           0.867347\n",
      "NR-Aromatase     0.941893\n",
      "NR-ER-LBD        0.957766\n",
      "NR-AhR           0.913832\n",
      "SR-MMP           0.894558\n",
      "NR-ER            0.907596\n",
      "NR-PPAR-gamma    0.973073\n",
      "SR-p53           0.943311\n",
      "SR-ATAD5         0.973073\n",
      "NR-AR-LBD        0.972506\n",
      "dtype: float64\n"
     ]
    }
   ],
   "source": [
    "print(\"\\033[1m\" + \"Random Forest:\"+ \"\\033[0m\")\n",
    "print(\"\\033[1m\" + \"Before feature selection:\"+ \"\\033[0m\")\n",
    "print(rfaccuracy_maccs)\n",
    "print(\"------------------\")\n",
    "print(\"\\033[1m\" + \"After feature selection:\"+ \"\\033[0m\")\n",
    "print(newrfaccuracy)"
   ]
  },
  {
   "cell_type": "code",
   "execution_count": 52,
   "metadata": {},
   "outputs": [
    {
     "name": "stdout",
     "output_type": "stream",
     "text": [
      "Average accuracy before feature selection is  0.9358938019652304\n",
      "Average accuracy after feature selection is  0.9389172335600907\n"
     ]
    }
   ],
   "source": [
    "sum=0\n",
    "for x in range(len(rfaccuracy_maccs)):\n",
    "    sum= sum+ rfaccuracy_maccs[x]\n",
    "average= sum/12\n",
    "print(\"Average accuracy before feature selection is \", average)\n",
    "\n",
    "sum=0\n",
    "for x in range(len(newrfaccuracy)):\n",
    "    sum= sum+ newrfaccuracy[x]\n",
    "average= sum/12\n",
    "print(\"Average accuracy after feature selection is \", average)"
   ]
  },
  {
   "cell_type": "markdown",
   "metadata": {},
   "source": [
    "### RFE"
   ]
  },
  {
   "cell_type": "code",
   "execution_count": 53,
   "metadata": {},
   "outputs": [],
   "source": [
    "from sklearn.feature_selection import RFE\n",
    "from sklearn.linear_model import LogisticRegression"
   ]
  },
  {
   "cell_type": "markdown",
   "metadata": {},
   "source": [
    "This will take a really long while"
   ]
  },
  {
   "cell_type": "code",
   "execution_count": 54,
   "metadata": {},
   "outputs": [],
   "source": [
    "rfe = RFE(lm, n_features_to_select= 100)\n",
    "rfe = rfe.fit(Xm, y['SR-HSE'])"
   ]
  },
  {
   "cell_type": "code",
   "execution_count": 55,
   "metadata": {},
   "outputs": [
    {
     "data": {
      "text/plain": [
       "167"
      ]
     },
     "execution_count": 55,
     "metadata": {},
     "output_type": "execute_result"
    }
   ],
   "source": [
    "len(rfe.ranking_)"
   ]
  },
  {
   "cell_type": "code",
   "execution_count": 56,
   "metadata": {},
   "outputs": [
    {
     "data": {
      "text/plain": [
       "array([68, 67, 66,  1, 65,  1,  1,  1,  1,  1,  1,  1,  1,  1,  1,  6,  1,\n",
       "        1,  1,  1, 60,  1,  1,  1,  1, 63,  1,  1,  1,  1, 48,  1, 20,  1,\n",
       "       44,  1,  1,  1,  1,  1,  1,  1, 14,  1,  1, 10,  1,  1,  1,  1,  1,\n",
       "        1,  1, 54, 33,  1,  1, 11,  1,  1,  1,  1,  2,  1,  1,  1,  1,  1,\n",
       "        1,  1,  1, 58,  9,  1, 55, 22,  1,  1,  1, 46, 19,  1,  1,  1,  1,\n",
       "       64, 30, 36,  1, 59,  1, 31, 40,  1,  1, 32,  1, 50,  1,  1, 27,  1,\n",
       "       12,  1,  8,  1, 15, 37, 28, 38,  1,  1,  1,  1,  1, 53, 62, 39, 17,\n",
       "        3, 26,  1, 21,  1,  1,  1,  1, 41,  1, 16,  1,  1, 34, 18,  1, 57,\n",
       "       35,  1, 25, 49,  1, 24,  4, 52, 29, 42,  1, 43, 47, 23,  1,  7, 61,\n",
       "        1, 51, 45,  1, 13,  1,  1,  1,  1,  1, 56,  1,  1,  5])"
      ]
     },
     "execution_count": 56,
     "metadata": {},
     "output_type": "execute_result"
    }
   ],
   "source": [
    "rfe.ranking_"
   ]
  },
  {
   "cell_type": "code",
   "execution_count": 57,
   "metadata": {},
   "outputs": [
    {
     "data": {
      "text/html": [
       "<div>\n",
       "<style scoped>\n",
       "    .dataframe tbody tr th:only-of-type {\n",
       "        vertical-align: middle;\n",
       "    }\n",
       "\n",
       "    .dataframe tbody tr th {\n",
       "        vertical-align: top;\n",
       "    }\n",
       "\n",
       "    .dataframe thead th {\n",
       "        text-align: right;\n",
       "    }\n",
       "</style>\n",
       "<table border=\"1\" class=\"dataframe\">\n",
       "  <thead>\n",
       "    <tr style=\"text-align: right;\">\n",
       "      <th></th>\n",
       "      <th>importance</th>\n",
       "    </tr>\n",
       "  </thead>\n",
       "  <tbody>\n",
       "    <tr>\n",
       "      <th>84</th>\n",
       "      <td>1</td>\n",
       "    </tr>\n",
       "    <tr>\n",
       "      <th>74</th>\n",
       "      <td>1</td>\n",
       "    </tr>\n",
       "    <tr>\n",
       "      <th>131</th>\n",
       "      <td>1</td>\n",
       "    </tr>\n",
       "    <tr>\n",
       "      <th>132</th>\n",
       "      <td>1</td>\n",
       "    </tr>\n",
       "    <tr>\n",
       "      <th>71</th>\n",
       "      <td>1</td>\n",
       "    </tr>\n",
       "    <tr>\n",
       "      <th>...</th>\n",
       "      <td>...</td>\n",
       "    </tr>\n",
       "    <tr>\n",
       "      <th>86</th>\n",
       "      <td>64</td>\n",
       "    </tr>\n",
       "    <tr>\n",
       "      <th>5</th>\n",
       "      <td>65</td>\n",
       "    </tr>\n",
       "    <tr>\n",
       "      <th>3</th>\n",
       "      <td>66</td>\n",
       "    </tr>\n",
       "    <tr>\n",
       "      <th>2</th>\n",
       "      <td>67</td>\n",
       "    </tr>\n",
       "    <tr>\n",
       "      <th>1</th>\n",
       "      <td>68</td>\n",
       "    </tr>\n",
       "  </tbody>\n",
       "</table>\n",
       "<p>167 rows × 1 columns</p>\n",
       "</div>"
      ],
      "text/plain": [
       "     importance\n",
       "84            1\n",
       "74            1\n",
       "131           1\n",
       "132           1\n",
       "71            1\n",
       "..          ...\n",
       "86           64\n",
       "5            65\n",
       "3            66\n",
       "2            67\n",
       "1            68\n",
       "\n",
       "[167 rows x 1 columns]"
      ]
     },
     "execution_count": 57,
     "metadata": {},
     "output_type": "execute_result"
    }
   ],
   "source": [
    "feature_importance= pd.DataFrame(rfe.ranking_,\\\n",
    "                                   index = Xm.columns,\\\n",
    "                                   columns=['importance']).sort_values('importance', ascending=True)\n",
    "feature_importance.round(6)"
   ]
  },
  {
   "cell_type": "code",
   "execution_count": 58,
   "metadata": {},
   "outputs": [
    {
     "data": {
      "text/html": [
       "<div>\n",
       "<style scoped>\n",
       "    .dataframe tbody tr th:only-of-type {\n",
       "        vertical-align: middle;\n",
       "    }\n",
       "\n",
       "    .dataframe tbody tr th {\n",
       "        vertical-align: top;\n",
       "    }\n",
       "\n",
       "    .dataframe thead th {\n",
       "        text-align: right;\n",
       "    }\n",
       "</style>\n",
       "<table border=\"1\" class=\"dataframe\">\n",
       "  <thead>\n",
       "    <tr style=\"text-align: right;\">\n",
       "      <th></th>\n",
       "      <th>importance</th>\n",
       "    </tr>\n",
       "  </thead>\n",
       "  <tbody>\n",
       "    <tr>\n",
       "      <th>84</th>\n",
       "      <td>1</td>\n",
       "    </tr>\n",
       "    <tr>\n",
       "      <th>74</th>\n",
       "      <td>1</td>\n",
       "    </tr>\n",
       "    <tr>\n",
       "      <th>131</th>\n",
       "      <td>1</td>\n",
       "    </tr>\n",
       "    <tr>\n",
       "      <th>132</th>\n",
       "      <td>1</td>\n",
       "    </tr>\n",
       "    <tr>\n",
       "      <th>71</th>\n",
       "      <td>1</td>\n",
       "    </tr>\n",
       "    <tr>\n",
       "      <th>...</th>\n",
       "      <td>...</td>\n",
       "    </tr>\n",
       "    <tr>\n",
       "      <th>30</th>\n",
       "      <td>1</td>\n",
       "    </tr>\n",
       "    <tr>\n",
       "      <th>29</th>\n",
       "      <td>1</td>\n",
       "    </tr>\n",
       "    <tr>\n",
       "      <th>28</th>\n",
       "      <td>1</td>\n",
       "    </tr>\n",
       "    <tr>\n",
       "      <th>37</th>\n",
       "      <td>1</td>\n",
       "    </tr>\n",
       "    <tr>\n",
       "      <th>104</th>\n",
       "      <td>1</td>\n",
       "    </tr>\n",
       "  </tbody>\n",
       "</table>\n",
       "<p>100 rows × 1 columns</p>\n",
       "</div>"
      ],
      "text/plain": [
       "     importance\n",
       "84            1\n",
       "74            1\n",
       "131           1\n",
       "132           1\n",
       "71            1\n",
       "..          ...\n",
       "30            1\n",
       "29            1\n",
       "28            1\n",
       "37            1\n",
       "104           1\n",
       "\n",
       "[100 rows x 1 columns]"
      ]
     },
     "execution_count": 58,
     "metadata": {},
     "output_type": "execute_result"
    }
   ],
   "source": [
    "feat_sel= feature_importance[0:100]\n",
    "feat_sel"
   ]
  },
  {
   "cell_type": "markdown",
   "metadata": {},
   "source": [
    "If ranking=1, it means that it is the best feature!"
   ]
  },
  {
   "cell_type": "code",
   "execution_count": 59,
   "metadata": {},
   "outputs": [
    {
     "data": {
      "text/html": [
       "<div>\n",
       "<style scoped>\n",
       "    .dataframe tbody tr th:only-of-type {\n",
       "        vertical-align: middle;\n",
       "    }\n",
       "\n",
       "    .dataframe tbody tr th {\n",
       "        vertical-align: top;\n",
       "    }\n",
       "\n",
       "    .dataframe thead th {\n",
       "        text-align: right;\n",
       "    }\n",
       "</style>\n",
       "<table border=\"1\" class=\"dataframe\">\n",
       "  <thead>\n",
       "    <tr style=\"text-align: right;\">\n",
       "      <th></th>\n",
       "      <th>84</th>\n",
       "      <th>74</th>\n",
       "      <th>131</th>\n",
       "      <th>132</th>\n",
       "      <th>71</th>\n",
       "      <th>70</th>\n",
       "      <th>69</th>\n",
       "      <th>68</th>\n",
       "      <th>67</th>\n",
       "      <th>66</th>\n",
       "      <th>...</th>\n",
       "      <th>151</th>\n",
       "      <th>34</th>\n",
       "      <th>154</th>\n",
       "      <th>32</th>\n",
       "      <th>157</th>\n",
       "      <th>30</th>\n",
       "      <th>29</th>\n",
       "      <th>28</th>\n",
       "      <th>37</th>\n",
       "      <th>104</th>\n",
       "    </tr>\n",
       "  </thead>\n",
       "  <tbody>\n",
       "    <tr>\n",
       "      <th>0</th>\n",
       "      <td>1</td>\n",
       "      <td>0</td>\n",
       "      <td>0</td>\n",
       "      <td>0</td>\n",
       "      <td>0</td>\n",
       "      <td>0</td>\n",
       "      <td>0</td>\n",
       "      <td>0</td>\n",
       "      <td>0</td>\n",
       "      <td>1</td>\n",
       "      <td>...</td>\n",
       "      <td>1</td>\n",
       "      <td>0</td>\n",
       "      <td>1</td>\n",
       "      <td>0</td>\n",
       "      <td>1</td>\n",
       "      <td>0</td>\n",
       "      <td>0</td>\n",
       "      <td>1</td>\n",
       "      <td>1</td>\n",
       "      <td>0</td>\n",
       "    </tr>\n",
       "    <tr>\n",
       "      <th>1</th>\n",
       "      <td>1</td>\n",
       "      <td>0</td>\n",
       "      <td>0</td>\n",
       "      <td>1</td>\n",
       "      <td>0</td>\n",
       "      <td>0</td>\n",
       "      <td>0</td>\n",
       "      <td>0</td>\n",
       "      <td>1</td>\n",
       "      <td>0</td>\n",
       "      <td>...</td>\n",
       "      <td>1</td>\n",
       "      <td>0</td>\n",
       "      <td>1</td>\n",
       "      <td>0</td>\n",
       "      <td>1</td>\n",
       "      <td>0</td>\n",
       "      <td>1</td>\n",
       "      <td>0</td>\n",
       "      <td>0</td>\n",
       "      <td>0</td>\n",
       "    </tr>\n",
       "    <tr>\n",
       "      <th>2</th>\n",
       "      <td>0</td>\n",
       "      <td>0</td>\n",
       "      <td>0</td>\n",
       "      <td>1</td>\n",
       "      <td>0</td>\n",
       "      <td>0</td>\n",
       "      <td>0</td>\n",
       "      <td>0</td>\n",
       "      <td>0</td>\n",
       "      <td>0</td>\n",
       "      <td>...</td>\n",
       "      <td>1</td>\n",
       "      <td>0</td>\n",
       "      <td>1</td>\n",
       "      <td>0</td>\n",
       "      <td>1</td>\n",
       "      <td>0</td>\n",
       "      <td>0</td>\n",
       "      <td>0</td>\n",
       "      <td>0</td>\n",
       "      <td>1</td>\n",
       "    </tr>\n",
       "    <tr>\n",
       "      <th>3</th>\n",
       "      <td>0</td>\n",
       "      <td>0</td>\n",
       "      <td>0</td>\n",
       "      <td>1</td>\n",
       "      <td>0</td>\n",
       "      <td>0</td>\n",
       "      <td>0</td>\n",
       "      <td>0</td>\n",
       "      <td>0</td>\n",
       "      <td>1</td>\n",
       "      <td>...</td>\n",
       "      <td>1</td>\n",
       "      <td>0</td>\n",
       "      <td>1</td>\n",
       "      <td>0</td>\n",
       "      <td>1</td>\n",
       "      <td>0</td>\n",
       "      <td>0</td>\n",
       "      <td>0</td>\n",
       "      <td>0</td>\n",
       "      <td>1</td>\n",
       "    </tr>\n",
       "    <tr>\n",
       "      <th>4</th>\n",
       "      <td>1</td>\n",
       "      <td>0</td>\n",
       "      <td>0</td>\n",
       "      <td>1</td>\n",
       "      <td>0</td>\n",
       "      <td>0</td>\n",
       "      <td>0</td>\n",
       "      <td>0</td>\n",
       "      <td>1</td>\n",
       "      <td>0</td>\n",
       "      <td>...</td>\n",
       "      <td>1</td>\n",
       "      <td>0</td>\n",
       "      <td>0</td>\n",
       "      <td>0</td>\n",
       "      <td>1</td>\n",
       "      <td>0</td>\n",
       "      <td>0</td>\n",
       "      <td>0</td>\n",
       "      <td>1</td>\n",
       "      <td>0</td>\n",
       "    </tr>\n",
       "    <tr>\n",
       "      <th>...</th>\n",
       "      <td>...</td>\n",
       "      <td>...</td>\n",
       "      <td>...</td>\n",
       "      <td>...</td>\n",
       "      <td>...</td>\n",
       "      <td>...</td>\n",
       "      <td>...</td>\n",
       "      <td>...</td>\n",
       "      <td>...</td>\n",
       "      <td>...</td>\n",
       "      <td>...</td>\n",
       "      <td>...</td>\n",
       "      <td>...</td>\n",
       "      <td>...</td>\n",
       "      <td>...</td>\n",
       "      <td>...</td>\n",
       "      <td>...</td>\n",
       "      <td>...</td>\n",
       "      <td>...</td>\n",
       "      <td>...</td>\n",
       "      <td>...</td>\n",
       "    </tr>\n",
       "    <tr>\n",
       "      <th>11753</th>\n",
       "      <td>0</td>\n",
       "      <td>0</td>\n",
       "      <td>0</td>\n",
       "      <td>0</td>\n",
       "      <td>0</td>\n",
       "      <td>0</td>\n",
       "      <td>0</td>\n",
       "      <td>0</td>\n",
       "      <td>0</td>\n",
       "      <td>0</td>\n",
       "      <td>...</td>\n",
       "      <td>1</td>\n",
       "      <td>0</td>\n",
       "      <td>1</td>\n",
       "      <td>0</td>\n",
       "      <td>1</td>\n",
       "      <td>0</td>\n",
       "      <td>0</td>\n",
       "      <td>0</td>\n",
       "      <td>1</td>\n",
       "      <td>0</td>\n",
       "    </tr>\n",
       "    <tr>\n",
       "      <th>11754</th>\n",
       "      <td>0</td>\n",
       "      <td>0</td>\n",
       "      <td>0</td>\n",
       "      <td>1</td>\n",
       "      <td>0</td>\n",
       "      <td>0</td>\n",
       "      <td>0</td>\n",
       "      <td>0</td>\n",
       "      <td>0</td>\n",
       "      <td>0</td>\n",
       "      <td>...</td>\n",
       "      <td>1</td>\n",
       "      <td>0</td>\n",
       "      <td>0</td>\n",
       "      <td>0</td>\n",
       "      <td>1</td>\n",
       "      <td>0</td>\n",
       "      <td>0</td>\n",
       "      <td>0</td>\n",
       "      <td>0</td>\n",
       "      <td>1</td>\n",
       "    </tr>\n",
       "    <tr>\n",
       "      <th>11755</th>\n",
       "      <td>0</td>\n",
       "      <td>0</td>\n",
       "      <td>0</td>\n",
       "      <td>1</td>\n",
       "      <td>0</td>\n",
       "      <td>0</td>\n",
       "      <td>0</td>\n",
       "      <td>0</td>\n",
       "      <td>0</td>\n",
       "      <td>0</td>\n",
       "      <td>...</td>\n",
       "      <td>0</td>\n",
       "      <td>0</td>\n",
       "      <td>1</td>\n",
       "      <td>0</td>\n",
       "      <td>1</td>\n",
       "      <td>0</td>\n",
       "      <td>0</td>\n",
       "      <td>0</td>\n",
       "      <td>1</td>\n",
       "      <td>1</td>\n",
       "    </tr>\n",
       "    <tr>\n",
       "      <th>11756</th>\n",
       "      <td>0</td>\n",
       "      <td>0</td>\n",
       "      <td>0</td>\n",
       "      <td>0</td>\n",
       "      <td>0</td>\n",
       "      <td>0</td>\n",
       "      <td>0</td>\n",
       "      <td>0</td>\n",
       "      <td>0</td>\n",
       "      <td>0</td>\n",
       "      <td>...</td>\n",
       "      <td>1</td>\n",
       "      <td>0</td>\n",
       "      <td>1</td>\n",
       "      <td>0</td>\n",
       "      <td>1</td>\n",
       "      <td>0</td>\n",
       "      <td>0</td>\n",
       "      <td>0</td>\n",
       "      <td>0</td>\n",
       "      <td>0</td>\n",
       "    </tr>\n",
       "    <tr>\n",
       "      <th>11757</th>\n",
       "      <td>0</td>\n",
       "      <td>0</td>\n",
       "      <td>0</td>\n",
       "      <td>0</td>\n",
       "      <td>0</td>\n",
       "      <td>0</td>\n",
       "      <td>0</td>\n",
       "      <td>0</td>\n",
       "      <td>1</td>\n",
       "      <td>0</td>\n",
       "      <td>...</td>\n",
       "      <td>1</td>\n",
       "      <td>0</td>\n",
       "      <td>0</td>\n",
       "      <td>0</td>\n",
       "      <td>0</td>\n",
       "      <td>0</td>\n",
       "      <td>0</td>\n",
       "      <td>0</td>\n",
       "      <td>0</td>\n",
       "      <td>0</td>\n",
       "    </tr>\n",
       "  </tbody>\n",
       "</table>\n",
       "<p>11758 rows × 100 columns</p>\n",
       "</div>"
      ],
      "text/plain": [
       "       84  74  131  132  71  70  69  68  67  66  ...  151  34  154  32  157  \\\n",
       "0       1   0    0    0   0   0   0   0   0   1  ...    1   0    1   0    1   \n",
       "1       1   0    0    1   0   0   0   0   1   0  ...    1   0    1   0    1   \n",
       "2       0   0    0    1   0   0   0   0   0   0  ...    1   0    1   0    1   \n",
       "3       0   0    0    1   0   0   0   0   0   1  ...    1   0    1   0    1   \n",
       "4       1   0    0    1   0   0   0   0   1   0  ...    1   0    0   0    1   \n",
       "...    ..  ..  ...  ...  ..  ..  ..  ..  ..  ..  ...  ...  ..  ...  ..  ...   \n",
       "11753   0   0    0    0   0   0   0   0   0   0  ...    1   0    1   0    1   \n",
       "11754   0   0    0    1   0   0   0   0   0   0  ...    1   0    0   0    1   \n",
       "11755   0   0    0    1   0   0   0   0   0   0  ...    0   0    1   0    1   \n",
       "11756   0   0    0    0   0   0   0   0   0   0  ...    1   0    1   0    1   \n",
       "11757   0   0    0    0   0   0   0   0   1   0  ...    1   0    0   0    0   \n",
       "\n",
       "       30  29  28  37  104  \n",
       "0       0   0   1   1    0  \n",
       "1       0   1   0   0    0  \n",
       "2       0   0   0   0    1  \n",
       "3       0   0   0   0    1  \n",
       "4       0   0   0   1    0  \n",
       "...    ..  ..  ..  ..  ...  \n",
       "11753   0   0   0   1    0  \n",
       "11754   0   0   0   0    1  \n",
       "11755   0   0   0   1    1  \n",
       "11756   0   0   0   0    0  \n",
       "11757   0   0   0   0    0  \n",
       "\n",
       "[11758 rows x 100 columns]"
      ]
     },
     "execution_count": 59,
     "metadata": {},
     "output_type": "execute_result"
    }
   ],
   "source": [
    "Xm[feat_sel.index]"
   ]
  },
  {
   "cell_type": "code",
   "execution_count": 60,
   "metadata": {},
   "outputs": [],
   "source": [
    "Xt_rfe_train,Xt_rfe_test,yt_rfe_train,yt_rfe_test=train_test_split(Xm[feat_sel.index],y,test_size=0.3,random_state=0)"
   ]
  },
  {
   "cell_type": "markdown",
   "metadata": {},
   "source": [
    "#### SR-HSE"
   ]
  },
  {
   "cell_type": "code",
   "execution_count": 61,
   "metadata": {},
   "outputs": [
    {
     "name": "stdout",
     "output_type": "stream",
     "text": [
      "The accuracy of the model is: 0.9478458049886621\n"
     ]
    }
   ],
   "source": [
    "sr_hse= yt_rfe_train['SR-HSE']\n",
    "lm.fit(Xt_rfe_train, sr_hse)\n",
    "newtaccuracy1=lm.score(Xt_rfe_test, yt_rfe_test['SR-HSE'])\n",
    "print(\"The accuracy of the model is:\",newtaccuracy1)"
   ]
  },
  {
   "cell_type": "markdown",
   "metadata": {},
   "source": [
    "#### NR-AR "
   ]
  },
  {
   "cell_type": "code",
   "execution_count": 62,
   "metadata": {},
   "outputs": [
    {
     "name": "stdout",
     "output_type": "stream",
     "text": [
      "The accuracy of the model is: 0.9733560090702947\n"
     ]
    }
   ],
   "source": [
    "nr_ar= yt_rfe_train['NR-AR']\n",
    "lm.fit(Xt_rfe_train, nr_ar)\n",
    "newtaccuracy2= lm.score(Xt_rfe_test, yt_rfe_test['NR-AR'])\n",
    "print(\"The accuracy of the model is:\",newtaccuracy2)"
   ]
  },
  {
   "cell_type": "markdown",
   "metadata": {},
   "source": [
    "#### SR-ARE"
   ]
  },
  {
   "cell_type": "code",
   "execution_count": 63,
   "metadata": {},
   "outputs": [
    {
     "name": "stdout",
     "output_type": "stream",
     "text": [
      "The accuracy of the model is: 0.8571428571428571\n"
     ]
    }
   ],
   "source": [
    "sr_are= yt_rfe_train['SR-ARE']\n",
    "lm.fit(Xt_rfe_train, sr_are)\n",
    "newtaccuracy3= lm.score(Xt_rfe_test, yt_rfe_test['SR-ARE'])\n",
    "print(\"The accuracy of the model is:\",newtaccuracy3)"
   ]
  },
  {
   "cell_type": "markdown",
   "metadata": {},
   "source": [
    "#### NR-Aromatase"
   ]
  },
  {
   "cell_type": "code",
   "execution_count": 64,
   "metadata": {},
   "outputs": [
    {
     "name": "stdout",
     "output_type": "stream",
     "text": [
      "The accuracy of the model is: 0.9441609977324263\n"
     ]
    }
   ],
   "source": [
    "nr_aromatase= yt_rfe_train['NR-Aromatase']\n",
    "lm.fit(Xt_rfe_train, nr_aromatase)\n",
    "newtaccuracy4= lm.score(Xt_rfe_test, yt_rfe_test['NR-Aromatase'])\n",
    "print(\"The accuracy of the model is:\",newtaccuracy4)"
   ]
  },
  {
   "cell_type": "markdown",
   "metadata": {},
   "source": [
    "#### NR-ER-LBD"
   ]
  },
  {
   "cell_type": "code",
   "execution_count": 65,
   "metadata": {},
   "outputs": [
    {
     "name": "stdout",
     "output_type": "stream",
     "text": [
      "The accuracy of the model is: 0.9518140589569161\n"
     ]
    }
   ],
   "source": [
    "nr_erlbd= yt_rfe_train['NR-ER-LBD']\n",
    "lm.fit(Xt_rfe_train, nr_erlbd)\n",
    "newtaccuracy5= lm.score(Xt_rfe_test, yt_rfe_test['NR-ER-LBD'])\n",
    "print(\"The accuracy of the model is:\",newtaccuracy5)"
   ]
  },
  {
   "cell_type": "markdown",
   "metadata": {},
   "source": [
    "#### NR-AhR"
   ]
  },
  {
   "cell_type": "code",
   "execution_count": 66,
   "metadata": {},
   "outputs": [
    {
     "name": "stdout",
     "output_type": "stream",
     "text": [
      "The accuracy of the model is: 0.9143990929705216\n"
     ]
    }
   ],
   "source": [
    "nr_ahr= yt_rfe_train['NR-AhR']\n",
    "lm.fit(Xt_rfe_train, nr_ahr)\n",
    "newtaccuracy6= lm.score(Xt_rfe_test, yt_rfe_test['NR-AhR'])\n",
    "print(\"The accuracy of the model is:\",newtaccuracy6)"
   ]
  },
  {
   "cell_type": "markdown",
   "metadata": {},
   "source": [
    "#### SR-MMP"
   ]
  },
  {
   "cell_type": "code",
   "execution_count": 67,
   "metadata": {},
   "outputs": [
    {
     "name": "stdout",
     "output_type": "stream",
     "text": [
      "The accuracy of the model is: 0.8835034013605442\n"
     ]
    }
   ],
   "source": [
    "sr_mmp= yt_rfe_train['SR-MMP']\n",
    "lm.fit(Xt_rfe_train, sr_mmp)\n",
    "newtaccuracy7= lm.score(Xt_rfe_test, yt_rfe_test['SR-MMP'])\n",
    "print(\"The accuracy of the model is:\",newtaccuracy7)"
   ]
  },
  {
   "cell_type": "markdown",
   "metadata": {},
   "source": [
    "#### NR-ER"
   ]
  },
  {
   "cell_type": "code",
   "execution_count": 68,
   "metadata": {},
   "outputs": [
    {
     "name": "stdout",
     "output_type": "stream",
     "text": [
      "The accuracy of the model is: 0.907312925170068\n"
     ]
    }
   ],
   "source": [
    "nr_er= yt_rfe_train['NR-ER']\n",
    "lm.fit(Xt_rfe_train, nr_er)\n",
    "newtaccuracy8= lm.score(Xt_rfe_test, yt_rfe_test['NR-ER'])\n",
    "print(\"The accuracy of the model is:\",newtaccuracy8)"
   ]
  },
  {
   "cell_type": "markdown",
   "metadata": {},
   "source": [
    "#### NR-PPAR-gamma"
   ]
  },
  {
   "cell_type": "code",
   "execution_count": 69,
   "metadata": {},
   "outputs": [
    {
     "name": "stdout",
     "output_type": "stream",
     "text": [
      "The accuracy of the model is: 0.9744897959183674\n"
     ]
    }
   ],
   "source": [
    "nr_ppar= yt_rfe_train['NR-PPAR-gamma']\n",
    "lm.fit(Xt_rfe_train, nr_ppar)\n",
    "newtaccuracy9= lm.score(Xt_rfe_test, yt_rfe_test['NR-PPAR-gamma'])\n",
    "print(\"The accuracy of the model is:\",newtaccuracy9)"
   ]
  },
  {
   "cell_type": "markdown",
   "metadata": {},
   "source": [
    "#### SR-p53"
   ]
  },
  {
   "cell_type": "code",
   "execution_count": 70,
   "metadata": {},
   "outputs": [
    {
     "name": "stdout",
     "output_type": "stream",
     "text": [
      "The accuracy of the model is: 0.9410430839002267\n"
     ]
    }
   ],
   "source": [
    "sr_p53= yt_rfe_train['SR-p53']\n",
    "lm.fit(Xt_rfe_train, sr_p53)\n",
    "newtaccuracy10= lm.score(Xt_rfe_test, yt_rfe_test['SR-p53'])\n",
    "print(\"The accuracy of the model is:\",newtaccuracy10)"
   ]
  },
  {
   "cell_type": "markdown",
   "metadata": {},
   "source": [
    "#### SR-ATAD5"
   ]
  },
  {
   "cell_type": "code",
   "execution_count": 71,
   "metadata": {},
   "outputs": [
    {
     "name": "stdout",
     "output_type": "stream",
     "text": [
      "The accuracy of the model is: 0.9722222222222222\n"
     ]
    }
   ],
   "source": [
    "sr_atad5= yt_rfe_train['SR-ATAD5']\n",
    "lm.fit(Xt_rfe_train, sr_atad5)\n",
    "newtaccuracy11= lm.score(Xt_rfe_test, yt_rfe_test['SR-ATAD5'])\n",
    "print(\"The accuracy of the model is:\",newtaccuracy11)"
   ]
  },
  {
   "cell_type": "markdown",
   "metadata": {},
   "source": [
    "#### NR-AR-LBD"
   ]
  },
  {
   "cell_type": "code",
   "execution_count": 72,
   "metadata": {},
   "outputs": [
    {
     "name": "stdout",
     "output_type": "stream",
     "text": [
      "The accuracy of the model is: 0.9744897959183674\n"
     ]
    }
   ],
   "source": [
    "nr_arlbd= yt_rfe_train['NR-AR-LBD']\n",
    "lm.fit(Xt_rfe_train, nr_arlbd)\n",
    "newtaccuracy12= lm.score(Xt_rfe_test, yt_rfe_test['NR-AR-LBD'])\n",
    "print(\"The accuracy of the model is:\",newtaccuracy12)"
   ]
  },
  {
   "cell_type": "code",
   "execution_count": 87,
   "metadata": {},
   "outputs": [
    {
     "name": "stdout",
     "output_type": "stream",
     "text": [
      "\u001b[1mLogistic Regression:\u001b[0m\n",
      "\u001b[1mBefore Feature Selection:\u001b[0m\n",
      "SR-HSE: \t 0.9492630385487528\n",
      "NR-AR: \t 0.9688208616780045\n",
      "SR-ARE: \t 0.8463718820861678\n",
      "NR-Aromatase: \t 0.9382086167800453\n",
      "NR-ER-LBD: \t 0.9546485260770975\n",
      "NR-AhR: \t 0.905045351473923\n",
      "SR-MMP: \t 0.8823696145124716\n",
      "NR-ER: \t 0.9056122448979592\n",
      "NR-PPAR-gamma: \t 0.9767573696145124\n",
      "SR-p53: \t 0.9362244897959183\n",
      "SR-ATAD5: \t 0.9693877551020408\n",
      "NR-AR-LBD: \t 0.9682539682539683\n",
      "Average: \t 0.9334136432350718\n",
      "------------------------------\n",
      "\n",
      "\u001b[1mAfter Feature Selection:\u001b[0m\n",
      "SR-HSE: \t 0.9478458049886621\n",
      "NR-AR: \t 0.9733560090702947\n",
      "SR-ARE: \t 0.8571428571428571\n",
      "NR-Aromatase: \t 0.9441609977324263\n",
      "NR-ER-LBD: \t 0.9518140589569161\n",
      "NR-AhR: \t 0.9143990929705216\n",
      "SR-MMP: \t 0.8835034013605442\n",
      "NR-ER: \t 0.907312925170068\n",
      "NR-PPAR-gamma: \t 0.9744897959183674\n",
      "SR-p53: \t 0.9410430839002267\n",
      "SR-ATAD5: \t 0.9722222222222222\n",
      "NR-AR-LBD: \t 0.9744897959183674\n",
      "Average: \t 0.9368150037792894\n"
     ]
    }
   ],
   "source": [
    "print(\"\\033[1m\" + \"Logistic Regression:\" + \"\\033[0m\")\n",
    "print(\"\\033[1m\" + \"Before Feature Selection:\" + \"\\033[0m\")\n",
    "print(\"SR-HSE: \\t\", taccuracy1)\n",
    "print(\"NR-AR: \\t\", taccuracy2)\n",
    "print(\"SR-ARE: \\t\", taccuracy3)\n",
    "print(\"NR-Aromatase: \\t\", taccuracy4)\n",
    "print(\"NR-ER-LBD: \\t\", taccuracy5)\n",
    "print(\"NR-AhR: \\t\", taccuracy6)\n",
    "print(\"SR-MMP: \\t\", taccuracy7)\n",
    "print(\"NR-ER: \\t\", taccuracy8)\n",
    "print(\"NR-PPAR-gamma: \\t\", taccuracy9)\n",
    "print(\"SR-p53: \\t\", taccuracy10)\n",
    "print(\"SR-ATAD5: \\t\", taccuracy11)\n",
    "print(\"NR-AR-LBD: \\t\", taccuracy12)\n",
    "print(\"Average: \\t\", (taccuracy1+taccuracy2+taccuracy3+taccuracy4+taccuracy5+taccuracy6+taccuracy7+taccuracy8+taccuracy9+taccuracy10+taccuracy11+taccuracy12)/12)\n",
    "\n",
    "print(\"------------------------------\\n\")\n",
    "print(\"\\033[1m\" + \"After Feature Selection:\" + \"\\033[0m\")\n",
    "print(\"SR-HSE: \\t\", newtaccuracy1)\n",
    "print(\"NR-AR: \\t\", newtaccuracy2)\n",
    "print(\"SR-ARE: \\t\", newtaccuracy3)\n",
    "print(\"NR-Aromatase: \\t\", newtaccuracy4)\n",
    "print(\"NR-ER-LBD: \\t\", newtaccuracy5)\n",
    "print(\"NR-AhR: \\t\", newtaccuracy6)\n",
    "print(\"SR-MMP: \\t\", newtaccuracy7)\n",
    "print(\"NR-ER: \\t\", newtaccuracy8)\n",
    "print(\"NR-PPAR-gamma: \\t\", newtaccuracy9)\n",
    "print(\"SR-p53: \\t\", newtaccuracy10)\n",
    "print(\"SR-ATAD5: \\t\", newtaccuracy11)\n",
    "print(\"NR-AR-LBD: \\t\", newtaccuracy12)\n",
    "print(\"Average: \\t\", (newtaccuracy1+newtaccuracy2+newtaccuracy3+newtaccuracy4+newtaccuracy5+newtaccuracy6+newtaccuracy7+newtaccuracy8+newtaccuracy9+newtaccuracy10+newtaccuracy11+newtaccuracy12)/12)\n"
   ]
  },
  {
   "cell_type": "markdown",
   "metadata": {},
   "source": [
    "### Re-training SVM SVC"
   ]
  },
  {
   "cell_type": "markdown",
   "metadata": {},
   "source": [
    "#### SR-HSE"
   ]
  },
  {
   "cell_type": "code",
   "execution_count": 74,
   "metadata": {},
   "outputs": [
    {
     "name": "stdout",
     "output_type": "stream",
     "text": [
      "The accuracy of the model is: 0.9282879818594104\n"
     ]
    }
   ],
   "source": [
    "sr_hse= yt_rfe_train['SR-HSE']\n",
    "sig.fit(Xt_rfe_train, sr_hse)\n",
    "newtsaccuracy1=sig.score(Xt_rfe_test, yt_rfe_test['SR-HSE'])\n",
    "print(\"The accuracy of the model is:\",newtsaccuracy1)"
   ]
  },
  {
   "cell_type": "markdown",
   "metadata": {},
   "source": [
    "#### NR-AR "
   ]
  },
  {
   "cell_type": "code",
   "execution_count": 75,
   "metadata": {},
   "outputs": [
    {
     "name": "stdout",
     "output_type": "stream",
     "text": [
      "The accuracy of the model is: 0.953798185941043\n"
     ]
    }
   ],
   "source": [
    "nr_ar= yt_rfe_train['NR-AR']\n",
    "sig.fit(Xt_rfe_train, nr_ar)\n",
    "newtsaccuracy2= sig.score(Xt_rfe_test, yt_rfe_test['NR-AR'])\n",
    "print(\"The accuracy of the model is:\",newtsaccuracy2)"
   ]
  },
  {
   "cell_type": "markdown",
   "metadata": {},
   "source": [
    "#### SR-ARE"
   ]
  },
  {
   "cell_type": "code",
   "execution_count": 76,
   "metadata": {},
   "outputs": [
    {
     "name": "stdout",
     "output_type": "stream",
     "text": [
      "The accuracy of the model is: 0.786281179138322\n"
     ]
    }
   ],
   "source": [
    "sr_are= yt_rfe_train['SR-ARE']\n",
    "sig.fit(Xt_rfe_train, sr_are)\n",
    "newtsaccuracy3= sig.score(Xt_rfe_test, yt_rfe_test['SR-ARE'])\n",
    "print(\"The accuracy of the model is:\",newtsaccuracy3)"
   ]
  },
  {
   "cell_type": "markdown",
   "metadata": {},
   "source": [
    "#### NR-Aromatase"
   ]
  },
  {
   "cell_type": "code",
   "execution_count": 77,
   "metadata": {},
   "outputs": [
    {
     "name": "stdout",
     "output_type": "stream",
     "text": [
      "The accuracy of the model is: 0.9143990929705216\n"
     ]
    }
   ],
   "source": [
    "nr_aromatase= yt_rfe_train['NR-Aromatase']\n",
    "sig.fit(Xt_rfe_train, nr_aromatase)\n",
    "newtsaccuracy4= sig.score(Xt_rfe_test, yt_rfe_test['NR-Aromatase'])\n",
    "print(\"The accuracy of the model is:\",newtsaccuracy4)"
   ]
  },
  {
   "cell_type": "markdown",
   "metadata": {},
   "source": [
    "#### NR-ER-LBD"
   ]
  },
  {
   "cell_type": "code",
   "execution_count": 78,
   "metadata": {},
   "outputs": [
    {
     "name": "stdout",
     "output_type": "stream",
     "text": [
      "The accuracy of the model is: 0.935374149659864\n"
     ]
    }
   ],
   "source": [
    "nr_erlbd= yt_rfe_train['NR-ER-LBD']\n",
    "sig.fit(Xt_rfe_train, nr_erlbd)\n",
    "newtsaccuracy5= sig.score(Xt_rfe_test, yt_rfe_test['NR-ER-LBD'])\n",
    "print(\"The accuracy of the model is:\",newtsaccuracy5)"
   ]
  },
  {
   "cell_type": "markdown",
   "metadata": {},
   "source": [
    "#### NR-AhR"
   ]
  },
  {
   "cell_type": "code",
   "execution_count": 79,
   "metadata": {},
   "outputs": [
    {
     "name": "stdout",
     "output_type": "stream",
     "text": [
      "The accuracy of the model is: 0.8772675736961452\n"
     ]
    }
   ],
   "source": [
    "nr_ahr= yt_rfe_train['NR-AhR']\n",
    "sig.fit(Xt_rfe_train, nr_ahr)\n",
    "newtsaccuracy6= sig.score(Xt_rfe_test, yt_rfe_test['NR-AhR'])\n",
    "print(\"The accuracy of the model is:\",newtsaccuracy6)"
   ]
  },
  {
   "cell_type": "markdown",
   "metadata": {},
   "source": [
    "#### SR-MMP"
   ]
  },
  {
   "cell_type": "code",
   "execution_count": 80,
   "metadata": {},
   "outputs": [
    {
     "name": "stdout",
     "output_type": "stream",
     "text": [
      "The accuracy of the model is: 0.8324829931972789\n"
     ]
    }
   ],
   "source": [
    "sr_mmp= yt_rfe_train['SR-MMP']\n",
    "sig.fit(Xt_rfe_train, sr_mmp)\n",
    "newtsaccuracy7= sig.score(Xt_rfe_test, yt_rfe_test['SR-MMP'])\n",
    "print(\"The accuracy of the model is:\",newtsaccuracy7)"
   ]
  },
  {
   "cell_type": "markdown",
   "metadata": {},
   "source": [
    "#### NR-ER"
   ]
  },
  {
   "cell_type": "code",
   "execution_count": 81,
   "metadata": {},
   "outputs": [
    {
     "name": "stdout",
     "output_type": "stream",
     "text": [
      "The accuracy of the model is: 0.8577097505668935\n"
     ]
    }
   ],
   "source": [
    "nr_er= yt_rfe_train['NR-ER']\n",
    "sig.fit(Xt_rfe_train, nr_er)\n",
    "newtsaccuracy8= sig.score(Xt_rfe_test, yt_rfe_test['NR-ER'])\n",
    "print(\"The accuracy of the model is:\",newtsaccuracy8)"
   ]
  },
  {
   "cell_type": "markdown",
   "metadata": {},
   "source": [
    "#### NR-PPAR-gamma"
   ]
  },
  {
   "cell_type": "code",
   "execution_count": 82,
   "metadata": {},
   "outputs": [
    {
     "name": "stdout",
     "output_type": "stream",
     "text": [
      "The accuracy of the model is: 0.9710884353741497\n"
     ]
    }
   ],
   "source": [
    "nr_ppar= yt_rfe_train['NR-PPAR-gamma']\n",
    "sig.fit(Xt_rfe_train, nr_ppar)\n",
    "newtsaccuracy9= sig.score(Xt_rfe_test, yt_rfe_test['NR-PPAR-gamma'])\n",
    "print(\"The accuracy of the model is:\",newtsaccuracy9)"
   ]
  },
  {
   "cell_type": "markdown",
   "metadata": {},
   "source": [
    "#### SR-p53"
   ]
  },
  {
   "cell_type": "code",
   "execution_count": 83,
   "metadata": {},
   "outputs": [
    {
     "name": "stdout",
     "output_type": "stream",
     "text": [
      "The accuracy of the model is: 0.9149659863945578\n"
     ]
    }
   ],
   "source": [
    "sr_p53= yt_rfe_train['SR-p53']\n",
    "sig.fit(Xt_rfe_train, sr_p53)\n",
    "newtsaccuracy10= sig.score(Xt_rfe_test, yt_rfe_test['SR-p53'])\n",
    "print(\"The accuracy of the model is:\",newtsaccuracy10)"
   ]
  },
  {
   "cell_type": "markdown",
   "metadata": {},
   "source": [
    "#### SR-ATAD5"
   ]
  },
  {
   "cell_type": "code",
   "execution_count": 84,
   "metadata": {},
   "outputs": [
    {
     "name": "stdout",
     "output_type": "stream",
     "text": [
      "The accuracy of the model is: 0.9648526077097506\n"
     ]
    }
   ],
   "source": [
    "sr_atad5= yt_rfe_train['SR-ATAD5']\n",
    "sig.fit(Xt_rfe_train, sr_atad5)\n",
    "newtsaccuracy11= sig.score(Xt_rfe_test, yt_rfe_test['SR-ATAD5'])\n",
    "print(\"The accuracy of the model is:\",newtsaccuracy11)"
   ]
  },
  {
   "cell_type": "markdown",
   "metadata": {},
   "source": [
    "#### NR-AR-LBD"
   ]
  },
  {
   "cell_type": "code",
   "execution_count": 85,
   "metadata": {},
   "outputs": [
    {
     "name": "stdout",
     "output_type": "stream",
     "text": [
      "The accuracy of the model is: 0.9512471655328798\n"
     ]
    }
   ],
   "source": [
    "nr_arlbd= yt_rfe_train['NR-AR-LBD']\n",
    "sig.fit(Xt_rfe_train, nr_arlbd)\n",
    "newtsaccuracy12= sig.score(Xt_rfe_test, yt_rfe_test['NR-AR-LBD'])\n",
    "print(\"The accuracy of the model is:\",newtsaccuracy12)"
   ]
  },
  {
   "cell_type": "code",
   "execution_count": 86,
   "metadata": {},
   "outputs": [
    {
     "name": "stdout",
     "output_type": "stream",
     "text": [
      "\u001b[1mSVM SC Regression:\u001b[0m\n",
      "\u001b[1mBefore Feature Selection:\u001b[0m\n",
      "SR-HSE: \t 0.9095804988662132\n",
      "NR-AR: \t 0.951530612244898\n",
      "SR-ARE: \t 0.7395124716553289\n",
      "NR-Aromatase: \t 0.8934240362811792\n",
      "NR-ER-LBD: \t 0.925453514739229\n",
      "NR-AhR: \t 0.873015873015873\n",
      "SR-MMP: \t 0.7970521541950113\n",
      "NR-ER: \t 0.8679138321995464\n",
      "NR-PPAR-gamma: \t 0.9744897959183674\n",
      "SR-p53: \t 0.8942743764172335\n",
      "SR-ATAD5: \t 0.9518140589569161\n",
      "NR-AR-LBD: \t 0.9520975056689343\n",
      "Average: \t 0.8941798941798943\n",
      "------------------------------\n",
      "\n",
      "\u001b[1mAfter Feature Selection:\u001b[0m\n",
      "SR-HSE: \t 0.9282879818594104\n",
      "NR-AR: \t 0.953798185941043\n",
      "SR-ARE: \t 0.786281179138322\n",
      "NR-Aromatase: \t 0.9143990929705216\n",
      "NR-ER-LBD: \t 0.935374149659864\n",
      "NR-AhR: \t 0.8772675736961452\n",
      "SR-MMP: \t 0.8324829931972789\n",
      "NR-ER: \t 0.8577097505668935\n",
      "NR-PPAR-gamma: \t 0.9710884353741497\n",
      "SR-p53: \t 0.9149659863945578\n",
      "SR-ATAD5: \t 0.9648526077097506\n",
      "NR-AR-LBD: \t 0.9512471655328798\n",
      "Average: \t 0.9073129251700681\n"
     ]
    }
   ],
   "source": [
    "print(\"\\033[1m\" + \"SVM SC Regression:\" + \"\\033[0m\")\n",
    "print(\"\\033[1m\" + \"Before Feature Selection:\" + \"\\033[0m\")\n",
    "print(\"SR-HSE: \\t\", tsaccuracy1)\n",
    "print(\"NR-AR: \\t\", tsaccuracy2)\n",
    "print(\"SR-ARE: \\t\", tsaccuracy3)\n",
    "print(\"NR-Aromatase: \\t\", tsaccuracy4)\n",
    "print(\"NR-ER-LBD: \\t\", tsaccuracy5)\n",
    "print(\"NR-AhR: \\t\", tsaccuracy6)\n",
    "print(\"SR-MMP: \\t\", tsaccuracy7)\n",
    "print(\"NR-ER: \\t\", tsaccuracy8)\n",
    "print(\"NR-PPAR-gamma: \\t\", tsaccuracy9)\n",
    "print(\"SR-p53: \\t\", tsaccuracy10)\n",
    "print(\"SR-ATAD5: \\t\", tsaccuracy11)\n",
    "print(\"NR-AR-LBD: \\t\", tsaccuracy12)\n",
    "print(\"Average: \\t\", (tsaccuracy1+tsaccuracy2+tsaccuracy3+tsaccuracy4+tsaccuracy5+tsaccuracy6+tsaccuracy7+tsaccuracy8+tsaccuracy9+tsaccuracy10+tsaccuracy11+tsaccuracy12)/12)\n",
    "\n",
    "print(\"------------------------------\\n\")\n",
    "print(\"\\033[1m\" + \"After Feature Selection:\" + \"\\033[0m\")\n",
    "print(\"SR-HSE: \\t\", newtsaccuracy1)\n",
    "print(\"NR-AR: \\t\", newtsaccuracy2)\n",
    "print(\"SR-ARE: \\t\", newtsaccuracy3)\n",
    "print(\"NR-Aromatase: \\t\", newtsaccuracy4)\n",
    "print(\"NR-ER-LBD: \\t\", newtsaccuracy5)\n",
    "print(\"NR-AhR: \\t\", newtsaccuracy6)\n",
    "print(\"SR-MMP: \\t\", newtsaccuracy7)\n",
    "print(\"NR-ER: \\t\", newtsaccuracy8)\n",
    "print(\"NR-PPAR-gamma: \\t\", newtsaccuracy9)\n",
    "print(\"SR-p53: \\t\", newtsaccuracy10)\n",
    "print(\"SR-ATAD5: \\t\", newtsaccuracy11)\n",
    "print(\"NR-AR-LBD: \\t\", newtsaccuracy12)\n",
    "print(\"Average: \\t\", (newtsaccuracy1+newtsaccuracy2+newtsaccuracy3+newtsaccuracy4+newtsaccuracy5+newtsaccuracy6+newtsaccuracy7+newtsaccuracy8+newtsaccuracy9+newtsaccuracy10+newtsaccuracy11+newtsaccuracy12)/12)\n"
   ]
  },
  {
   "cell_type": "markdown",
   "metadata": {},
   "source": [
    "### Re-training neural network"
   ]
  },
  {
   "cell_type": "code",
   "execution_count": null,
   "metadata": {},
   "outputs": [],
   "source": [
    "Xt_rfe_train,Xt_rfe_test,yt_rfe_train,yt_rfe_test"
   ]
  },
  {
   "cell_type": "code",
   "execution_count": 88,
   "metadata": {},
   "outputs": [
    {
     "name": "stdout",
     "output_type": "stream",
     "text": [
      "Executing op VarHandleOp in device /job:localhost/replica:0/task:0/device:GPU:0\n"
     ]
    }
   ],
   "source": [
    "from tensorflow import keras\n",
    "from tensorflow.keras import layers\n",
    "newmacmodel = keras.Sequential(\n",
    "    [\n",
    "        layers.Embedding(len(Xt_rfe_train),128,name=\"embedding_layer\", input_length= len(Xt_rfe_train.iloc[0])),\n",
    "        layers.Dense(1300, activation=\"relu\"),\n",
    "        #layers.Dense(3, activation=\"relu\"),\n",
    "        layers.Flatten(),\n",
    "        layers.Dropout(0.5),\n",
    "        layers.Dense(12,activation='sigmoid', name=\"Output_layer\"),\n",
    "    ]\n",
    ")"
   ]
  },
  {
   "cell_type": "code",
   "execution_count": 89,
   "metadata": {},
   "outputs": [
    {
     "name": "stdout",
     "output_type": "stream",
     "text": [
      "Model: \"sequential_1\"\n",
      "_________________________________________________________________\n",
      "Layer (type)                 Output Shape              Param #   \n",
      "=================================================================\n",
      "embedding_layer (Embedding)  (None, 100, 128)          1053440   \n",
      "_________________________________________________________________\n",
      "dense_1 (Dense)              (None, 100, 1300)         167700    \n",
      "_________________________________________________________________\n",
      "flatten_1 (Flatten)          (None, 130000)            0         \n",
      "_________________________________________________________________\n",
      "dropout_1 (Dropout)          (None, 130000)            0         \n",
      "_________________________________________________________________\n",
      "Output_layer (Dense)         (None, 12)                1560012   \n",
      "=================================================================\n",
      "Total params: 2,781,152\n",
      "Trainable params: 2,781,152\n",
      "Non-trainable params: 0\n",
      "_________________________________________________________________\n",
      "Executing op RangeDataset in device /job:localhost/replica:0/task:0/device:CPU:0\n",
      "Executing op RepeatDataset in device /job:localhost/replica:0/task:0/device:CPU:0\n",
      "Executing op MapDataset in device /job:localhost/replica:0/task:0/device:CPU:0\n",
      "Executing op PrefetchDataset in device /job:localhost/replica:0/task:0/device:CPU:0\n",
      "Executing op FlatMapDataset in device /job:localhost/replica:0/task:0/device:CPU:0\n",
      "Executing op TensorDataset in device /job:localhost/replica:0/task:0/device:CPU:0\n",
      "Executing op RepeatDataset in device /job:localhost/replica:0/task:0/device:CPU:0\n",
      "Executing op ZipDataset in device /job:localhost/replica:0/task:0/device:CPU:0\n",
      "Executing op ParallelMapDataset in device /job:localhost/replica:0/task:0/device:CPU:0\n",
      "Executing op ModelDataset in device /job:localhost/replica:0/task:0/device:CPU:0\n",
      "Executing op AnonymousIteratorV2 in device /job:localhost/replica:0/task:0/device:CPU:0\n",
      "Epoch 1/10\n",
      "Executing op VarHandleOp in device /job:localhost/replica:0/task:0/device:GPU:0\n",
      "Executing op VarHandleOp in device /job:localhost/replica:0/task:0/device:GPU:0\n",
      "Executing op VarHandleOp in device /job:localhost/replica:0/task:0/device:GPU:0\n",
      "Executing op VarHandleOp in device /job:localhost/replica:0/task:0/device:GPU:0\n",
      "Executing op VarHandleOp in device /job:localhost/replica:0/task:0/device:GPU:0\n",
      "Executing op VarHandleOp in device /job:localhost/replica:0/task:0/device:CPU:0\n",
      "Executing op VarHandleOp in device /job:localhost/replica:0/task:0/device:GPU:0\n",
      "Executing op VarHandleOp in device /job:localhost/replica:0/task:0/device:GPU:0\n",
      "Executing op VarHandleOp in device /job:localhost/replica:0/task:0/device:GPU:0\n",
      "Executing op VarHandleOp in device /job:localhost/replica:0/task:0/device:GPU:0\n",
      "Executing op VarHandleOp in device /job:localhost/replica:0/task:0/device:CPU:0\n",
      "Executing op VarHandleOp in device /job:localhost/replica:0/task:0/device:GPU:0\n",
      "Executing op VarHandleOp in device /job:localhost/replica:0/task:0/device:GPU:0\n",
      "Executing op VarHandleOp in device /job:localhost/replica:0/task:0/device:GPU:0\n",
      "Executing op VarHandleOp in device /job:localhost/replica:0/task:0/device:GPU:0\n",
      "Executing op VarHandleOp in device /job:localhost/replica:0/task:0/device:GPU:0\n",
      "Executing op VarHandleOp in device /job:localhost/replica:0/task:0/device:GPU:0\n",
      "Executing op __inference_train_function_1464117 in device /job:localhost/replica:0/task:0/device:GPU:0\n",
      "Epoch 2/10\n",
      "Epoch 3/10\n",
      "Epoch 4/10\n",
      "Epoch 5/10\n",
      "Epoch 6/10\n",
      "Epoch 7/10\n",
      "Epoch 8/10\n",
      "Epoch 9/10\n",
      "Epoch 10/10\n"
     ]
    },
    {
     "data": {
      "text/plain": [
       "<tensorflow.python.keras.callbacks.History at 0x7fec64344ee0>"
      ]
     },
     "execution_count": 89,
     "metadata": {},
     "output_type": "execute_result"
    }
   ],
   "source": [
    "newmacmodel.summary()\n",
    "\n",
    "#compile and fit the model\n",
    "newmacmodel.compile(optimizer='adam', loss='binary_crossentropy', metrics=['accuracy'])\n",
    "\n",
    "#fit to model\n",
    "newmacmodel.fit(Xt_rfe_train, yt_rfe_train, epochs=10, batch_size=48, verbose=0.1)"
   ]
  },
  {
   "cell_type": "code",
   "execution_count": 90,
   "metadata": {},
   "outputs": [
    {
     "name": "stdout",
     "output_type": "stream",
     "text": [
      "Executing op RangeDataset in device /job:localhost/replica:0/task:0/device:CPU:0\n",
      "Executing op RepeatDataset in device /job:localhost/replica:0/task:0/device:CPU:0\n",
      "Executing op MapDataset in device /job:localhost/replica:0/task:0/device:CPU:0\n",
      "Executing op PrefetchDataset in device /job:localhost/replica:0/task:0/device:CPU:0\n",
      "Executing op FlatMapDataset in device /job:localhost/replica:0/task:0/device:CPU:0\n",
      "Executing op TensorDataset in device /job:localhost/replica:0/task:0/device:CPU:0\n",
      "Executing op RepeatDataset in device /job:localhost/replica:0/task:0/device:CPU:0\n",
      "Executing op ZipDataset in device /job:localhost/replica:0/task:0/device:CPU:0\n",
      "Executing op ParallelMapDataset in device /job:localhost/replica:0/task:0/device:CPU:0\n",
      "Executing op ModelDataset in device /job:localhost/replica:0/task:0/device:CPU:0\n",
      "Executing op AnonymousIteratorV2 in device /job:localhost/replica:0/task:0/device:CPU:0\n",
      "Executing op __inference_predict_function_1467695 in device /job:localhost/replica:0/task:0/device:GPU:0\n",
      "The accuracy for the training set is:  0.9375253138922641\n"
     ]
    }
   ],
   "source": [
    "#using model.predict to do thresholding\n",
    "newmacpred = newmacmodel.predict(Xt_rfe_train)\n",
    "newmacpred= tf.dtypes.cast(newmacpred>= 0.5, tf.int64)\n",
    "\n",
    "#for training data\n",
    "count=0\n",
    "for i in range(len(yt_rfe_train)):\n",
    "    a= (yt_rfe_train.iloc[i]==newmacpred[i])\n",
    "    for j in range(len(a)):\n",
    "        if (yt_rfe_train.iloc[i][j]==newmacpred[i][j]):\n",
    "            count= count+1\n",
    "print(\"The accuracy for the training set is: \",(count)/(len(yt_rfe_train)*12))"
   ]
  },
  {
   "cell_type": "code",
   "execution_count": 91,
   "metadata": {},
   "outputs": [
    {
     "name": "stdout",
     "output_type": "stream",
     "text": [
      "Executing op RangeDataset in device /job:localhost/replica:0/task:0/device:CPU:0\n",
      "Executing op RepeatDataset in device /job:localhost/replica:0/task:0/device:CPU:0\n",
      "Executing op MapDataset in device /job:localhost/replica:0/task:0/device:CPU:0\n",
      "Executing op PrefetchDataset in device /job:localhost/replica:0/task:0/device:CPU:0\n",
      "Executing op FlatMapDataset in device /job:localhost/replica:0/task:0/device:CPU:0\n",
      "Executing op TensorDataset in device /job:localhost/replica:0/task:0/device:CPU:0\n",
      "Executing op RepeatDataset in device /job:localhost/replica:0/task:0/device:CPU:0\n",
      "Executing op ZipDataset in device /job:localhost/replica:0/task:0/device:CPU:0\n",
      "Executing op ParallelMapDataset in device /job:localhost/replica:0/task:0/device:CPU:0\n",
      "Executing op ModelDataset in device /job:localhost/replica:0/task:0/device:CPU:0\n",
      "The accuracy for test score is:  0.9373818972033258\n"
     ]
    }
   ],
   "source": [
    "#for test set\n",
    "newmacpredtest= newmacmodel.predict(Xt_rfe_test)\n",
    "newmacpredtest= tf.dtypes.cast(newmacpredtest>= 0.5, tf.int64)\n",
    "count=0\n",
    "for i in range(len(yt_rfe_test)):\n",
    "    a= (yt_rfe_test.iloc[i]==newmacpredtest[i])\n",
    "    for j in range(len(a)):\n",
    "        if (yt_rfe_test.iloc[i][j]==newmacpredtest[i][j]):\n",
    "            count= count+1\n",
    "print(\"The accuracy for test score is: \", count/(len(yt_rfe_test)*12))"
   ]
  },
  {
   "cell_type": "code",
   "execution_count": 92,
   "metadata": {},
   "outputs": [
    {
     "name": "stdout",
     "output_type": "stream",
     "text": [
      "Executing op RangeDataset in device /job:localhost/replica:0/task:0/device:CPU:0\n",
      "Executing op RepeatDataset in device /job:localhost/replica:0/task:0/device:CPU:0\n",
      "Executing op MapDataset in device /job:localhost/replica:0/task:0/device:CPU:0\n",
      "Executing op PrefetchDataset in device /job:localhost/replica:0/task:0/device:CPU:0\n",
      "Executing op FlatMapDataset in device /job:localhost/replica:0/task:0/device:CPU:0\n",
      "Executing op TensorDataset in device /job:localhost/replica:0/task:0/device:CPU:0\n",
      "Executing op RepeatDataset in device /job:localhost/replica:0/task:0/device:CPU:0\n",
      "Executing op ZipDataset in device /job:localhost/replica:0/task:0/device:CPU:0\n",
      "Executing op ParallelMapDataset in device /job:localhost/replica:0/task:0/device:CPU:0\n",
      "Executing op ModelDataset in device /job:localhost/replica:0/task:0/device:CPU:0\n",
      "Executing op __inference_test_function_2926284 in device /job:localhost/replica:0/task:0/device:GPU:0\n",
      "28/28 [==============================] - 0s 6ms/step - loss: 0.1922 - accuracy: 0.1202\n"
     ]
    },
    {
     "data": {
      "text/plain": [
       "0.19217069447040558"
      ]
     },
     "execution_count": 92,
     "metadata": {},
     "output_type": "execute_result"
    }
   ],
   "source": [
    "loss, acc= newmacmodel.evaluate(Xt_rfe_test, yt_rfe_test, batch_size=128)\n",
    "loss"
   ]
  },
  {
   "cell_type": "code",
   "execution_count": null,
   "metadata": {},
   "outputs": [],
   "source": []
  },
  {
   "cell_type": "code",
   "execution_count": null,
   "metadata": {},
   "outputs": [],
   "source": []
  }
 ],
 "metadata": {
  "kernelspec": {
   "display_name": "Python 3",
   "language": "python",
   "name": "python3"
  },
  "language_info": {
   "codemirror_mode": {
    "name": "ipython",
    "version": 3
   },
   "file_extension": ".py",
   "mimetype": "text/x-python",
   "name": "python",
   "nbconvert_exporter": "python",
   "pygments_lexer": "ipython3",
   "version": "3.7.7"
  }
 },
 "nbformat": 4,
 "nbformat_minor": 4
}
