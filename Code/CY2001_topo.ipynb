{
 "cells": [
  {
   "cell_type": "code",
   "execution_count": 1,
   "metadata": {},
   "outputs": [
    {
     "name": "stdout",
     "output_type": "stream",
     "text": [
      "2.2.0\n",
      "Num GPUs Available:  1\n",
      "Executing op MatMul in device /job:localhost/replica:0/task:0/device:GPU:0\n",
      "tf.Tensor(\n",
      "[[22. 28.]\n",
      " [49. 64.]], shape=(2, 2), dtype=float32)\n"
     ]
    }
   ],
   "source": [
    "#gpu stuff and testing\n",
    "import os\n",
    "os.environ[\"CUDA_DEVICE_ORDER\"]= \"PCI_BUS_ID\"\n",
    "os.environ[\"CUDA_VISIBLE_DEVICES\"]= \"0\"\n",
    "##############################################\n",
    "import tensorflow as tf\n",
    "print(tf.__version__)\n",
    "print(\"Num GPUs Available: \", len(tf.config.experimental.list_physical_devices('GPU')))\n",
    "##############################################\n",
    "tf.debugging.set_log_device_placement(True)\n",
    "\n",
    "# Create some tensors\n",
    "a = tf.constant([[1.0, 2.0, 3.0], [4.0, 5.0, 6.0]])\n",
    "b = tf.constant([[1.0, 2.0], [3.0, 4.0], [5.0, 6.0]])\n",
    "c = tf.matmul(a, b)\n",
    "\n",
    "print(c)"
   ]
  },
  {
   "cell_type": "code",
   "execution_count": 2,
   "metadata": {},
   "outputs": [],
   "source": [
    "import pandas as pd\n",
    "import numpy as np"
   ]
  },
  {
   "cell_type": "markdown",
   "metadata": {},
   "source": [
    "# Getting to business!"
   ]
  },
  {
   "cell_type": "markdown",
   "metadata": {},
   "source": [
    "## Neural Network"
   ]
  },
  {
   "cell_type": "markdown",
   "metadata": {},
   "source": [
    "### Topological fingerprints"
   ]
  },
  {
   "cell_type": "code",
   "execution_count": 3,
   "metadata": {},
   "outputs": [],
   "source": [
    "X= pd.read_csv('../Data/topocolumns.csv')\n",
    "file= pd.read_csv('../Data/tox21mice_duplicate.csv')\n",
    "#X= pd.DataFrame(topofp)"
   ]
  },
  {
   "cell_type": "code",
   "execution_count": 4,
   "metadata": {},
   "outputs": [],
   "source": [
    "#splitting into train and test data\n",
    "from sklearn.model_selection import train_test_split\n",
    "y=file[['SR-HSE', 'NR-AR','SR-ARE', 'NR-Aromatase', 'NR-ER-LBD', 'NR-AhR', 'SR-MMP', 'NR-ER','NR-PPAR-gamma', 'SR-p53', 'SR-ATAD5', 'NR-AR-LBD']]\n",
    "X_topo_train, X_topo_test, y_train, y_test = train_test_split(X, y, test_size = 0.3, random_state = 21)"
   ]
  },
  {
   "cell_type": "code",
   "execution_count": 5,
   "metadata": {},
   "outputs": [],
   "source": [
    "X_topo_train_reshape= X_topo_train.astype(\"float32\")\n",
    "X_topo_test_reshape= X_topo_test.astype(\"float32\")"
   ]
  },
  {
   "cell_type": "code",
   "execution_count": 6,
   "metadata": {},
   "outputs": [],
   "source": [
    "from tensorflow import keras\n",
    "from tensorflow.keras import layers"
   ]
  },
  {
   "cell_type": "code",
   "execution_count": 7,
   "metadata": {},
   "outputs": [
    {
     "name": "stdout",
     "output_type": "stream",
     "text": [
      "Executing op RandomUniform in device /job:localhost/replica:0/task:0/device:CPU:0\n",
      "Executing op Sub in device /job:localhost/replica:0/task:0/device:CPU:0\n",
      "Executing op Mul in device /job:localhost/replica:0/task:0/device:CPU:0\n",
      "Executing op Add in device /job:localhost/replica:0/task:0/device:CPU:0\n",
      "Executing op VarHandleOp in device /job:localhost/replica:0/task:0/device:CPU:0\n",
      "Executing op VarIsInitializedOp in device /job:localhost/replica:0/task:0/device:CPU:0\n",
      "Executing op LogicalNot in device /job:localhost/replica:0/task:0/device:CPU:0\n",
      "Executing op Assert in device /job:localhost/replica:0/task:0/device:CPU:0\n",
      "Executing op AssignVariableOp in device /job:localhost/replica:0/task:0/device:CPU:0\n",
      "Executing op RandomUniform in device /job:localhost/replica:0/task:0/device:GPU:0\n",
      "Executing op Sub in device /job:localhost/replica:0/task:0/device:GPU:0\n",
      "Executing op Mul in device /job:localhost/replica:0/task:0/device:GPU:0\n",
      "Executing op Add in device /job:localhost/replica:0/task:0/device:GPU:0\n",
      "Executing op VarHandleOp in device /job:localhost/replica:0/task:0/device:GPU:0\n",
      "Executing op VarIsInitializedOp in device /job:localhost/replica:0/task:0/device:GPU:0\n",
      "Executing op LogicalNot in device /job:localhost/replica:0/task:0/device:GPU:0\n",
      "Executing op Assert in device /job:localhost/replica:0/task:0/device:GPU:0\n",
      "Executing op AssignVariableOp in device /job:localhost/replica:0/task:0/device:GPU:0\n",
      "Executing op Fill in device /job:localhost/replica:0/task:0/device:GPU:0\n",
      "Executing op VarHandleOp in device /job:localhost/replica:0/task:0/device:GPU:0\n",
      "Executing op VarHandleOp in device /job:localhost/replica:0/task:0/device:GPU:0\n",
      "Executing op VarHandleOp in device /job:localhost/replica:0/task:0/device:GPU:0\n"
     ]
    }
   ],
   "source": [
    "model = keras.Sequential(\n",
    "    [\n",
    "        layers.Embedding(8230,128,name=\"embedding_layer\", input_length= 2048),\n",
    "        layers.Dense(1300, activation=\"relu\"),\n",
    "        #layers.Dense(3, activation=\"relu\"),\n",
    "        layers.Flatten(),\n",
    "        layers.Dropout(0.5),\n",
    "        layers.Dense(12,activation='sigmoid', name=\"Output_layer\"),\n",
    "    ]\n",
    ")"
   ]
  },
  {
   "cell_type": "code",
   "execution_count": 8,
   "metadata": {},
   "outputs": [
    {
     "name": "stdout",
     "output_type": "stream",
     "text": [
      "Model: \"sequential\"\n",
      "_________________________________________________________________\n",
      "Layer (type)                 Output Shape              Param #   \n",
      "=================================================================\n",
      "embedding_layer (Embedding)  (None, 2048, 128)         1053440   \n",
      "_________________________________________________________________\n",
      "dense (Dense)                (None, 2048, 1300)        167700    \n",
      "_________________________________________________________________\n",
      "flatten (Flatten)            (None, 2662400)           0         \n",
      "_________________________________________________________________\n",
      "dropout (Dropout)            (None, 2662400)           0         \n",
      "_________________________________________________________________\n",
      "Output_layer (Dense)         (None, 12)                31948812  \n",
      "=================================================================\n",
      "Total params: 33,169,952\n",
      "Trainable params: 33,169,952\n",
      "Non-trainable params: 0\n",
      "_________________________________________________________________\n"
     ]
    }
   ],
   "source": [
    "model.summary()"
   ]
  },
  {
   "cell_type": "code",
   "execution_count": 9,
   "metadata": {},
   "outputs": [
    {
     "name": "stdout",
     "output_type": "stream",
     "text": [
      "Executing op VarHandleOp in device /job:localhost/replica:0/task:0/device:GPU:0\n"
     ]
    }
   ],
   "source": [
    "#compile and fit the model\n",
    "model.compile(optimizer='adam', loss='binary_crossentropy', metrics=['accuracy'])"
   ]
  },
  {
   "cell_type": "code",
   "execution_count": 10,
   "metadata": {},
   "outputs": [
    {
     "name": "stdout",
     "output_type": "stream",
     "text": [
      "Executing op RangeDataset in device /job:localhost/replica:0/task:0/device:CPU:0\n",
      "Executing op RepeatDataset in device /job:localhost/replica:0/task:0/device:CPU:0\n",
      "Executing op MapDataset in device /job:localhost/replica:0/task:0/device:CPU:0\n",
      "Executing op PrefetchDataset in device /job:localhost/replica:0/task:0/device:CPU:0\n",
      "Executing op FlatMapDataset in device /job:localhost/replica:0/task:0/device:CPU:0\n",
      "Executing op TensorDataset in device /job:localhost/replica:0/task:0/device:CPU:0\n",
      "Executing op RepeatDataset in device /job:localhost/replica:0/task:0/device:CPU:0\n",
      "Executing op ZipDataset in device /job:localhost/replica:0/task:0/device:CPU:0\n",
      "Executing op ParallelMapDataset in device /job:localhost/replica:0/task:0/device:CPU:0\n",
      "Executing op ModelDataset in device /job:localhost/replica:0/task:0/device:CPU:0\n",
      "Executing op AnonymousIteratorV2 in device /job:localhost/replica:0/task:0/device:CPU:0\n",
      "Executing op MakeIterator in device /job:localhost/replica:0/task:0/device:CPU:0\n",
      "Epoch 1/10\n",
      "Executing op Fill in device /job:localhost/replica:0/task:0/device:GPU:0\n",
      "Executing op VarHandleOp in device /job:localhost/replica:0/task:0/device:GPU:0\n",
      "Executing op AssignVariableOp in device /job:localhost/replica:0/task:0/device:GPU:0\n",
      "Executing op VarHandleOp in device /job:localhost/replica:0/task:0/device:GPU:0\n",
      "Executing op VarHandleOp in device /job:localhost/replica:0/task:0/device:GPU:0\n",
      "Executing op VarHandleOp in device /job:localhost/replica:0/task:0/device:GPU:0\n",
      "Executing op VarHandleOp in device /job:localhost/replica:0/task:0/device:GPU:0\n",
      "Executing op VarHandleOp in device /job:localhost/replica:0/task:0/device:CPU:0\n",
      "Executing op VarHandleOp in device /job:localhost/replica:0/task:0/device:GPU:0\n",
      "Executing op LogicalNot in device /job:localhost/replica:0/task:0/device:GPU:0\n",
      "Executing op Assert in device /job:localhost/replica:0/task:0/device:GPU:0\n",
      "Executing op VarHandleOp in device /job:localhost/replica:0/task:0/device:GPU:0\n",
      "Executing op VarHandleOp in device /job:localhost/replica:0/task:0/device:GPU:0\n",
      "Executing op VarHandleOp in device /job:localhost/replica:0/task:0/device:GPU:0\n",
      "Executing op VarHandleOp in device /job:localhost/replica:0/task:0/device:CPU:0\n",
      "Executing op VarHandleOp in device /job:localhost/replica:0/task:0/device:GPU:0\n",
      "Executing op VarHandleOp in device /job:localhost/replica:0/task:0/device:GPU:0\n",
      "Executing op VarHandleOp in device /job:localhost/replica:0/task:0/device:GPU:0\n",
      "Executing op VarHandleOp in device /job:localhost/replica:0/task:0/device:GPU:0\n",
      "Executing op VarHandleOp in device /job:localhost/replica:0/task:0/device:GPU:0\n",
      "Executing op VarHandleOp in device /job:localhost/replica:0/task:0/device:GPU:0\n",
      "Executing op __inference_train_function_950 in device /job:localhost/replica:0/task:0/device:GPU:0\n",
      "Epoch 2/10\n",
      "Epoch 3/10\n",
      "Epoch 4/10\n",
      "Epoch 5/10\n",
      "Epoch 6/10\n",
      "Epoch 7/10\n",
      "Epoch 8/10\n",
      "Epoch 9/10\n",
      "Epoch 10/10\n",
      "Executing op DeleteIterator in device /job:localhost/replica:0/task:0/device:CPU:0\n"
     ]
    },
    {
     "data": {
      "text/plain": [
       "<tensorflow.python.keras.callbacks.History at 0x7f59a43111f0>"
      ]
     },
     "execution_count": 10,
     "metadata": {},
     "output_type": "execute_result"
    }
   ],
   "source": [
    "model.fit(X_topo_train_reshape, y_train, epochs=10, batch_size=48, verbose=0.1)"
   ]
  },
  {
   "cell_type": "code",
   "execution_count": 11,
   "metadata": {},
   "outputs": [
    {
     "name": "stdout",
     "output_type": "stream",
     "text": [
      "Executing op RangeDataset in device /job:localhost/replica:0/task:0/device:CPU:0\n",
      "Executing op RepeatDataset in device /job:localhost/replica:0/task:0/device:CPU:0\n",
      "Executing op MapDataset in device /job:localhost/replica:0/task:0/device:CPU:0\n",
      "Executing op PrefetchDataset in device /job:localhost/replica:0/task:0/device:CPU:0\n",
      "Executing op FlatMapDataset in device /job:localhost/replica:0/task:0/device:CPU:0\n",
      "Executing op TensorDataset in device /job:localhost/replica:0/task:0/device:CPU:0\n",
      "Executing op RepeatDataset in device /job:localhost/replica:0/task:0/device:CPU:0\n",
      "Executing op ZipDataset in device /job:localhost/replica:0/task:0/device:CPU:0\n",
      "Executing op ParallelMapDataset in device /job:localhost/replica:0/task:0/device:CPU:0\n",
      "Executing op ModelDataset in device /job:localhost/replica:0/task:0/device:CPU:0\n",
      "Executing op AnonymousIteratorV2 in device /job:localhost/replica:0/task:0/device:CPU:0\n",
      "Executing op __inference_predict_function_4527 in device /job:localhost/replica:0/task:0/device:GPU:0\n",
      "Executing op ConcatV2 in device /job:localhost/replica:0/task:0/device:GPU:0\n",
      "Executing op Cast in device /job:localhost/replica:0/task:0/device:GPU:0\n",
      "Executing op StridedSlice in device /job:localhost/replica:0/task:0/device:GPU:0\n",
      "Executing op Equal in device /job:localhost/replica:0/task:0/device:GPU:0\n",
      "The accuracy for the training set is:  0.9585662211421628\n"
     ]
    }
   ],
   "source": [
    "#using model.predict to do thresholding\n",
    "pred = model.predict(X_topo_train_reshape)\n",
    "pred= tf.dtypes.cast(pred>= 0.5, tf.int64)\n",
    "\n",
    "#for training data\n",
    "count=0\n",
    "for i in range(len(y_train)):\n",
    "    a= (y_train.iloc[i]==pred[i])\n",
    "    for j in range(len(a)):\n",
    "        if (y_train.iloc[i][j]==pred[i][j]):\n",
    "            count= count+1\n",
    "print(\"The accuracy for the training set is: \",(count)/(len(y_train)*12))"
   ]
  },
  {
   "cell_type": "markdown",
   "metadata": {},
   "source": [
    "This step would take pretty long because of the size of the dataset"
   ]
  },
  {
   "cell_type": "code",
   "execution_count": 13,
   "metadata": {},
   "outputs": [
    {
     "name": "stdout",
     "output_type": "stream",
     "text": [
      "The accuracy for the training set is:  0.9585662211421628\n"
     ]
    }
   ],
   "source": [
    "#for training data\n",
    "count=0\n",
    "for i in range(len(y_train)):\n",
    "    a= (y_train.iloc[i]==pred[i])\n",
    "    for j in range(len(a)):\n",
    "        if (y_train.iloc[i][j]==pred[i][j]):\n",
    "            count= count+1\n",
    "print(\"The accuracy for the training set is: \",(count)/(len(y_train)*12))"
   ]
  },
  {
   "cell_type": "code",
   "execution_count": 14,
   "metadata": {},
   "outputs": [
    {
     "name": "stdout",
     "output_type": "stream",
     "text": [
      "Executing op RangeDataset in device /job:localhost/replica:0/task:0/device:CPU:0\n",
      "Executing op RepeatDataset in device /job:localhost/replica:0/task:0/device:CPU:0\n",
      "Executing op MapDataset in device /job:localhost/replica:0/task:0/device:CPU:0\n",
      "Executing op PrefetchDataset in device /job:localhost/replica:0/task:0/device:CPU:0\n",
      "Executing op FlatMapDataset in device /job:localhost/replica:0/task:0/device:CPU:0\n",
      "Executing op TensorDataset in device /job:localhost/replica:0/task:0/device:CPU:0\n",
      "Executing op RepeatDataset in device /job:localhost/replica:0/task:0/device:CPU:0\n",
      "Executing op ZipDataset in device /job:localhost/replica:0/task:0/device:CPU:0\n",
      "Executing op ParallelMapDataset in device /job:localhost/replica:0/task:0/device:CPU:0\n",
      "Executing op ModelDataset in device /job:localhost/replica:0/task:0/device:CPU:0\n",
      "Executing op ConcatV2 in device /job:localhost/replica:0/task:0/device:GPU:0\n",
      "The accuracy for test score is:  0.9362008692365835\n"
     ]
    }
   ],
   "source": [
    "predtest= model.predict(X_topo_test_reshape)\n",
    "predtest= tf.dtypes.cast(predtest>= 0.5, tf.int64)\n",
    "count=0\n",
    "for i in range(len(y_test)):\n",
    "    a= (y_test.iloc[i]==predtest[i])\n",
    "    for j in range(len(a)):\n",
    "        if (y_test.iloc[i][j]==predtest[i][j]):\n",
    "            count= count+1\n",
    "print(\"The accuracy for test score is: \", count/(len(y_test)*12))"
   ]
  },
  {
   "cell_type": "code",
   "execution_count": 15,
   "metadata": {},
   "outputs": [
    {
     "name": "stdout",
     "output_type": "stream",
     "text": [
      "Executing op RangeDataset in device /job:localhost/replica:0/task:0/device:CPU:0\n",
      "Executing op RepeatDataset in device /job:localhost/replica:0/task:0/device:CPU:0\n",
      "Executing op MapDataset in device /job:localhost/replica:0/task:0/device:CPU:0\n",
      "Executing op PrefetchDataset in device /job:localhost/replica:0/task:0/device:CPU:0\n",
      "Executing op FlatMapDataset in device /job:localhost/replica:0/task:0/device:CPU:0\n",
      "Executing op TensorDataset in device /job:localhost/replica:0/task:0/device:CPU:0\n",
      "Executing op RepeatDataset in device /job:localhost/replica:0/task:0/device:CPU:0\n",
      "Executing op ZipDataset in device /job:localhost/replica:0/task:0/device:CPU:0\n",
      "Executing op ParallelMapDataset in device /job:localhost/replica:0/task:0/device:CPU:0\n",
      "Executing op ModelDataset in device /job:localhost/replica:0/task:0/device:CPU:0\n",
      "Executing op __inference_test_function_2483635 in device /job:localhost/replica:0/task:0/device:GPU:0\n",
      "28/28 [==============================] - 2s 55ms/step - loss: 0.2156 - accuracy: 0.1397\n"
     ]
    },
    {
     "data": {
      "text/plain": [
       "0.21564635634422302"
      ]
     },
     "execution_count": 15,
     "metadata": {},
     "output_type": "execute_result"
    }
   ],
   "source": [
    "loss, acc= model.evaluate(X_topo_test_reshape, y_test, batch_size=128)\n",
    "loss"
   ]
  },
  {
   "cell_type": "markdown",
   "metadata": {},
   "source": [
    "### Random Forest"
   ]
  },
  {
   "cell_type": "code",
   "execution_count": 16,
   "metadata": {},
   "outputs": [],
   "source": [
    "#importing libraries\n",
    "#from sklearn.model_selection import train_test_split\n",
    "#from sklearn.preprocessing import StandardScaler\n",
    "from sklearn.ensemble import RandomForestClassifier"
   ]
  },
  {
   "cell_type": "code",
   "execution_count": 17,
   "metadata": {},
   "outputs": [
    {
     "name": "stdout",
     "output_type": "stream",
     "text": [
      "The number of wrongly predicted data is:\n",
      " SR-HSE           186\n",
      "NR-AR            121\n",
      "SR-ARE           510\n",
      "NR-Aromatase     207\n",
      "NR-ER-LBD        141\n",
      "NR-AhR           323\n",
      "SR-MMP           379\n",
      "NR-ER            340\n",
      "NR-PPAR-gamma     83\n",
      "SR-p53           214\n",
      "SR-ATAD5          97\n",
      "NR-AR-LBD        114\n",
      "dtype: int64\n",
      "The accuracy of random forest is:\n",
      " SR-HSE           0.947279\n",
      "NR-AR            0.965703\n",
      "SR-ARE           0.855442\n",
      "NR-Aromatase     0.941327\n",
      "NR-ER-LBD        0.960034\n",
      "NR-AhR           0.908447\n",
      "SR-MMP           0.892574\n",
      "NR-ER            0.903628\n",
      "NR-PPAR-gamma    0.976474\n",
      "SR-p53           0.939342\n",
      "SR-ATAD5         0.972506\n",
      "NR-AR-LBD        0.967687\n",
      "dtype: float64\n"
     ]
    }
   ],
   "source": [
    "#X_topo_train, X_topo_test, y_train, y_test = train_test_split(X, y, test_size = 0.3, random_state = 21)\n",
    "classifier = RandomForestClassifier(n_estimators = 200, criterion = 'entropy', random_state = 42)\n",
    "classifier.fit(X_topo_train, y_train)\n",
    "predict= classifier.predict(X_topo_test)\n",
    "count_misclassified = (y_test != predict).sum()\n",
    "print(\"The number of wrongly predicted data is:\\n\",count_misclassified)\n",
    "rfaccuracy_topo= 1-(count_misclassified/len(y_test))\n",
    "print(\"The accuracy of random forest is:\\n\", rfaccuracy_topo)"
   ]
  },
  {
   "cell_type": "markdown",
   "metadata": {},
   "source": [
    "### Logistic Regression"
   ]
  },
  {
   "cell_type": "markdown",
   "metadata": {},
   "source": [
    "#### SR-HSE"
   ]
  },
  {
   "cell_type": "code",
   "execution_count": 18,
   "metadata": {},
   "outputs": [
    {
     "name": "stdout",
     "output_type": "stream",
     "text": [
      "The accuracy of the model is: 0.9430272108843537\n"
     ]
    }
   ],
   "source": [
    "from sklearn.linear_model import LogisticRegression\n",
    "sr_hse= y_train['SR-HSE']\n",
    "lm = LogisticRegression(multi_class='ovr', solver='liblinear')\n",
    "lm.fit(X_topo_train, sr_hse)\n",
    "taccuracy1= lm.score(X_topo_test, y_test['SR-HSE'])\n",
    "print(\"The accuracy of the model is:\",taccuracy1)"
   ]
  },
  {
   "cell_type": "markdown",
   "metadata": {},
   "source": [
    "#### NR-AR "
   ]
  },
  {
   "cell_type": "code",
   "execution_count": 19,
   "metadata": {},
   "outputs": [
    {
     "name": "stdout",
     "output_type": "stream",
     "text": [
      "The accuracy of the model is: 0.963718820861678\n"
     ]
    }
   ],
   "source": [
    "nr_ar= y_train['NR-AR']\n",
    "lm.fit(X_topo_train, nr_ar)\n",
    "taccuracy2= lm.score(X_topo_test, y_test['NR-AR'])\n",
    "print(\"The accuracy of the model is:\",taccuracy2)"
   ]
  },
  {
   "cell_type": "markdown",
   "metadata": {},
   "source": [
    "#### SR-ARE"
   ]
  },
  {
   "cell_type": "code",
   "execution_count": 20,
   "metadata": {},
   "outputs": [
    {
     "name": "stdout",
     "output_type": "stream",
     "text": [
      "The accuracy of the model is: 0.8378684807256236\n"
     ]
    }
   ],
   "source": [
    "sr_are= y_train['SR-ARE']\n",
    "lm.fit(X_topo_train, sr_are)\n",
    "taccuracy3= lm.score(X_topo_test, y_test['SR-ARE'])\n",
    "print(\"The accuracy of the model is:\",taccuracy3)"
   ]
  },
  {
   "cell_type": "markdown",
   "metadata": {},
   "source": [
    "#### NR-Aromatase"
   ]
  },
  {
   "cell_type": "code",
   "execution_count": 21,
   "metadata": {},
   "outputs": [
    {
     "name": "stdout",
     "output_type": "stream",
     "text": [
      "The accuracy of the model is: 0.9319727891156463\n"
     ]
    }
   ],
   "source": [
    "nr_aromatase= y_train['NR-Aromatase']\n",
    "lm.fit(X_topo_train, nr_aromatase)\n",
    "taccuracy4= lm.score(X_topo_test, y_test['NR-Aromatase'])\n",
    "print(\"The accuracy of the model is:\",taccuracy4)"
   ]
  },
  {
   "cell_type": "markdown",
   "metadata": {},
   "source": [
    "#### NR-ER-LBD"
   ]
  },
  {
   "cell_type": "code",
   "execution_count": 22,
   "metadata": {},
   "outputs": [
    {
     "name": "stdout",
     "output_type": "stream",
     "text": [
      "The accuracy of the model is: 0.9520975056689343\n"
     ]
    }
   ],
   "source": [
    "nr_erlbd= y_train['NR-ER-LBD']\n",
    "lm.fit(X_topo_train, nr_erlbd)\n",
    "taccuracy5= lm.score(X_topo_test, y_test['NR-ER-LBD'])\n",
    "print(\"The accuracy of the model is:\",taccuracy5)"
   ]
  },
  {
   "cell_type": "markdown",
   "metadata": {},
   "source": [
    "#### NR-AhR"
   ]
  },
  {
   "cell_type": "code",
   "execution_count": 23,
   "metadata": {},
   "outputs": [
    {
     "name": "stdout",
     "output_type": "stream",
     "text": [
      "The accuracy of the model is: 0.8996598639455783\n"
     ]
    }
   ],
   "source": [
    "nr_ahr= y_train['NR-AhR']\n",
    "lm.fit(X_topo_train, nr_ahr)\n",
    "taccuracy6= lm.score(X_topo_test, y_test['NR-AhR'])\n",
    "print(\"The accuracy of the model is:\",taccuracy6)"
   ]
  },
  {
   "cell_type": "markdown",
   "metadata": {},
   "source": [
    "#### SR-MMP"
   ]
  },
  {
   "cell_type": "code",
   "execution_count": 24,
   "metadata": {},
   "outputs": [
    {
     "name": "stdout",
     "output_type": "stream",
     "text": [
      "The accuracy of the model is: 0.8818027210884354\n"
     ]
    }
   ],
   "source": [
    "sr_mmp= y_train['SR-MMP']\n",
    "lm.fit(X_topo_train, sr_mmp)\n",
    "taccuracy7= lm.score(X_topo_test, y_test['SR-MMP'])\n",
    "print(\"The accuracy of the model is:\",taccuracy7)"
   ]
  },
  {
   "cell_type": "markdown",
   "metadata": {},
   "source": [
    "#### NR-ER"
   ]
  },
  {
   "cell_type": "code",
   "execution_count": 25,
   "metadata": {},
   "outputs": [
    {
     "name": "stdout",
     "output_type": "stream",
     "text": [
      "The accuracy of the model is: 0.8883219954648526\n"
     ]
    }
   ],
   "source": [
    "nr_er= y_train['NR-ER']\n",
    "lm.fit(X_topo_train, nr_er)\n",
    "taccuracy8= lm.score(X_topo_test, y_test['NR-ER'])\n",
    "print(\"The accuracy of the model is:\",taccuracy8)"
   ]
  },
  {
   "cell_type": "markdown",
   "metadata": {},
   "source": [
    "#### NR-PPAR-gamma"
   ]
  },
  {
   "cell_type": "code",
   "execution_count": 26,
   "metadata": {},
   "outputs": [
    {
     "name": "stdout",
     "output_type": "stream",
     "text": [
      "The accuracy of the model is: 0.9759070294784581\n"
     ]
    }
   ],
   "source": [
    "nr_ppar= y_train['NR-PPAR-gamma']\n",
    "lm.fit(X_topo_train, nr_ppar)\n",
    "taccuracy9= lm.score(X_topo_test, y_test['NR-PPAR-gamma'])\n",
    "print(\"The accuracy of the model is:\",taccuracy9)"
   ]
  },
  {
   "cell_type": "markdown",
   "metadata": {},
   "source": [
    "#### SR-p53"
   ]
  },
  {
   "cell_type": "code",
   "execution_count": 27,
   "metadata": {},
   "outputs": [
    {
     "name": "stdout",
     "output_type": "stream",
     "text": [
      "The accuracy of the model is: 0.9280045351473923\n"
     ]
    }
   ],
   "source": [
    "sr_p53= y_train['SR-p53']\n",
    "lm.fit(X_topo_train, sr_p53)\n",
    "taccuracy10= lm.score(X_topo_test, y_test['SR-p53'])\n",
    "print(\"The accuracy of the model is:\",taccuracy10)"
   ]
  },
  {
   "cell_type": "markdown",
   "metadata": {},
   "source": [
    "#### SR-ATAD5"
   ]
  },
  {
   "cell_type": "code",
   "execution_count": 28,
   "metadata": {},
   "outputs": [
    {
     "name": "stdout",
     "output_type": "stream",
     "text": [
      "The accuracy of the model is: 0.9708049886621315\n"
     ]
    }
   ],
   "source": [
    "sr_atad5= y_train['SR-ATAD5']\n",
    "lm.fit(X_topo_train, sr_atad5)\n",
    "taccuracy11= lm.score(X_topo_test, y_test['SR-ATAD5'])\n",
    "print(\"The accuracy of the model is:\",taccuracy11)"
   ]
  },
  {
   "cell_type": "markdown",
   "metadata": {},
   "source": [
    "#### NR-AR-LBD"
   ]
  },
  {
   "cell_type": "code",
   "execution_count": 29,
   "metadata": {},
   "outputs": [
    {
     "name": "stdout",
     "output_type": "stream",
     "text": [
      "The accuracy of the model is: 0.9679705215419501\n"
     ]
    }
   ],
   "source": [
    "nr_arlbd= y_train['NR-AR-LBD']\n",
    "lm.fit(X_topo_train, nr_arlbd)\n",
    "taccuracy12= lm.score(X_topo_test, y_test['NR-AR-LBD'])\n",
    "print(\"The accuracy of the model is:\",taccuracy12)"
   ]
  },
  {
   "cell_type": "markdown",
   "metadata": {},
   "source": [
    "### SVM"
   ]
  },
  {
   "cell_type": "code",
   "execution_count": 30,
   "metadata": {},
   "outputs": [],
   "source": [
    "from sklearn import svm"
   ]
  },
  {
   "cell_type": "markdown",
   "metadata": {},
   "source": [
    "#### SR-HSE"
   ]
  },
  {
   "cell_type": "code",
   "execution_count": 31,
   "metadata": {},
   "outputs": [
    {
     "name": "stdout",
     "output_type": "stream",
     "text": [
      "The accuracy of the model is: 0.941609977324263\n"
     ]
    }
   ],
   "source": [
    "sr_hse= y_train['SR-HSE']\n",
    "sig = svm.SVC(kernel='sigmoid', C=1, decision_function_shape='ovr')\n",
    "sig.fit(X_topo_train, sr_hse)\n",
    "tsaccuracy1= sig.score(X_topo_test, y_test['SR-HSE'])\n",
    "print(\"The accuracy of the model is:\",tsaccuracy1)"
   ]
  },
  {
   "cell_type": "markdown",
   "metadata": {},
   "source": [
    "#### NR-AR "
   ]
  },
  {
   "cell_type": "code",
   "execution_count": 32,
   "metadata": {},
   "outputs": [
    {
     "name": "stdout",
     "output_type": "stream",
     "text": [
      "The accuracy of the model is: 0.9654195011337868\n"
     ]
    }
   ],
   "source": [
    "nr_ar= y_train['NR-AR']\n",
    "sig.fit(X_topo_train, nr_ar)\n",
    "tsaccuracy2= sig.score(X_topo_test, y_test['NR-AR'])\n",
    "print(\"The accuracy of the model is:\",tsaccuracy2)"
   ]
  },
  {
   "cell_type": "markdown",
   "metadata": {},
   "source": [
    "#### SR-ARE"
   ]
  },
  {
   "cell_type": "code",
   "execution_count": 33,
   "metadata": {},
   "outputs": [
    {
     "name": "stdout",
     "output_type": "stream",
     "text": [
      "The accuracy of the model is: 0.7967687074829932\n"
     ]
    }
   ],
   "source": [
    "sr_are= y_train['SR-ARE']\n",
    "sig.fit(X_topo_train, sr_are)\n",
    "tsaccuracy3= sig.score(X_topo_test, y_test['SR-ARE'])\n",
    "print(\"The accuracy of the model is:\",tsaccuracy3)"
   ]
  },
  {
   "cell_type": "markdown",
   "metadata": {},
   "source": [
    "#### NR-Aromatase"
   ]
  },
  {
   "cell_type": "code",
   "execution_count": 34,
   "metadata": {},
   "outputs": [
    {
     "name": "stdout",
     "output_type": "stream",
     "text": [
      "The accuracy of the model is: 0.9322562358276644\n"
     ]
    }
   ],
   "source": [
    "nr_aromatase= y_train['NR-Aromatase']\n",
    "sig.fit(X_topo_train, nr_aromatase)\n",
    "tsaccuracy4= sig.score(X_topo_test, y_test['NR-Aromatase'])\n",
    "print(\"The accuracy of the model is:\",tsaccuracy4)"
   ]
  },
  {
   "cell_type": "markdown",
   "metadata": {},
   "source": [
    "#### NR-ER-LBD"
   ]
  },
  {
   "cell_type": "code",
   "execution_count": 35,
   "metadata": {},
   "outputs": [
    {
     "name": "stdout",
     "output_type": "stream",
     "text": [
      "The accuracy of the model is: 0.9509637188208617\n"
     ]
    }
   ],
   "source": [
    "nr_erlbd= y_train['NR-ER-LBD']\n",
    "sig.fit(X_topo_train, nr_erlbd)\n",
    "tsaccuracy5= sig.score(X_topo_test, y_test['NR-ER-LBD'])\n",
    "print(\"The accuracy of the model is:\",tsaccuracy5)"
   ]
  },
  {
   "cell_type": "markdown",
   "metadata": {},
   "source": [
    "#### NR-AhR"
   ]
  },
  {
   "cell_type": "code",
   "execution_count": 36,
   "metadata": {},
   "outputs": [
    {
     "name": "stdout",
     "output_type": "stream",
     "text": [
      "The accuracy of the model is: 0.8897392290249433\n"
     ]
    }
   ],
   "source": [
    "nr_ahr= y_train['NR-AhR']\n",
    "sig.fit(X_topo_train, nr_ahr)\n",
    "tsaccuracy6= sig.score(X_topo_test, y_test['NR-AhR'])\n",
    "print(\"The accuracy of the model is:\",tsaccuracy6)"
   ]
  },
  {
   "cell_type": "markdown",
   "metadata": {},
   "source": [
    "#### SR-MMP"
   ]
  },
  {
   "cell_type": "code",
   "execution_count": 37,
   "metadata": {},
   "outputs": [
    {
     "name": "stdout",
     "output_type": "stream",
     "text": [
      "The accuracy of the model is: 0.8458049886621315\n"
     ]
    }
   ],
   "source": [
    "sr_mmp= y_train['SR-MMP']\n",
    "sig.fit(X_topo_train, sr_mmp)\n",
    "tsaccuracy7= sig.score(X_topo_test, y_test['SR-MMP'])\n",
    "print(\"The accuracy of the model is:\",tsaccuracy7)"
   ]
  },
  {
   "cell_type": "markdown",
   "metadata": {},
   "source": [
    "#### NR-ER"
   ]
  },
  {
   "cell_type": "code",
   "execution_count": 38,
   "metadata": {},
   "outputs": [
    {
     "name": "stdout",
     "output_type": "stream",
     "text": [
      "The accuracy of the model is: 0.8962585034013606\n"
     ]
    }
   ],
   "source": [
    "nr_er= y_train['NR-ER']\n",
    "sig.fit(X_topo_train, nr_er)\n",
    "tsaccuracy8= sig.score(X_topo_test, y_test['NR-ER'])\n",
    "print(\"The accuracy of the model is:\",tsaccuracy8)"
   ]
  },
  {
   "cell_type": "markdown",
   "metadata": {},
   "source": [
    "#### NR-PPAR-gamma"
   ]
  },
  {
   "cell_type": "code",
   "execution_count": 39,
   "metadata": {},
   "outputs": [
    {
     "name": "stdout",
     "output_type": "stream",
     "text": [
      "The accuracy of the model is: 0.9764739229024944\n"
     ]
    }
   ],
   "source": [
    "nr_ppar= y_train['NR-PPAR-gamma']\n",
    "sig.fit(X_topo_train, nr_ppar)\n",
    "tsaccuracy9= sig.score(X_topo_test, y_test['NR-PPAR-gamma'])\n",
    "print(\"The accuracy of the model is:\",tsaccuracy9)"
   ]
  },
  {
   "cell_type": "markdown",
   "metadata": {},
   "source": [
    "#### SR-p53"
   ]
  },
  {
   "cell_type": "code",
   "execution_count": 40,
   "metadata": {},
   "outputs": [
    {
     "name": "stdout",
     "output_type": "stream",
     "text": [
      "The accuracy of the model is: 0.9265873015873016\n"
     ]
    }
   ],
   "source": [
    "sr_p53= y_train['SR-p53']\n",
    "sig.fit(X_topo_train, sr_p53)\n",
    "tsaccuracy10= sig.score(X_topo_test, y_test['SR-p53'])\n",
    "print(\"The accuracy of the model is:\",tsaccuracy10)"
   ]
  },
  {
   "cell_type": "markdown",
   "metadata": {},
   "source": [
    "#### SR-ATAD5"
   ]
  },
  {
   "cell_type": "code",
   "execution_count": 41,
   "metadata": {},
   "outputs": [
    {
     "name": "stdout",
     "output_type": "stream",
     "text": [
      "The accuracy of the model is: 0.9674036281179138\n"
     ]
    }
   ],
   "source": [
    "sr_atad5= y_train['SR-ATAD5']\n",
    "sig.fit(X_topo_train, sr_atad5)\n",
    "tsaccuracy11= sig.score(X_topo_test, y_test['SR-ATAD5'])\n",
    "print(\"The accuracy of the model is:\",tsaccuracy11)"
   ]
  },
  {
   "cell_type": "markdown",
   "metadata": {},
   "source": [
    "#### NR-AR-LBD"
   ]
  },
  {
   "cell_type": "code",
   "execution_count": 42,
   "metadata": {},
   "outputs": [
    {
     "name": "stdout",
     "output_type": "stream",
     "text": [
      "The accuracy of the model is: 0.9648526077097506\n"
     ]
    }
   ],
   "source": [
    "nr_arlbd= y_train['NR-AR-LBD']\n",
    "sig.fit(X_topo_train, nr_arlbd)\n",
    "tsaccuracy12= sig.score(X_topo_test, y_test['NR-AR-LBD'])\n",
    "print(\"The accuracy of the model is:\",tsaccuracy12)"
   ]
  },
  {
   "cell_type": "markdown",
   "metadata": {},
   "source": [
    "#### Summary of topo data"
   ]
  },
  {
   "cell_type": "code",
   "execution_count": 43,
   "metadata": {},
   "outputs": [
    {
     "name": "stdout",
     "output_type": "stream",
     "text": [
      "\u001b[1mFor Random Forest:\u001b[0m\n",
      "SR-HSE           0.947279\n",
      "NR-AR            0.965703\n",
      "SR-ARE           0.855442\n",
      "NR-Aromatase     0.941327\n",
      "NR-ER-LBD        0.960034\n",
      "NR-AhR           0.908447\n",
      "SR-MMP           0.892574\n",
      "NR-ER            0.903628\n",
      "NR-PPAR-gamma    0.976474\n",
      "SR-p53           0.939342\n",
      "SR-ATAD5         0.972506\n",
      "NR-AR-LBD        0.967687\n",
      "dtype: float64\n",
      "\u001b[0m----------\n",
      "\u001b[1mFor SVM:\u001b[0m\n",
      "\u001b[1mFor Logistic Regression:\u001b[0m\n",
      "SR-HSE: \t 0.9430272108843537\n",
      "NR-AR: \t 0.963718820861678\n",
      "SR-ARE: \t 0.8378684807256236\n",
      "NR-Aromatase: \t 0.9319727891156463\n",
      "NR-ER-LBD: \t 0.9520975056689343\n",
      "NR-AhR: \t 0.8996598639455783\n",
      "SR-MMP: \t 0.8818027210884354\n",
      "NR-ER: \t 0.8883219954648526\n",
      "NR-PPAR-gamma: \t 0.9759070294784581\n",
      "SR-p53: \t 0.9280045351473923\n",
      "SR-ATAD5: \t 0.9708049886621315\n",
      "NR-AR-LBD: \t 0.9679705215419501\n",
      "\u001b[0m----------\n",
      "\u001b[1mFor SVM:\u001b[0m\n",
      "SR-HSE: \t 0.941609977324263\n",
      "NR-AR: \t 0.9654195011337868\n",
      "SR-ARE: \t 0.7967687074829932\n",
      "NR-Aromatase: \t 0.9322562358276644\n",
      "NR-ER-LBD: \t 0.9509637188208617\n",
      "NR-AhR: \t 0.8897392290249433\n",
      "SR-MMP: \t 0.8458049886621315\n",
      "NR-ER: \t 0.8962585034013606\n",
      "NR-PPAR-gamma: \t 0.9764739229024944\n",
      "SR-p53: \t 0.9265873015873016\n",
      "SR-ATAD5: \t 0.9674036281179138\n",
      "NR-AR-LBD: \t 0.9648526077097506\n"
     ]
    }
   ],
   "source": [
    "print(\"\\033[1m\" + \"For Random Forest:\"+ \"\\033[0m\")\n",
    "print(rfaccuracy_topo)\n",
    "print(\"\\033[0m\"+\"----------\")\n",
    "print(\"\\033[1m\" + \"For SVM:\"+ \"\\033[0m\")\n",
    "print(\"\\033[1m\" + \"For Logistic Regression:\" + \"\\033[0m\")\n",
    "print(\"SR-HSE: \\t\", taccuracy1)\n",
    "print(\"NR-AR: \\t\", taccuracy2)\n",
    "print(\"SR-ARE: \\t\", taccuracy3)\n",
    "print(\"NR-Aromatase: \\t\", taccuracy4)\n",
    "print(\"NR-ER-LBD: \\t\", taccuracy5)\n",
    "print(\"NR-AhR: \\t\", taccuracy6)\n",
    "print(\"SR-MMP: \\t\", taccuracy7)\n",
    "print(\"NR-ER: \\t\", taccuracy8)\n",
    "print(\"NR-PPAR-gamma: \\t\", taccuracy9)\n",
    "print(\"SR-p53: \\t\", taccuracy10)\n",
    "print(\"SR-ATAD5: \\t\", taccuracy11)\n",
    "print(\"NR-AR-LBD: \\t\", taccuracy12)\n",
    "print(\"\\033[0m\"+\"----------\")\n",
    "print(\"\\033[1m\" + \"For SVM:\"+ \"\\033[0m\")\n",
    "print(\"SR-HSE: \\t\", tsaccuracy1)\n",
    "print(\"NR-AR: \\t\", tsaccuracy2)\n",
    "print(\"SR-ARE: \\t\", tsaccuracy3)\n",
    "print(\"NR-Aromatase: \\t\", tsaccuracy4)\n",
    "print(\"NR-ER-LBD: \\t\", tsaccuracy5)\n",
    "print(\"NR-AhR: \\t\", tsaccuracy6)\n",
    "print(\"SR-MMP: \\t\", tsaccuracy7)\n",
    "print(\"NR-ER: \\t\", tsaccuracy8)\n",
    "print(\"NR-PPAR-gamma: \\t\", tsaccuracy9)\n",
    "print(\"SR-p53: \\t\", tsaccuracy10)\n",
    "print(\"SR-ATAD5: \\t\", tsaccuracy11)\n",
    "print(\"NR-AR-LBD: \\t\", tsaccuracy12)"
   ]
  },
  {
   "cell_type": "markdown",
   "metadata": {},
   "source": [
    "## Feature Selection"
   ]
  },
  {
   "cell_type": "markdown",
   "metadata": {},
   "source": [
    "### Random Forest Classifier"
   ]
  },
  {
   "cell_type": "code",
   "execution_count": 44,
   "metadata": {},
   "outputs": [
    {
     "data": {
      "text/plain": [
       "1772    0.002425\n",
       "1308    0.002020\n",
       "112     0.001924\n",
       "2047    0.001914\n",
       "1339    0.001831\n",
       "          ...   \n",
       "659     0.000167\n",
       "1249    0.000156\n",
       "1203    0.000152\n",
       "467     0.000151\n",
       "903     0.000145\n",
       "Length: 2048, dtype: float64"
      ]
     },
     "execution_count": 44,
     "metadata": {},
     "output_type": "execute_result"
    }
   ],
   "source": [
    "feature_importance= pd.DataFrame(classifier.feature_importances_,\\\n",
    "                                   index = X.columns,\\\n",
    "                                   columns=['importance']).sort_values('importance', ascending=False)\n",
    "classifier.fit(X_topo_train, y_train)\n",
    "feature_scores = pd.Series(classifier.feature_importances_, index=X.columns).sort_values(ascending=False)\n",
    "\n",
    "feature_scores"
   ]
  },
  {
   "cell_type": "code",
   "execution_count": 45,
   "metadata": {},
   "outputs": [
    {
     "data": {
      "text/plain": [
       "1772    0.002425\n",
       "1308    0.002020\n",
       "112     0.001924\n",
       "2047    0.001914\n",
       "1339    0.001831\n",
       "          ...   \n",
       "659     0.000167\n",
       "1249    0.000156\n",
       "1203    0.000152\n",
       "467     0.000151\n",
       "903     0.000145\n",
       "Length: 2048, dtype: float64"
      ]
     },
     "execution_count": 45,
     "metadata": {},
     "output_type": "execute_result"
    }
   ],
   "source": [
    "classifier.fit(X_topo_train, y_train)\n",
    "feature_scores = pd.Series(classifier.feature_importances_, index=X.columns).sort_values(ascending=False)\n",
    "\n",
    "feature_scores"
   ]
  },
  {
   "cell_type": "code",
   "execution_count": 46,
   "metadata": {},
   "outputs": [
    {
     "data": {
      "text/plain": [
       "Text(0, 0.5, 'Number of Features (RFC)')"
      ]
     },
     "execution_count": 46,
     "metadata": {},
     "output_type": "execute_result"
    },
    {
     "data": {
      "image/png": "[encoded data removed]",
      "text/plain": [
       "<Figure size 1728x864 with 1 Axes>"
      ]
     },
     "metadata": {},
     "output_type": "display_data"
    }
   ],
   "source": [
    "import seaborn as sb\n",
    "import matplotlib.pyplot as plt\n",
    "#histogram without feature selection\n",
    "sb.set(font_scale=2)\n",
    "f, axes = plt.subplots(1, 1, figsize=(24, 12))\n",
    "a= sb.distplot(feature_scores, kde = False, color = \"blue\", axlabel=\"Feature Importance (Before feature selection)\")\n",
    "axes.set_ylabel(\"Number of Features (RFC)\")"
   ]
  },
  {
   "cell_type": "code",
   "execution_count": 47,
   "metadata": {},
   "outputs": [
    {
     "data": {
      "text/plain": [
       "1772    0.002425\n",
       "1308    0.002020\n",
       "112     0.001924\n",
       "2047    0.001914\n",
       "1339    0.001831\n",
       "          ...   \n",
       "1224    0.000869\n",
       "1026    0.000868\n",
       "308     0.000865\n",
       "1657    0.000859\n",
       "1340    0.000859\n",
       "Length: 100, dtype: float64"
      ]
     },
     "execution_count": 47,
     "metadata": {},
     "output_type": "execute_result"
    }
   ],
   "source": [
    "#select these indexes and get those respective features from X\n",
    "topo_features=feature_scores[0:100]\n",
    "topo_features"
   ]
  },
  {
   "cell_type": "code",
   "execution_count": 48,
   "metadata": {},
   "outputs": [
    {
     "data": {
      "text/plain": [
       "Text(0, 0.5, 'Number of Features (RFC)')"
      ]
     },
     "execution_count": 48,
     "metadata": {},
     "output_type": "execute_result"
    },
    {
     "data": {
      "image/png": "[encoded data removed]",
      "text/plain": [
       "<Figure size 1728x864 with 1 Axes>"
      ]
     },
     "metadata": {},
     "output_type": "display_data"
    }
   ],
   "source": [
    "#plotting histogram for features after feature selection\n",
    "import seaborn as sb\n",
    "f, axes = plt.subplots(1, 1, figsize=(24, 12))\n",
    "sb.distplot(topo_features, kde = False, color = \"red\",axlabel=\"Feature Importance (After feature selection)\")\n",
    "axes.set_ylabel(\"Number of Features (RFC)\")"
   ]
  },
  {
   "cell_type": "markdown",
   "metadata": {},
   "source": [
    "#### After re-training the data"
   ]
  },
  {
   "cell_type": "code",
   "execution_count": 49,
   "metadata": {},
   "outputs": [
    {
     "data": {
      "text/plain": [
       "SR-HSE           0.951531\n",
       "NR-AR            0.968821\n",
       "SR-ARE           0.865646\n",
       "NR-Aromatase     0.943594\n",
       "NR-ER-LBD        0.958900\n",
       "NR-AhR           0.910998\n",
       "SR-MMP           0.896825\n",
       "NR-ER            0.909297\n",
       "NR-PPAR-gamma    0.973073\n",
       "SR-p53           0.943594\n",
       "SR-ATAD5         0.974490\n",
       "NR-AR-LBD        0.972222\n",
       "dtype: float64"
      ]
     },
     "execution_count": 49,
     "metadata": {},
     "output_type": "execute_result"
    }
   ],
   "source": [
    "X_feat_train,X_feat_test,y_feat_train,y_feat_test=train_test_split(X[topo_features.index],y,test_size=0.3,random_state=0)\n",
    "newclassifier = RandomForestClassifier(n_estimators = 100, criterion = 'entropy', random_state = 42)\n",
    "newclassifier.fit(X_feat_train,y_feat_train)\n",
    "newrfpredict_topo=newclassifier.predict(X_feat_test)\n",
    "count_misclassified_rf = (y_feat_test != newrfpredict_topo).sum()\n",
    "newrfaccuracy_topo= 1-(count_misclassified_rf/len(y_feat_test))\n",
    "newrfaccuracy_topo"
   ]
  },
  {
   "cell_type": "code",
   "execution_count": 50,
   "metadata": {},
   "outputs": [
    {
     "name": "stdout",
     "output_type": "stream",
     "text": [
      "\u001b[1mRandom Forest:\u001b[0m\n",
      "\u001b[1mBefore feature selection:\u001b[0m\n",
      "SR-HSE           0.947279\n",
      "NR-AR            0.965703\n",
      "SR-ARE           0.855442\n",
      "NR-Aromatase     0.941327\n",
      "NR-ER-LBD        0.960034\n",
      "NR-AhR           0.908447\n",
      "SR-MMP           0.892574\n",
      "NR-ER            0.903628\n",
      "NR-PPAR-gamma    0.976474\n",
      "SR-p53           0.939342\n",
      "SR-ATAD5         0.972506\n",
      "NR-AR-LBD        0.967687\n",
      "dtype: float64\n",
      "------------------\n",
      "\u001b[1mAfter feature selection:\u001b[0m\n",
      "SR-HSE           0.951531\n",
      "NR-AR            0.968821\n",
      "SR-ARE           0.865646\n",
      "NR-Aromatase     0.943594\n",
      "NR-ER-LBD        0.958900\n",
      "NR-AhR           0.910998\n",
      "SR-MMP           0.896825\n",
      "NR-ER            0.909297\n",
      "NR-PPAR-gamma    0.973073\n",
      "SR-p53           0.943594\n",
      "SR-ATAD5         0.974490\n",
      "NR-AR-LBD        0.972222\n",
      "dtype: float64\n"
     ]
    }
   ],
   "source": [
    "print(\"\\033[1m\" + \"Random Forest:\"+ \"\\033[0m\")\n",
    "print(\"\\033[1m\" + \"Before feature selection:\"+ \"\\033[0m\")\n",
    "print(rfaccuracy_topo)\n",
    "print(\"------------------\")\n",
    "print(\"\\033[1m\" + \"After feature selection:\"+ \"\\033[0m\")\n",
    "print(newrfaccuracy_topo)"
   ]
  },
  {
   "cell_type": "code",
   "execution_count": 117,
   "metadata": {},
   "outputs": [
    {
     "name": "stdout",
     "output_type": "stream",
     "text": [
      "Average before Feature Selection:  0.9358701814058955\n"
     ]
    }
   ],
   "source": [
    "sum=0\n",
    "for x in range(len(rfaccuracy_topo)):\n",
    "    sum= sum+ rfaccuracy_topo[x]\n",
    "average= sum/12\n",
    "print (\"Average before Feature Selection: \", average)"
   ]
  },
  {
   "cell_type": "code",
   "execution_count": 118,
   "metadata": {},
   "outputs": [
    {
     "name": "stdout",
     "output_type": "stream",
     "text": [
      "Average after Feature Selection:  0.9390825774754347\n"
     ]
    }
   ],
   "source": [
    "sum=0\n",
    "for x in range(len(newrfaccuracy_topo)):\n",
    "    sum= sum+ newrfaccuracy_topo[x]\n",
    "average= sum/12\n",
    "print (\"Average after Feature Selection: \", average)"
   ]
  },
  {
   "cell_type": "markdown",
   "metadata": {},
   "source": [
    "### RFE"
   ]
  },
  {
   "cell_type": "code",
   "execution_count": 51,
   "metadata": {},
   "outputs": [],
   "source": [
    "from sklearn.feature_selection import RFE\n",
    "from sklearn.linear_model import LogisticRegression"
   ]
  },
  {
   "cell_type": "markdown",
   "metadata": {},
   "source": [
    "This will take a really long while"
   ]
  },
  {
   "cell_type": "code",
   "execution_count": 52,
   "metadata": {},
   "outputs": [],
   "source": [
    "rfe = RFE(lm, n_features_to_select= 100)\n",
    "rfe = rfe.fit(X, y['SR-HSE'])"
   ]
  },
  {
   "cell_type": "code",
   "execution_count": 53,
   "metadata": {},
   "outputs": [
    {
     "data": {
      "text/plain": [
       "Text(0, 0.5, 'Number of Features (RFE)')"
      ]
     },
     "execution_count": 53,
     "metadata": {},
     "output_type": "execute_result"
    },
    {
     "data": {
      "image/png": "[encoded data removed]",
      "text/plain": [
       "<Figure size 1728x864 with 1 Axes>"
      ]
     },
     "metadata": {},
     "output_type": "display_data"
    }
   ],
   "source": [
    "sb.set(font_scale=2)\n",
    "f, axes = plt.subplots(1, 1, figsize=(24, 12))\n",
    "a= sb.distplot(rfe.ranking_, kde = False, color = \"blue\", axlabel=\"Feature Importance (Before Feature Selection)\")\n",
    "axes.set_ylabel(\"Number of Features (RFE)\")"
   ]
  },
  {
   "cell_type": "code",
   "execution_count": 54,
   "metadata": {},
   "outputs": [
    {
     "data": {
      "text/plain": [
       "2048"
      ]
     },
     "execution_count": 54,
     "metadata": {},
     "output_type": "execute_result"
    }
   ],
   "source": [
    "len(rfe.ranking_)"
   ]
  },
  {
   "cell_type": "code",
   "execution_count": 55,
   "metadata": {},
   "outputs": [
    {
     "data": {
      "text/plain": [
       "array([ 558,  218, 1324, ...,    7, 1880,  331])"
      ]
     },
     "execution_count": 55,
     "metadata": {},
     "output_type": "execute_result"
    }
   ],
   "source": [
    "rfe.ranking_"
   ]
  },
  {
   "cell_type": "code",
   "execution_count": null,
   "metadata": {},
   "outputs": [],
   "source": []
  },
  {
   "cell_type": "code",
   "execution_count": 56,
   "metadata": {},
   "outputs": [
    {
     "data": {
      "text/plain": [
       "1900374"
      ]
     },
     "execution_count": 56,
     "metadata": {},
     "output_type": "execute_result"
    }
   ],
   "source": [
    "rfe.ranking_.sum()"
   ]
  },
  {
   "cell_type": "code",
   "execution_count": 57,
   "metadata": {},
   "outputs": [
    {
     "data": {
      "text/plain": [
       "0.1064453125"
      ]
     },
     "execution_count": 57,
     "metadata": {},
     "output_type": "execute_result"
    }
   ],
   "source": [
    "rf_rerank= rfe.ranking_/len(rfe.ranking_)\n",
    "rf_rerank[1]"
   ]
  },
  {
   "cell_type": "code",
   "execution_count": 58,
   "metadata": {},
   "outputs": [
    {
     "data": {
      "text/html": [
       "<div>\n",
       "<style scoped>\n",
       "    .dataframe tbody tr th:only-of-type {\n",
       "        vertical-align: middle;\n",
       "    }\n",
       "\n",
       "    .dataframe tbody tr th {\n",
       "        vertical-align: top;\n",
       "    }\n",
       "\n",
       "    .dataframe thead th {\n",
       "        text-align: right;\n",
       "    }\n",
       "</style>\n",
       "<table border=\"1\" class=\"dataframe\">\n",
       "  <thead>\n",
       "    <tr style=\"text-align: right;\">\n",
       "      <th></th>\n",
       "      <th>importance</th>\n",
       "    </tr>\n",
       "  </thead>\n",
       "  <tbody>\n",
       "    <tr>\n",
       "      <th>1598</th>\n",
       "      <td>1</td>\n",
       "    </tr>\n",
       "    <tr>\n",
       "      <th>774</th>\n",
       "      <td>1</td>\n",
       "    </tr>\n",
       "    <tr>\n",
       "      <th>83</th>\n",
       "      <td>1</td>\n",
       "    </tr>\n",
       "    <tr>\n",
       "      <th>161</th>\n",
       "      <td>1</td>\n",
       "    </tr>\n",
       "    <tr>\n",
       "      <th>1685</th>\n",
       "      <td>1</td>\n",
       "    </tr>\n",
       "    <tr>\n",
       "      <th>...</th>\n",
       "      <td>...</td>\n",
       "    </tr>\n",
       "    <tr>\n",
       "      <th>346</th>\n",
       "      <td>1945</td>\n",
       "    </tr>\n",
       "    <tr>\n",
       "      <th>213</th>\n",
       "      <td>1946</td>\n",
       "    </tr>\n",
       "    <tr>\n",
       "      <th>1928</th>\n",
       "      <td>1947</td>\n",
       "    </tr>\n",
       "    <tr>\n",
       "      <th>1707</th>\n",
       "      <td>1948</td>\n",
       "    </tr>\n",
       "    <tr>\n",
       "      <th>73</th>\n",
       "      <td>1949</td>\n",
       "    </tr>\n",
       "  </tbody>\n",
       "</table>\n",
       "<p>2048 rows × 1 columns</p>\n",
       "</div>"
      ],
      "text/plain": [
       "      importance\n",
       "1598           1\n",
       "774            1\n",
       "83             1\n",
       "161            1\n",
       "1685           1\n",
       "...          ...\n",
       "346         1945\n",
       "213         1946\n",
       "1928        1947\n",
       "1707        1948\n",
       "73          1949\n",
       "\n",
       "[2048 rows x 1 columns]"
      ]
     },
     "execution_count": 58,
     "metadata": {},
     "output_type": "execute_result"
    }
   ],
   "source": [
    "feature_importance= pd.DataFrame(rfe.ranking_,\\\n",
    "                                   index = X.columns,\\\n",
    "                                   columns=['importance']).sort_values('importance', ascending=True)\n",
    "feature_importance.round(6)"
   ]
  },
  {
   "cell_type": "code",
   "execution_count": 59,
   "metadata": {},
   "outputs": [
    {
     "data": {
      "text/html": [
       "<div>\n",
       "<style scoped>\n",
       "    .dataframe tbody tr th:only-of-type {\n",
       "        vertical-align: middle;\n",
       "    }\n",
       "\n",
       "    .dataframe tbody tr th {\n",
       "        vertical-align: top;\n",
       "    }\n",
       "\n",
       "    .dataframe thead th {\n",
       "        text-align: right;\n",
       "    }\n",
       "</style>\n",
       "<table border=\"1\" class=\"dataframe\">\n",
       "  <thead>\n",
       "    <tr style=\"text-align: right;\">\n",
       "      <th></th>\n",
       "      <th>importance</th>\n",
       "    </tr>\n",
       "  </thead>\n",
       "  <tbody>\n",
       "    <tr>\n",
       "      <th>1598</th>\n",
       "      <td>1</td>\n",
       "    </tr>\n",
       "    <tr>\n",
       "      <th>774</th>\n",
       "      <td>1</td>\n",
       "    </tr>\n",
       "    <tr>\n",
       "      <th>83</th>\n",
       "      <td>1</td>\n",
       "    </tr>\n",
       "    <tr>\n",
       "      <th>161</th>\n",
       "      <td>1</td>\n",
       "    </tr>\n",
       "    <tr>\n",
       "      <th>1685</th>\n",
       "      <td>1</td>\n",
       "    </tr>\n",
       "    <tr>\n",
       "      <th>...</th>\n",
       "      <td>...</td>\n",
       "    </tr>\n",
       "    <tr>\n",
       "      <th>1914</th>\n",
       "      <td>1</td>\n",
       "    </tr>\n",
       "    <tr>\n",
       "      <th>1210</th>\n",
       "      <td>1</td>\n",
       "    </tr>\n",
       "    <tr>\n",
       "      <th>1633</th>\n",
       "      <td>1</td>\n",
       "    </tr>\n",
       "    <tr>\n",
       "      <th>1224</th>\n",
       "      <td>1</td>\n",
       "    </tr>\n",
       "    <tr>\n",
       "      <th>1649</th>\n",
       "      <td>1</td>\n",
       "    </tr>\n",
       "  </tbody>\n",
       "</table>\n",
       "<p>100 rows × 1 columns</p>\n",
       "</div>"
      ],
      "text/plain": [
       "      importance\n",
       "1598           1\n",
       "774            1\n",
       "83             1\n",
       "161            1\n",
       "1685           1\n",
       "...          ...\n",
       "1914           1\n",
       "1210           1\n",
       "1633           1\n",
       "1224           1\n",
       "1649           1\n",
       "\n",
       "[100 rows x 1 columns]"
      ]
     },
     "execution_count": 59,
     "metadata": {},
     "output_type": "execute_result"
    }
   ],
   "source": [
    "feat_sel= feature_importance[0:100]\n",
    "feat_sel"
   ]
  },
  {
   "cell_type": "markdown",
   "metadata": {},
   "source": [
    "If ranking=1, it means that it is the best feature!"
   ]
  },
  {
   "cell_type": "code",
   "execution_count": 60,
   "metadata": {},
   "outputs": [
    {
     "data": {
      "text/html": [
       "<div>\n",
       "<style scoped>\n",
       "    .dataframe tbody tr th:only-of-type {\n",
       "        vertical-align: middle;\n",
       "    }\n",
       "\n",
       "    .dataframe tbody tr th {\n",
       "        vertical-align: top;\n",
       "    }\n",
       "\n",
       "    .dataframe thead th {\n",
       "        text-align: right;\n",
       "    }\n",
       "</style>\n",
       "<table border=\"1\" class=\"dataframe\">\n",
       "  <thead>\n",
       "    <tr style=\"text-align: right;\">\n",
       "      <th></th>\n",
       "      <th>1598</th>\n",
       "      <th>774</th>\n",
       "      <th>83</th>\n",
       "      <th>161</th>\n",
       "      <th>1685</th>\n",
       "      <th>1313</th>\n",
       "      <th>1495</th>\n",
       "      <th>1079</th>\n",
       "      <th>1675</th>\n",
       "      <th>357</th>\n",
       "      <th>...</th>\n",
       "      <th>180</th>\n",
       "      <th>1949</th>\n",
       "      <th>1663</th>\n",
       "      <th>718</th>\n",
       "      <th>37</th>\n",
       "      <th>1914</th>\n",
       "      <th>1210</th>\n",
       "      <th>1633</th>\n",
       "      <th>1224</th>\n",
       "      <th>1649</th>\n",
       "    </tr>\n",
       "  </thead>\n",
       "  <tbody>\n",
       "    <tr>\n",
       "      <th>0</th>\n",
       "      <td>0</td>\n",
       "      <td>1</td>\n",
       "      <td>0</td>\n",
       "      <td>1</td>\n",
       "      <td>1</td>\n",
       "      <td>1</td>\n",
       "      <td>0</td>\n",
       "      <td>1</td>\n",
       "      <td>1</td>\n",
       "      <td>0</td>\n",
       "      <td>...</td>\n",
       "      <td>1</td>\n",
       "      <td>0</td>\n",
       "      <td>0</td>\n",
       "      <td>0</td>\n",
       "      <td>0</td>\n",
       "      <td>1</td>\n",
       "      <td>1</td>\n",
       "      <td>0</td>\n",
       "      <td>0</td>\n",
       "      <td>1</td>\n",
       "    </tr>\n",
       "    <tr>\n",
       "      <th>1</th>\n",
       "      <td>1</td>\n",
       "      <td>0</td>\n",
       "      <td>1</td>\n",
       "      <td>1</td>\n",
       "      <td>1</td>\n",
       "      <td>1</td>\n",
       "      <td>0</td>\n",
       "      <td>1</td>\n",
       "      <td>1</td>\n",
       "      <td>1</td>\n",
       "      <td>...</td>\n",
       "      <td>1</td>\n",
       "      <td>1</td>\n",
       "      <td>1</td>\n",
       "      <td>1</td>\n",
       "      <td>0</td>\n",
       "      <td>1</td>\n",
       "      <td>0</td>\n",
       "      <td>1</td>\n",
       "      <td>1</td>\n",
       "      <td>1</td>\n",
       "    </tr>\n",
       "    <tr>\n",
       "      <th>2</th>\n",
       "      <td>0</td>\n",
       "      <td>0</td>\n",
       "      <td>0</td>\n",
       "      <td>1</td>\n",
       "      <td>1</td>\n",
       "      <td>0</td>\n",
       "      <td>0</td>\n",
       "      <td>0</td>\n",
       "      <td>0</td>\n",
       "      <td>0</td>\n",
       "      <td>...</td>\n",
       "      <td>0</td>\n",
       "      <td>0</td>\n",
       "      <td>0</td>\n",
       "      <td>0</td>\n",
       "      <td>0</td>\n",
       "      <td>0</td>\n",
       "      <td>0</td>\n",
       "      <td>0</td>\n",
       "      <td>0</td>\n",
       "      <td>1</td>\n",
       "    </tr>\n",
       "    <tr>\n",
       "      <th>3</th>\n",
       "      <td>1</td>\n",
       "      <td>0</td>\n",
       "      <td>1</td>\n",
       "      <td>1</td>\n",
       "      <td>1</td>\n",
       "      <td>1</td>\n",
       "      <td>1</td>\n",
       "      <td>0</td>\n",
       "      <td>1</td>\n",
       "      <td>0</td>\n",
       "      <td>...</td>\n",
       "      <td>1</td>\n",
       "      <td>1</td>\n",
       "      <td>1</td>\n",
       "      <td>0</td>\n",
       "      <td>0</td>\n",
       "      <td>1</td>\n",
       "      <td>0</td>\n",
       "      <td>1</td>\n",
       "      <td>0</td>\n",
       "      <td>0</td>\n",
       "    </tr>\n",
       "    <tr>\n",
       "      <th>4</th>\n",
       "      <td>0</td>\n",
       "      <td>0</td>\n",
       "      <td>0</td>\n",
       "      <td>1</td>\n",
       "      <td>1</td>\n",
       "      <td>1</td>\n",
       "      <td>1</td>\n",
       "      <td>1</td>\n",
       "      <td>1</td>\n",
       "      <td>0</td>\n",
       "      <td>...</td>\n",
       "      <td>1</td>\n",
       "      <td>0</td>\n",
       "      <td>1</td>\n",
       "      <td>1</td>\n",
       "      <td>0</td>\n",
       "      <td>0</td>\n",
       "      <td>0</td>\n",
       "      <td>1</td>\n",
       "      <td>1</td>\n",
       "      <td>0</td>\n",
       "    </tr>\n",
       "    <tr>\n",
       "      <th>...</th>\n",
       "      <td>...</td>\n",
       "      <td>...</td>\n",
       "      <td>...</td>\n",
       "      <td>...</td>\n",
       "      <td>...</td>\n",
       "      <td>...</td>\n",
       "      <td>...</td>\n",
       "      <td>...</td>\n",
       "      <td>...</td>\n",
       "      <td>...</td>\n",
       "      <td>...</td>\n",
       "      <td>...</td>\n",
       "      <td>...</td>\n",
       "      <td>...</td>\n",
       "      <td>...</td>\n",
       "      <td>...</td>\n",
       "      <td>...</td>\n",
       "      <td>...</td>\n",
       "      <td>...</td>\n",
       "      <td>...</td>\n",
       "      <td>...</td>\n",
       "    </tr>\n",
       "    <tr>\n",
       "      <th>11753</th>\n",
       "      <td>1</td>\n",
       "      <td>0</td>\n",
       "      <td>0</td>\n",
       "      <td>1</td>\n",
       "      <td>1</td>\n",
       "      <td>0</td>\n",
       "      <td>1</td>\n",
       "      <td>0</td>\n",
       "      <td>1</td>\n",
       "      <td>0</td>\n",
       "      <td>...</td>\n",
       "      <td>1</td>\n",
       "      <td>0</td>\n",
       "      <td>0</td>\n",
       "      <td>0</td>\n",
       "      <td>1</td>\n",
       "      <td>0</td>\n",
       "      <td>0</td>\n",
       "      <td>0</td>\n",
       "      <td>1</td>\n",
       "      <td>0</td>\n",
       "    </tr>\n",
       "    <tr>\n",
       "      <th>11754</th>\n",
       "      <td>1</td>\n",
       "      <td>0</td>\n",
       "      <td>0</td>\n",
       "      <td>1</td>\n",
       "      <td>0</td>\n",
       "      <td>0</td>\n",
       "      <td>0</td>\n",
       "      <td>0</td>\n",
       "      <td>0</td>\n",
       "      <td>0</td>\n",
       "      <td>...</td>\n",
       "      <td>0</td>\n",
       "      <td>0</td>\n",
       "      <td>0</td>\n",
       "      <td>1</td>\n",
       "      <td>1</td>\n",
       "      <td>0</td>\n",
       "      <td>0</td>\n",
       "      <td>1</td>\n",
       "      <td>0</td>\n",
       "      <td>1</td>\n",
       "    </tr>\n",
       "    <tr>\n",
       "      <th>11755</th>\n",
       "      <td>1</td>\n",
       "      <td>0</td>\n",
       "      <td>0</td>\n",
       "      <td>1</td>\n",
       "      <td>1</td>\n",
       "      <td>0</td>\n",
       "      <td>1</td>\n",
       "      <td>0</td>\n",
       "      <td>1</td>\n",
       "      <td>0</td>\n",
       "      <td>...</td>\n",
       "      <td>1</td>\n",
       "      <td>0</td>\n",
       "      <td>0</td>\n",
       "      <td>0</td>\n",
       "      <td>0</td>\n",
       "      <td>0</td>\n",
       "      <td>1</td>\n",
       "      <td>0</td>\n",
       "      <td>1</td>\n",
       "      <td>0</td>\n",
       "    </tr>\n",
       "    <tr>\n",
       "      <th>11756</th>\n",
       "      <td>0</td>\n",
       "      <td>0</td>\n",
       "      <td>0</td>\n",
       "      <td>0</td>\n",
       "      <td>0</td>\n",
       "      <td>0</td>\n",
       "      <td>1</td>\n",
       "      <td>0</td>\n",
       "      <td>1</td>\n",
       "      <td>0</td>\n",
       "      <td>...</td>\n",
       "      <td>1</td>\n",
       "      <td>0</td>\n",
       "      <td>0</td>\n",
       "      <td>0</td>\n",
       "      <td>0</td>\n",
       "      <td>0</td>\n",
       "      <td>0</td>\n",
       "      <td>0</td>\n",
       "      <td>1</td>\n",
       "      <td>0</td>\n",
       "    </tr>\n",
       "    <tr>\n",
       "      <th>11757</th>\n",
       "      <td>0</td>\n",
       "      <td>0</td>\n",
       "      <td>0</td>\n",
       "      <td>1</td>\n",
       "      <td>1</td>\n",
       "      <td>0</td>\n",
       "      <td>0</td>\n",
       "      <td>0</td>\n",
       "      <td>0</td>\n",
       "      <td>0</td>\n",
       "      <td>...</td>\n",
       "      <td>0</td>\n",
       "      <td>1</td>\n",
       "      <td>0</td>\n",
       "      <td>1</td>\n",
       "      <td>0</td>\n",
       "      <td>1</td>\n",
       "      <td>0</td>\n",
       "      <td>0</td>\n",
       "      <td>1</td>\n",
       "      <td>1</td>\n",
       "    </tr>\n",
       "  </tbody>\n",
       "</table>\n",
       "<p>11758 rows × 100 columns</p>\n",
       "</div>"
      ],
      "text/plain": [
       "       1598  774  83  161  1685  1313  1495  1079  1675  357  ...  180  1949  \\\n",
       "0         0    1   0    1     1     1     0     1     1    0  ...    1     0   \n",
       "1         1    0   1    1     1     1     0     1     1    1  ...    1     1   \n",
       "2         0    0   0    1     1     0     0     0     0    0  ...    0     0   \n",
       "3         1    0   1    1     1     1     1     0     1    0  ...    1     1   \n",
       "4         0    0   0    1     1     1     1     1     1    0  ...    1     0   \n",
       "...     ...  ...  ..  ...   ...   ...   ...   ...   ...  ...  ...  ...   ...   \n",
       "11753     1    0   0    1     1     0     1     0     1    0  ...    1     0   \n",
       "11754     1    0   0    1     0     0     0     0     0    0  ...    0     0   \n",
       "11755     1    0   0    1     1     0     1     0     1    0  ...    1     0   \n",
       "11756     0    0   0    0     0     0     1     0     1    0  ...    1     0   \n",
       "11757     0    0   0    1     1     0     0     0     0    0  ...    0     1   \n",
       "\n",
       "       1663  718  37  1914  1210  1633  1224  1649  \n",
       "0         0    0   0     1     1     0     0     1  \n",
       "1         1    1   0     1     0     1     1     1  \n",
       "2         0    0   0     0     0     0     0     1  \n",
       "3         1    0   0     1     0     1     0     0  \n",
       "4         1    1   0     0     0     1     1     0  \n",
       "...     ...  ...  ..   ...   ...   ...   ...   ...  \n",
       "11753     0    0   1     0     0     0     1     0  \n",
       "11754     0    1   1     0     0     1     0     1  \n",
       "11755     0    0   0     0     1     0     1     0  \n",
       "11756     0    0   0     0     0     0     1     0  \n",
       "11757     0    1   0     1     0     0     1     1  \n",
       "\n",
       "[11758 rows x 100 columns]"
      ]
     },
     "execution_count": 60,
     "metadata": {},
     "output_type": "execute_result"
    }
   ],
   "source": [
    "X[feat_sel.index]"
   ]
  },
  {
   "cell_type": "code",
   "execution_count": 61,
   "metadata": {},
   "outputs": [
    {
     "data": {
      "text/plain": [
       "Text(0, 0.5, 'Number of Features (RFE)')"
      ]
     },
     "execution_count": 61,
     "metadata": {},
     "output_type": "execute_result"
    },
    {
     "data": {
      "image/png": "[encoded data removed]",
      "text/plain": [
       "<Figure size 1728x864 with 1 Axes>"
      ]
     },
     "metadata": {},
     "output_type": "display_data"
    }
   ],
   "source": [
    "#plotting histogram for features after feature selection\n",
    "import seaborn as sb\n",
    "\n",
    "f, axes = plt.subplots(1, 1, figsize=(24, 12))\n",
    "sb.distplot(feat_sel, kde = False, color = \"purple\",axlabel=\"Feature Importance (After Feature Selection)\")\n",
    "axes.set_ylabel(\"Number of Features (RFE)\")"
   ]
  },
  {
   "cell_type": "code",
   "execution_count": 62,
   "metadata": {},
   "outputs": [],
   "source": [
    "Xt_rfe_train,Xt_rfe_test,yt_rfe_train,yt_rfe_test=train_test_split(X[feat_sel.index],y,test_size=0.3,random_state=0)"
   ]
  },
  {
   "cell_type": "markdown",
   "metadata": {},
   "source": [
    "#### SR-HSE"
   ]
  },
  {
   "cell_type": "code",
   "execution_count": 63,
   "metadata": {},
   "outputs": [
    {
     "name": "stdout",
     "output_type": "stream",
     "text": [
      "The accuracy of the model is: 0.9518140589569161\n"
     ]
    }
   ],
   "source": [
    "sr_hse= yt_rfe_train['SR-HSE']\n",
    "lm.fit(Xt_rfe_train, sr_hse)\n",
    "newtaccuracy1=lm.score(Xt_rfe_test, yt_rfe_test['SR-HSE'])\n",
    "print(\"The accuracy of the model is:\",newtaccuracy1)"
   ]
  },
  {
   "cell_type": "markdown",
   "metadata": {},
   "source": [
    "#### NR-AR "
   ]
  },
  {
   "cell_type": "code",
   "execution_count": 64,
   "metadata": {},
   "outputs": [
    {
     "name": "stdout",
     "output_type": "stream",
     "text": [
      "The accuracy of the model is: 0.9739229024943311\n"
     ]
    }
   ],
   "source": [
    "nr_ar= yt_rfe_train['NR-AR']\n",
    "lm.fit(Xt_rfe_train, nr_ar)\n",
    "newtaccuracy2= lm.score(Xt_rfe_test, yt_rfe_test['NR-AR'])\n",
    "print(\"The accuracy of the model is:\",newtaccuracy2)"
   ]
  },
  {
   "cell_type": "markdown",
   "metadata": {},
   "source": [
    "#### SR-ARE"
   ]
  },
  {
   "cell_type": "code",
   "execution_count": 65,
   "metadata": {},
   "outputs": [
    {
     "name": "stdout",
     "output_type": "stream",
     "text": [
      "The accuracy of the model is: 0.8599773242630385\n"
     ]
    }
   ],
   "source": [
    "sr_are= yt_rfe_train['SR-ARE']\n",
    "lm.fit(Xt_rfe_train, sr_are)\n",
    "newtaccuracy3= lm.score(Xt_rfe_test, yt_rfe_test['SR-ARE'])\n",
    "print(\"The accuracy of the model is:\",newtaccuracy3)"
   ]
  },
  {
   "cell_type": "markdown",
   "metadata": {},
   "source": [
    "#### NR-Aromatase"
   ]
  },
  {
   "cell_type": "code",
   "execution_count": 66,
   "metadata": {},
   "outputs": [
    {
     "name": "stdout",
     "output_type": "stream",
     "text": [
      "The accuracy of the model is: 0.9430272108843537\n"
     ]
    }
   ],
   "source": [
    "nr_aromatase= yt_rfe_train['NR-Aromatase']\n",
    "lm.fit(Xt_rfe_train, nr_aromatase)\n",
    "newtaccuracy4= lm.score(Xt_rfe_test, yt_rfe_test['NR-Aromatase'])\n",
    "print(\"The accuracy of the model is:\",newtaccuracy4)"
   ]
  },
  {
   "cell_type": "markdown",
   "metadata": {},
   "source": [
    "#### NR-ER-LBD"
   ]
  },
  {
   "cell_type": "code",
   "execution_count": 67,
   "metadata": {},
   "outputs": [
    {
     "name": "stdout",
     "output_type": "stream",
     "text": [
      "The accuracy of the model is: 0.9552154195011338\n"
     ]
    }
   ],
   "source": [
    "nr_erlbd= yt_rfe_train['NR-ER-LBD']\n",
    "lm.fit(Xt_rfe_train, nr_erlbd)\n",
    "newtaccuracy5= lm.score(Xt_rfe_test, yt_rfe_test['NR-ER-LBD'])\n",
    "print(\"The accuracy of the model is:\",newtaccuracy5)"
   ]
  },
  {
   "cell_type": "markdown",
   "metadata": {},
   "source": [
    "#### NR-AhR"
   ]
  },
  {
   "cell_type": "code",
   "execution_count": 68,
   "metadata": {},
   "outputs": [
    {
     "name": "stdout",
     "output_type": "stream",
     "text": [
      "The accuracy of the model is: 0.9115646258503401\n"
     ]
    }
   ],
   "source": [
    "nr_ahr= yt_rfe_train['NR-AhR']\n",
    "lm.fit(Xt_rfe_train, nr_ahr)\n",
    "newtaccuracy6= lm.score(Xt_rfe_test, yt_rfe_test['NR-AhR'])\n",
    "print(\"The accuracy of the model is:\",newtaccuracy6)"
   ]
  },
  {
   "cell_type": "markdown",
   "metadata": {},
   "source": [
    "#### SR-MMP"
   ]
  },
  {
   "cell_type": "code",
   "execution_count": 69,
   "metadata": {},
   "outputs": [
    {
     "name": "stdout",
     "output_type": "stream",
     "text": [
      "The accuracy of the model is: 0.8883219954648526\n"
     ]
    }
   ],
   "source": [
    "sr_mmp= yt_rfe_train['SR-MMP']\n",
    "lm.fit(Xt_rfe_train, sr_mmp)\n",
    "newtaccuracy7= lm.score(Xt_rfe_test, yt_rfe_test['SR-MMP'])\n",
    "print(\"The accuracy of the model is:\",newtaccuracy7)"
   ]
  },
  {
   "cell_type": "markdown",
   "metadata": {},
   "source": [
    "#### NR-ER"
   ]
  },
  {
   "cell_type": "code",
   "execution_count": 70,
   "metadata": {},
   "outputs": [
    {
     "name": "stdout",
     "output_type": "stream",
     "text": [
      "The accuracy of the model is: 0.9081632653061225\n"
     ]
    }
   ],
   "source": [
    "nr_er= yt_rfe_train['NR-ER']\n",
    "lm.fit(Xt_rfe_train, nr_er)\n",
    "newtaccuracy8= lm.score(Xt_rfe_test, yt_rfe_test['NR-ER'])\n",
    "print(\"The accuracy of the model is:\",newtaccuracy8)"
   ]
  },
  {
   "cell_type": "markdown",
   "metadata": {},
   "source": [
    "#### NR-PPAR-gamma"
   ]
  },
  {
   "cell_type": "code",
   "execution_count": 71,
   "metadata": {},
   "outputs": [
    {
     "name": "stdout",
     "output_type": "stream",
     "text": [
      "The accuracy of the model is: 0.9747732426303855\n"
     ]
    }
   ],
   "source": [
    "nr_ppar= yt_rfe_train['NR-PPAR-gamma']\n",
    "lm.fit(Xt_rfe_train, nr_ppar)\n",
    "newtaccuracy9= lm.score(Xt_rfe_test, yt_rfe_test['NR-PPAR-gamma'])\n",
    "print(\"The accuracy of the model is:\",newtaccuracy9)"
   ]
  },
  {
   "cell_type": "markdown",
   "metadata": {},
   "source": [
    "#### SR-p53"
   ]
  },
  {
   "cell_type": "code",
   "execution_count": 72,
   "metadata": {},
   "outputs": [
    {
     "name": "stdout",
     "output_type": "stream",
     "text": [
      "The accuracy of the model is: 0.94359410430839\n"
     ]
    }
   ],
   "source": [
    "sr_p53= yt_rfe_train['SR-p53']\n",
    "lm.fit(Xt_rfe_train, sr_p53)\n",
    "newtaccuracy10= lm.score(Xt_rfe_test, yt_rfe_test['SR-p53'])\n",
    "print(\"The accuracy of the model is:\",newtaccuracy10)"
   ]
  },
  {
   "cell_type": "markdown",
   "metadata": {},
   "source": [
    "#### SR-ATAD5"
   ]
  },
  {
   "cell_type": "code",
   "execution_count": 73,
   "metadata": {},
   "outputs": [
    {
     "name": "stdout",
     "output_type": "stream",
     "text": [
      "The accuracy of the model is: 0.971655328798186\n"
     ]
    }
   ],
   "source": [
    "sr_atad5= yt_rfe_train['SR-ATAD5']\n",
    "lm.fit(Xt_rfe_train, sr_atad5)\n",
    "newtaccuracy11= lm.score(Xt_rfe_test, yt_rfe_test['SR-ATAD5'])\n",
    "print(\"The accuracy of the model is:\",newtaccuracy11)"
   ]
  },
  {
   "cell_type": "markdown",
   "metadata": {},
   "source": [
    "#### NR-AR-LBD"
   ]
  },
  {
   "cell_type": "code",
   "execution_count": 74,
   "metadata": {},
   "outputs": [
    {
     "name": "stdout",
     "output_type": "stream",
     "text": [
      "The accuracy of the model is: 0.9742063492063492\n"
     ]
    }
   ],
   "source": [
    "nr_arlbd= yt_rfe_train['NR-AR-LBD']\n",
    "lm.fit(Xt_rfe_train, nr_arlbd)\n",
    "newtaccuracy12= lm.score(Xt_rfe_test, yt_rfe_test['NR-AR-LBD'])\n",
    "print(\"The accuracy of the model is:\",newtaccuracy12)"
   ]
  },
  {
   "cell_type": "code",
   "execution_count": 114,
   "metadata": {},
   "outputs": [
    {
     "name": "stdout",
     "output_type": "stream",
     "text": [
      "\u001b[1mLogistic Regression:\u001b[0m\n",
      "\u001b[1mBefore Feature Selection:\u001b[0m\n",
      "SR-HSE: \t 0.9430272108843537\n",
      "NR-AR: \t 0.963718820861678\n",
      "SR-ARE: \t 0.8378684807256236\n",
      "NR-Aromatase: \t 0.9319727891156463\n",
      "NR-ER-LBD: \t 0.9520975056689343\n",
      "NR-AhR: \t 0.8996598639455783\n",
      "SR-MMP: \t 0.8818027210884354\n",
      "NR-ER: \t 0.8883219954648526\n",
      "NR-PPAR-gamma: \t 0.9759070294784581\n",
      "SR-p53: \t 0.9280045351473923\n",
      "SR-ATAD5: \t 0.9708049886621315\n",
      "NR-AR-LBD: \t 0.9679705215419501\n",
      "Average: \t 0.9284297052154195\n",
      "------------------------------\n",
      "\n",
      "\u001b[1mAfter Feature Selection:\u001b[0m\n",
      "SR-HSE: \t 0.9518140589569161\n",
      "NR-AR: \t 0.9739229024943311\n",
      "SR-ARE: \t 0.8599773242630385\n",
      "NR-Aromatase: \t 0.9430272108843537\n",
      "NR-ER-LBD: \t 0.9552154195011338\n",
      "NR-AhR: \t 0.9115646258503401\n",
      "SR-MMP: \t 0.8883219954648526\n",
      "NR-ER: \t 0.9081632653061225\n",
      "NR-PPAR-gamma: \t 0.9747732426303855\n",
      "SR-p53: \t 0.94359410430839\n",
      "SR-ATAD5: \t 0.971655328798186\n",
      "NR-AR-LBD: \t 0.9742063492063492\n",
      "Average: \t 0.9380196523053667\n"
     ]
    }
   ],
   "source": [
    "print(\"\\033[1m\" + \"Logistic Regression:\" + \"\\033[0m\")\n",
    "print(\"\\033[1m\" + \"Before Feature Selection:\" + \"\\033[0m\")\n",
    "print(\"SR-HSE: \\t\", taccuracy1)\n",
    "print(\"NR-AR: \\t\", taccuracy2)\n",
    "print(\"SR-ARE: \\t\", taccuracy3)\n",
    "print(\"NR-Aromatase: \\t\", taccuracy4)\n",
    "print(\"NR-ER-LBD: \\t\", taccuracy5)\n",
    "print(\"NR-AhR: \\t\", taccuracy6)\n",
    "print(\"SR-MMP: \\t\", taccuracy7)\n",
    "print(\"NR-ER: \\t\", taccuracy8)\n",
    "print(\"NR-PPAR-gamma: \\t\", taccuracy9)\n",
    "print(\"SR-p53: \\t\", taccuracy10)\n",
    "print(\"SR-ATAD5: \\t\", taccuracy11)\n",
    "print(\"NR-AR-LBD: \\t\", taccuracy12)\n",
    "print(\"Average: \\t\", (taccuracy1+taccuracy2+taccuracy3+taccuracy4+taccuracy5+taccuracy6+taccuracy7+taccuracy8+taccuracy9+taccuracy10+taccuracy11+taccuracy12)/12)\n",
    "print(\"------------------------------\\n\")\n",
    "print(\"\\033[1m\" + \"After Feature Selection:\" + \"\\033[0m\")\n",
    "print(\"SR-HSE: \\t\", newtaccuracy1)\n",
    "print(\"NR-AR: \\t\", newtaccuracy2)\n",
    "print(\"SR-ARE: \\t\", newtaccuracy3)\n",
    "print(\"NR-Aromatase: \\t\", newtaccuracy4)\n",
    "print(\"NR-ER-LBD: \\t\", newtaccuracy5)\n",
    "print(\"NR-AhR: \\t\", newtaccuracy6)\n",
    "print(\"SR-MMP: \\t\", newtaccuracy7)\n",
    "print(\"NR-ER: \\t\", newtaccuracy8)\n",
    "print(\"NR-PPAR-gamma: \\t\", newtaccuracy9)\n",
    "print(\"SR-p53: \\t\", newtaccuracy10)\n",
    "print(\"SR-ATAD5: \\t\", newtaccuracy11)\n",
    "print(\"NR-AR-LBD: \\t\", newtaccuracy12)\n",
    "print(\"Average: \\t\", (newtaccuracy1+newtaccuracy2+newtaccuracy3+newtaccuracy4+newtaccuracy5+newtaccuracy6+newtaccuracy7+newtaccuracy8+newtaccuracy9+newtaccuracy10+newtaccuracy11+newtaccuracy12)/12)"
   ]
  },
  {
   "cell_type": "markdown",
   "metadata": {},
   "source": [
    "### Re-training SVM SVC"
   ]
  },
  {
   "cell_type": "markdown",
   "metadata": {},
   "source": [
    "Was not able to use my sig model to re-train the features as some error popped up. Error mentioned that the model didn't have a coeff_, but it does"
   ]
  },
  {
   "cell_type": "markdown",
   "metadata": {},
   "source": [
    "#### SR-HSE"
   ]
  },
  {
   "cell_type": "code",
   "execution_count": 76,
   "metadata": {},
   "outputs": [
    {
     "name": "stdout",
     "output_type": "stream",
     "text": [
      "The accuracy of the model is: 0.9257369614512472\n"
     ]
    }
   ],
   "source": [
    "sr_hse= yt_rfe_train['SR-HSE']\n",
    "sig.fit(Xt_rfe_train, sr_hse)\n",
    "newtsaccuracy1=sig.score(Xt_rfe_test, yt_rfe_test['SR-HSE'])\n",
    "print(\"The accuracy of the model is:\",newtsaccuracy1)"
   ]
  },
  {
   "cell_type": "markdown",
   "metadata": {},
   "source": [
    "#### NR-AR "
   ]
  },
  {
   "cell_type": "code",
   "execution_count": 77,
   "metadata": {},
   "outputs": [
    {
     "name": "stdout",
     "output_type": "stream",
     "text": [
      "The accuracy of the model is: 0.9554988662131519\n"
     ]
    }
   ],
   "source": [
    "nr_ar= yt_rfe_train['NR-AR']\n",
    "sig.fit(Xt_rfe_train, nr_ar)\n",
    "newtsaccuracy2= sig.score(Xt_rfe_test, yt_rfe_test['NR-AR'])\n",
    "print(\"The accuracy of the model is:\",newtsaccuracy2)"
   ]
  },
  {
   "cell_type": "markdown",
   "metadata": {},
   "source": [
    "#### SR-ARE"
   ]
  },
  {
   "cell_type": "code",
   "execution_count": 78,
   "metadata": {},
   "outputs": [
    {
     "name": "stdout",
     "output_type": "stream",
     "text": [
      "The accuracy of the model is: 0.796201814058957\n"
     ]
    }
   ],
   "source": [
    "sr_are= yt_rfe_train['SR-ARE']\n",
    "sig.fit(Xt_rfe_train, sr_are)\n",
    "newtsaccuracy3= sig.score(Xt_rfe_test, yt_rfe_test['SR-ARE'])\n",
    "print(\"The accuracy of the model is:\",newtsaccuracy3)"
   ]
  },
  {
   "cell_type": "markdown",
   "metadata": {},
   "source": [
    "#### NR-Aromatase"
   ]
  },
  {
   "cell_type": "code",
   "execution_count": 79,
   "metadata": {},
   "outputs": [
    {
     "name": "stdout",
     "output_type": "stream",
     "text": [
      "The accuracy of the model is: 0.9285714285714286\n"
     ]
    }
   ],
   "source": [
    "nr_aromatase= yt_rfe_train['NR-Aromatase']\n",
    "sig.fit(Xt_rfe_train, nr_aromatase)\n",
    "newtsaccuracy4= sig.score(Xt_rfe_test, yt_rfe_test['NR-Aromatase'])\n",
    "print(\"The accuracy of the model is:\",newtsaccuracy4)"
   ]
  },
  {
   "cell_type": "markdown",
   "metadata": {},
   "source": [
    "#### NR-ER-LBD"
   ]
  },
  {
   "cell_type": "code",
   "execution_count": 80,
   "metadata": {},
   "outputs": [
    {
     "name": "stdout",
     "output_type": "stream",
     "text": [
      "The accuracy of the model is: 0.9438775510204082\n"
     ]
    }
   ],
   "source": [
    "nr_erlbd= yt_rfe_train['NR-ER-LBD']\n",
    "sig.fit(Xt_rfe_train, nr_erlbd)\n",
    "newtsaccuracy5= sig.score(Xt_rfe_test, yt_rfe_test['NR-ER-LBD'])\n",
    "print(\"The accuracy of the model is:\",newtsaccuracy5)"
   ]
  },
  {
   "cell_type": "markdown",
   "metadata": {},
   "source": [
    "#### NR-AhR"
   ]
  },
  {
   "cell_type": "code",
   "execution_count": 81,
   "metadata": {},
   "outputs": [
    {
     "name": "stdout",
     "output_type": "stream",
     "text": [
      "The accuracy of the model is: 0.8857709750566893\n"
     ]
    }
   ],
   "source": [
    "nr_ahr= yt_rfe_train['NR-AhR']\n",
    "sig.fit(Xt_rfe_train, nr_ahr)\n",
    "newtsaccuracy6= sig.score(Xt_rfe_test, yt_rfe_test['NR-AhR'])\n",
    "print(\"The accuracy of the model is:\",newtsaccuracy6)"
   ]
  },
  {
   "cell_type": "markdown",
   "metadata": {},
   "source": [
    "#### SR-MMP"
   ]
  },
  {
   "cell_type": "code",
   "execution_count": 82,
   "metadata": {},
   "outputs": [
    {
     "name": "stdout",
     "output_type": "stream",
     "text": [
      "The accuracy of the model is: 0.8412698412698413\n"
     ]
    }
   ],
   "source": [
    "sr_mmp= yt_rfe_train['SR-MMP']\n",
    "sig.fit(Xt_rfe_train, sr_mmp)\n",
    "newtsaccuracy7= sig.score(Xt_rfe_test, yt_rfe_test['SR-MMP'])\n",
    "print(\"The accuracy of the model is:\",newtsaccuracy7)"
   ]
  },
  {
   "cell_type": "markdown",
   "metadata": {},
   "source": [
    "#### NR-ER"
   ]
  },
  {
   "cell_type": "code",
   "execution_count": 83,
   "metadata": {},
   "outputs": [
    {
     "name": "stdout",
     "output_type": "stream",
     "text": [
      "The accuracy of the model is: 0.8784013605442177\n"
     ]
    }
   ],
   "source": [
    "nr_er= yt_rfe_train['NR-ER']\n",
    "sig.fit(Xt_rfe_train, nr_er)\n",
    "newtsaccuracy8= sig.score(Xt_rfe_test, yt_rfe_test['NR-ER'])\n",
    "print(\"The accuracy of the model is:\",newtsaccuracy8)"
   ]
  },
  {
   "cell_type": "markdown",
   "metadata": {},
   "source": [
    "#### NR-PPAR-gamma"
   ]
  },
  {
   "cell_type": "code",
   "execution_count": 84,
   "metadata": {},
   "outputs": [
    {
     "name": "stdout",
     "output_type": "stream",
     "text": [
      "The accuracy of the model is: 0.9682539682539683\n"
     ]
    }
   ],
   "source": [
    "nr_ppar= yt_rfe_train['NR-PPAR-gamma']\n",
    "sig.fit(Xt_rfe_train, nr_ppar)\n",
    "newtsaccuracy9= sig.score(Xt_rfe_test, yt_rfe_test['NR-PPAR-gamma'])\n",
    "print(\"The accuracy of the model is:\",newtsaccuracy9)"
   ]
  },
  {
   "cell_type": "markdown",
   "metadata": {},
   "source": [
    "#### SR-p53"
   ]
  },
  {
   "cell_type": "code",
   "execution_count": 85,
   "metadata": {},
   "outputs": [
    {
     "name": "stdout",
     "output_type": "stream",
     "text": [
      "The accuracy of the model is: 0.9297052154195011\n"
     ]
    }
   ],
   "source": [
    "sr_p53= yt_rfe_train['SR-p53']\n",
    "sig.fit(Xt_rfe_train, sr_p53)\n",
    "newtsaccuracy10= sig.score(Xt_rfe_test, yt_rfe_test['SR-p53'])\n",
    "print(\"The accuracy of the model is:\",newtsaccuracy10)"
   ]
  },
  {
   "cell_type": "markdown",
   "metadata": {},
   "source": [
    "#### SR-ATAD5"
   ]
  },
  {
   "cell_type": "code",
   "execution_count": 86,
   "metadata": {},
   "outputs": [
    {
     "name": "stdout",
     "output_type": "stream",
     "text": [
      "The accuracy of the model is: 0.9662698412698413\n"
     ]
    }
   ],
   "source": [
    "sr_atad5= yt_rfe_train['SR-ATAD5']\n",
    "sig.fit(Xt_rfe_train, sr_atad5)\n",
    "newtsaccuracy11= sig.score(Xt_rfe_test, yt_rfe_test['SR-ATAD5'])\n",
    "print(\"The accuracy of the model is:\",newtsaccuracy11)"
   ]
  },
  {
   "cell_type": "markdown",
   "metadata": {},
   "source": [
    "#### NR-AR-LBD"
   ]
  },
  {
   "cell_type": "code",
   "execution_count": 87,
   "metadata": {},
   "outputs": [
    {
     "name": "stdout",
     "output_type": "stream",
     "text": [
      "The accuracy of the model is: 0.9580498866213152\n"
     ]
    }
   ],
   "source": [
    "nr_arlbd= yt_rfe_train['NR-AR-LBD']\n",
    "sig.fit(Xt_rfe_train, nr_arlbd)\n",
    "newtsaccuracy12= sig.score(Xt_rfe_test, yt_rfe_test['NR-AR-LBD'])\n",
    "print(\"The accuracy of the model is:\",newtsaccuracy12)"
   ]
  },
  {
   "cell_type": "code",
   "execution_count": 115,
   "metadata": {},
   "outputs": [
    {
     "name": "stdout",
     "output_type": "stream",
     "text": [
      "\u001b[1mSVM SC Regression:\u001b[0m\n",
      "\u001b[1mBefore Feature Selection:\u001b[0m\n",
      "SR-HSE: \t 0.941609977324263\n",
      "NR-AR: \t 0.9654195011337868\n",
      "SR-ARE: \t 0.7967687074829932\n",
      "NR-Aromatase: \t 0.9322562358276644\n",
      "NR-ER-LBD: \t 0.9509637188208617\n",
      "NR-AhR: \t 0.8897392290249433\n",
      "SR-MMP: \t 0.8458049886621315\n",
      "NR-ER: \t 0.8962585034013606\n",
      "NR-PPAR-gamma: \t 0.9764739229024944\n",
      "SR-p53: \t 0.9265873015873016\n",
      "SR-ATAD5: \t 0.9674036281179138\n",
      "NR-AR-LBD: \t 0.9648526077097506\n",
      "Average: \t 0.9211781934996223\n",
      "------------------------------\n",
      "\n",
      "\u001b[1mAfter Feature Selection:\u001b[0m\n",
      "SR-HSE: \t 0.9257369614512472\n",
      "NR-AR: \t 0.9554988662131519\n",
      "SR-ARE: \t 0.796201814058957\n",
      "NR-Aromatase: \t 0.9285714285714286\n",
      "NR-ER-LBD: \t 0.9438775510204082\n",
      "NR-AhR: \t 0.8857709750566893\n",
      "SR-MMP: \t 0.8412698412698413\n",
      "NR-ER: \t 0.8784013605442177\n",
      "NR-PPAR-gamma: \t 0.9682539682539683\n",
      "SR-p53: \t 0.9297052154195011\n",
      "SR-ATAD5: \t 0.9662698412698413\n",
      "NR-AR-LBD: \t 0.9580498866213152\n",
      "Average: \t 0.914800642479214\n"
     ]
    }
   ],
   "source": [
    "print(\"\\033[1m\" + \"SVM SC Regression:\" + \"\\033[0m\")\n",
    "print(\"\\033[1m\" + \"Before Feature Selection:\" + \"\\033[0m\")\n",
    "print(\"SR-HSE: \\t\", tsaccuracy1)\n",
    "print(\"NR-AR: \\t\", tsaccuracy2)\n",
    "print(\"SR-ARE: \\t\", tsaccuracy3)\n",
    "print(\"NR-Aromatase: \\t\", tsaccuracy4)\n",
    "print(\"NR-ER-LBD: \\t\", tsaccuracy5)\n",
    "print(\"NR-AhR: \\t\", tsaccuracy6)\n",
    "print(\"SR-MMP: \\t\", tsaccuracy7)\n",
    "print(\"NR-ER: \\t\", tsaccuracy8)\n",
    "print(\"NR-PPAR-gamma: \\t\", tsaccuracy9)\n",
    "print(\"SR-p53: \\t\", tsaccuracy10)\n",
    "print(\"SR-ATAD5: \\t\", tsaccuracy11)\n",
    "print(\"NR-AR-LBD: \\t\", tsaccuracy12)\n",
    "print(\"Average: \\t\", (tsaccuracy1+tsaccuracy2+tsaccuracy3+tsaccuracy4+tsaccuracy5+tsaccuracy6+tsaccuracy7+tsaccuracy8+tsaccuracy9+tsaccuracy10+tsaccuracy11+tsaccuracy12)/12)\n",
    "\n",
    "print(\"------------------------------\\n\")\n",
    "print(\"\\033[1m\" + \"After Feature Selection:\" + \"\\033[0m\")\n",
    "print(\"SR-HSE: \\t\", newtsaccuracy1)\n",
    "print(\"NR-AR: \\t\", newtsaccuracy2)\n",
    "print(\"SR-ARE: \\t\", newtsaccuracy3)\n",
    "print(\"NR-Aromatase: \\t\", newtsaccuracy4)\n",
    "print(\"NR-ER-LBD: \\t\", newtsaccuracy5)\n",
    "print(\"NR-AhR: \\t\", newtsaccuracy6)\n",
    "print(\"SR-MMP: \\t\", newtsaccuracy7)\n",
    "print(\"NR-ER: \\t\", newtsaccuracy8)\n",
    "print(\"NR-PPAR-gamma: \\t\", newtsaccuracy9)\n",
    "print(\"SR-p53: \\t\", newtsaccuracy10)\n",
    "print(\"SR-ATAD5: \\t\", newtsaccuracy11)\n",
    "print(\"NR-AR-LBD: \\t\", newtsaccuracy12)\n",
    "print(\"Average: \\t\", (newtsaccuracy1+newtsaccuracy2+newtsaccuracy3+newtsaccuracy4+newtsaccuracy5+newtsaccuracy6+newtsaccuracy7+newtsaccuracy8+newtsaccuracy9+newtsaccuracy10+newtsaccuracy11+newtsaccuracy12)/12)\n"
   ]
  },
  {
   "cell_type": "markdown",
   "metadata": {},
   "source": [
    "### Re-training Neural Network Model"
   ]
  },
  {
   "cell_type": "markdown",
   "metadata": {},
   "source": [
    "Using features from **RFC**"
   ]
  },
  {
   "cell_type": "code",
   "execution_count": 97,
   "metadata": {},
   "outputs": [
    {
     "name": "stdout",
     "output_type": "stream",
     "text": [
      "Executing op VarHandleOp in device /job:localhost/replica:0/task:0/device:GPU:0\n"
     ]
    }
   ],
   "source": [
    "newmodel = keras.Sequential(\n",
    "    [\n",
    "        layers.Embedding(8230,128,name=\"embedding_layer\", input_length= 100),\n",
    "        layers.Dense(1300, activation=\"relu\"),\n",
    "        #layers.Dense(3, activation=\"relu\"),\n",
    "        layers.Flatten(),\n",
    "        layers.Dropout(0.5),\n",
    "        layers.Dense(12,activation='sigmoid', name=\"Output_layer\"),\n",
    "    ]\n",
    ")"
   ]
  },
  {
   "cell_type": "code",
   "execution_count": 98,
   "metadata": {},
   "outputs": [
    {
     "name": "stdout",
     "output_type": "stream",
     "text": [
      "Model: \"sequential_1\"\n",
      "_________________________________________________________________\n",
      "Layer (type)                 Output Shape              Param #   \n",
      "=================================================================\n",
      "embedding_layer (Embedding)  (None, 100, 128)          1053440   \n",
      "_________________________________________________________________\n",
      "dense_1 (Dense)              (None, 100, 1300)         167700    \n",
      "_________________________________________________________________\n",
      "flatten_1 (Flatten)          (None, 130000)            0         \n",
      "_________________________________________________________________\n",
      "dropout_1 (Dropout)          (None, 130000)            0         \n",
      "_________________________________________________________________\n",
      "Output_layer (Dense)         (None, 12)                1560012   \n",
      "=================================================================\n",
      "Total params: 2,781,152\n",
      "Trainable params: 2,781,152\n",
      "Non-trainable params: 0\n",
      "_________________________________________________________________\n"
     ]
    }
   ],
   "source": [
    "newmodel.summary()"
   ]
  },
  {
   "cell_type": "code",
   "execution_count": 99,
   "metadata": {},
   "outputs": [],
   "source": [
    "#compile and fit the model\n",
    "newmodel.compile(optimizer='adam', loss='binary_crossentropy', metrics=['accuracy'])"
   ]
  },
  {
   "cell_type": "code",
   "execution_count": 101,
   "metadata": {},
   "outputs": [
    {
     "name": "stdout",
     "output_type": "stream",
     "text": [
      "Executing op RangeDataset in device /job:localhost/replica:0/task:0/device:CPU:0\n",
      "Executing op RepeatDataset in device /job:localhost/replica:0/task:0/device:CPU:0\n",
      "Executing op MapDataset in device /job:localhost/replica:0/task:0/device:CPU:0\n",
      "Executing op PrefetchDataset in device /job:localhost/replica:0/task:0/device:CPU:0\n",
      "Executing op FlatMapDataset in device /job:localhost/replica:0/task:0/device:CPU:0\n",
      "Executing op TensorDataset in device /job:localhost/replica:0/task:0/device:CPU:0\n",
      "Executing op RepeatDataset in device /job:localhost/replica:0/task:0/device:CPU:0\n",
      "Executing op ZipDataset in device /job:localhost/replica:0/task:0/device:CPU:0\n",
      "Executing op ParallelMapDataset in device /job:localhost/replica:0/task:0/device:CPU:0\n",
      "Executing op ModelDataset in device /job:localhost/replica:0/task:0/device:CPU:0\n",
      "Epoch 1/10\n",
      "Epoch 2/10\n",
      "Epoch 3/10\n",
      "Epoch 4/10\n",
      "Epoch 5/10\n",
      "Epoch 6/10\n",
      "Epoch 7/10\n",
      "Epoch 8/10\n",
      "Epoch 9/10\n",
      "Epoch 10/10\n"
     ]
    },
    {
     "data": {
      "text/plain": [
       "<tensorflow.python.keras.callbacks.History at 0x7f59042c5bb0>"
      ]
     },
     "execution_count": 101,
     "metadata": {},
     "output_type": "execute_result"
    }
   ],
   "source": [
    "newmodel.fit(X_feat_train, y_feat_train, epochs=10, batch_size=48, verbose=0.1)"
   ]
  },
  {
   "cell_type": "code",
   "execution_count": 102,
   "metadata": {},
   "outputs": [
    {
     "name": "stdout",
     "output_type": "stream",
     "text": [
      "Executing op RangeDataset in device /job:localhost/replica:0/task:0/device:CPU:0\n",
      "Executing op RepeatDataset in device /job:localhost/replica:0/task:0/device:CPU:0\n",
      "Executing op MapDataset in device /job:localhost/replica:0/task:0/device:CPU:0\n",
      "Executing op PrefetchDataset in device /job:localhost/replica:0/task:0/device:CPU:0\n",
      "Executing op FlatMapDataset in device /job:localhost/replica:0/task:0/device:CPU:0\n",
      "Executing op TensorDataset in device /job:localhost/replica:0/task:0/device:CPU:0\n",
      "Executing op RepeatDataset in device /job:localhost/replica:0/task:0/device:CPU:0\n",
      "Executing op ZipDataset in device /job:localhost/replica:0/task:0/device:CPU:0\n",
      "Executing op ParallelMapDataset in device /job:localhost/replica:0/task:0/device:CPU:0\n",
      "Executing op ModelDataset in device /job:localhost/replica:0/task:0/device:CPU:0\n",
      "Executing op AnonymousIteratorV2 in device /job:localhost/replica:0/task:0/device:CPU:0\n",
      "Executing op __inference_predict_function_2491861 in device /job:localhost/replica:0/task:0/device:GPU:0\n",
      "The accuracy for the training set is:  0.9371810449574727\n"
     ]
    }
   ],
   "source": [
    "#using model.predict to do thresholding\n",
    "newpred = newmodel.predict(X_feat_train)\n",
    "newpred= tf.dtypes.cast(newpred>= 0.5, tf.int64)\n",
    "\n",
    "#for training data\n",
    "count=0\n",
    "for i in range(len(y_feat_train)):\n",
    "    a= (y_feat_train.iloc[i]==newpred[i])\n",
    "    for j in range(len(a)):\n",
    "        if (y_feat_train.iloc[i][j]==newpred[i][j]):\n",
    "            count= count+1\n",
    "print(\"The accuracy for the training set is: \",(count)/(len(y_feat_train)*12))"
   ]
  },
  {
   "cell_type": "code",
   "execution_count": 105,
   "metadata": {},
   "outputs": [
    {
     "name": "stdout",
     "output_type": "stream",
     "text": [
      "Executing op RangeDataset in device /job:localhost/replica:0/task:0/device:CPU:0\n",
      "Executing op RepeatDataset in device /job:localhost/replica:0/task:0/device:CPU:0\n",
      "Executing op MapDataset in device /job:localhost/replica:0/task:0/device:CPU:0\n",
      "Executing op PrefetchDataset in device /job:localhost/replica:0/task:0/device:CPU:0\n",
      "Executing op FlatMapDataset in device /job:localhost/replica:0/task:0/device:CPU:0\n",
      "Executing op TensorDataset in device /job:localhost/replica:0/task:0/device:CPU:0\n",
      "Executing op RepeatDataset in device /job:localhost/replica:0/task:0/device:CPU:0\n",
      "Executing op ZipDataset in device /job:localhost/replica:0/task:0/device:CPU:0\n",
      "Executing op ParallelMapDataset in device /job:localhost/replica:0/task:0/device:CPU:0\n",
      "Executing op ModelDataset in device /job:localhost/replica:0/task:0/device:CPU:0\n",
      "The accuracy for test score is:  0.9374527588813303\n"
     ]
    }
   ],
   "source": [
    "#for test set\n",
    "newpredtest= newmodel.predict(X_feat_test)\n",
    "newpredtest= tf.dtypes.cast(newpredtest>= 0.5, tf.int64)\n",
    "count=0\n",
    "for i in range(len(y_feat_test)):\n",
    "    a= (y_feat_test.iloc[i]==newpredtest[i])\n",
    "    for j in range(len(a)):\n",
    "        if (y_feat_test.iloc[i][j]==newpredtest[i][j]):\n",
    "            count= count+1\n",
    "print(\"The accuracy for test score is: \", count/(len(y_feat_test)*12))"
   ]
  },
  {
   "cell_type": "code",
   "execution_count": 106,
   "metadata": {},
   "outputs": [
    {
     "name": "stdout",
     "output_type": "stream",
     "text": [
      "Executing op RangeDataset in device /job:localhost/replica:0/task:0/device:CPU:0\n",
      "Executing op RepeatDataset in device /job:localhost/replica:0/task:0/device:CPU:0\n",
      "Executing op MapDataset in device /job:localhost/replica:0/task:0/device:CPU:0\n",
      "Executing op PrefetchDataset in device /job:localhost/replica:0/task:0/device:CPU:0\n",
      "Executing op FlatMapDataset in device /job:localhost/replica:0/task:0/device:CPU:0\n",
      "Executing op TensorDataset in device /job:localhost/replica:0/task:0/device:CPU:0\n",
      "Executing op RepeatDataset in device /job:localhost/replica:0/task:0/device:CPU:0\n",
      "Executing op ZipDataset in device /job:localhost/replica:0/task:0/device:CPU:0\n",
      "Executing op ParallelMapDataset in device /job:localhost/replica:0/task:0/device:CPU:0\n",
      "Executing op ModelDataset in device /job:localhost/replica:0/task:0/device:CPU:0\n",
      "Executing op __inference_test_function_3950634 in device /job:localhost/replica:0/task:0/device:GPU:0\n",
      "28/28 [==============================] - 0s 6ms/step - loss: 0.1955 - accuracy: 0.1091\n"
     ]
    },
    {
     "data": {
      "text/plain": [
       "0.19548901915550232"
      ]
     },
     "execution_count": 106,
     "metadata": {},
     "output_type": "execute_result"
    }
   ],
   "source": [
    "loss, acc= newmodel.evaluate(X_feat_test, y_feat_test, batch_size=128)\n",
    "loss"
   ]
  },
  {
   "cell_type": "markdown",
   "metadata": {},
   "source": [
    "Using features from **RFE**"
   ]
  },
  {
   "cell_type": "code",
   "execution_count": 107,
   "metadata": {},
   "outputs": [
    {
     "name": "stdout",
     "output_type": "stream",
     "text": [
      "Executing op RangeDataset in device /job:localhost/replica:0/task:0/device:CPU:0\n",
      "Executing op RepeatDataset in device /job:localhost/replica:0/task:0/device:CPU:0\n",
      "Executing op MapDataset in device /job:localhost/replica:0/task:0/device:CPU:0\n",
      "Executing op PrefetchDataset in device /job:localhost/replica:0/task:0/device:CPU:0\n",
      "Executing op FlatMapDataset in device /job:localhost/replica:0/task:0/device:CPU:0\n",
      "Executing op TensorDataset in device /job:localhost/replica:0/task:0/device:CPU:0\n",
      "Executing op RepeatDataset in device /job:localhost/replica:0/task:0/device:CPU:0\n",
      "Executing op ZipDataset in device /job:localhost/replica:0/task:0/device:CPU:0\n",
      "Executing op ParallelMapDataset in device /job:localhost/replica:0/task:0/device:CPU:0\n",
      "Executing op ModelDataset in device /job:localhost/replica:0/task:0/device:CPU:0\n",
      "Epoch 1/10\n",
      "Epoch 2/10\n",
      "Epoch 3/10\n",
      "Epoch 4/10\n",
      "Epoch 5/10\n",
      "Epoch 6/10\n",
      "Epoch 7/10\n",
      "Epoch 8/10\n",
      "Epoch 9/10\n",
      "Epoch 10/10\n"
     ]
    },
    {
     "data": {
      "text/plain": [
       "<tensorflow.python.keras.callbacks.History at 0x7f59041b9340>"
      ]
     },
     "execution_count": 107,
     "metadata": {},
     "output_type": "execute_result"
    }
   ],
   "source": [
    "newmodel.fit(Xt_rfe_train, yt_rfe_train, epochs=10, batch_size=48, verbose=0.1)"
   ]
  },
  {
   "cell_type": "code",
   "execution_count": 108,
   "metadata": {},
   "outputs": [
    {
     "name": "stdout",
     "output_type": "stream",
     "text": [
      "Executing op RangeDataset in device /job:localhost/replica:0/task:0/device:CPU:0\n",
      "Executing op RepeatDataset in device /job:localhost/replica:0/task:0/device:CPU:0\n",
      "Executing op MapDataset in device /job:localhost/replica:0/task:0/device:CPU:0\n",
      "Executing op PrefetchDataset in device /job:localhost/replica:0/task:0/device:CPU:0\n",
      "Executing op FlatMapDataset in device /job:localhost/replica:0/task:0/device:CPU:0\n",
      "Executing op TensorDataset in device /job:localhost/replica:0/task:0/device:CPU:0\n",
      "Executing op RepeatDataset in device /job:localhost/replica:0/task:0/device:CPU:0\n",
      "Executing op ZipDataset in device /job:localhost/replica:0/task:0/device:CPU:0\n",
      "Executing op ParallelMapDataset in device /job:localhost/replica:0/task:0/device:CPU:0\n",
      "Executing op ModelDataset in device /job:localhost/replica:0/task:0/device:CPU:0\n",
      "The accuracy for the training set is:  0.9369582827055488\n"
     ]
    }
   ],
   "source": [
    "#using model.predict to do thresholding\n",
    "newpred = newmodel.predict(Xt_rfe_train)\n",
    "newpred= tf.dtypes.cast(newpred>= 0.5, tf.int64)\n",
    "\n",
    "#for training data\n",
    "count=0\n",
    "for i in range(len(yt_rfe_train)):\n",
    "    a= (yt_rfe_train.iloc[i]==newpred[i])\n",
    "    for j in range(len(a)):\n",
    "        if (yt_rfe_train.iloc[i][j]==newpred[i][j]):\n",
    "            count= count+1\n",
    "print(\"The accuracy for the training set is: \",(count)/(len(yt_rfe_train)*12))"
   ]
  },
  {
   "cell_type": "code",
   "execution_count": 109,
   "metadata": {},
   "outputs": [
    {
     "name": "stdout",
     "output_type": "stream",
     "text": [
      "Executing op RangeDataset in device /job:localhost/replica:0/task:0/device:CPU:0\n",
      "Executing op RepeatDataset in device /job:localhost/replica:0/task:0/device:CPU:0\n",
      "Executing op MapDataset in device /job:localhost/replica:0/task:0/device:CPU:0\n",
      "Executing op PrefetchDataset in device /job:localhost/replica:0/task:0/device:CPU:0\n",
      "Executing op FlatMapDataset in device /job:localhost/replica:0/task:0/device:CPU:0\n",
      "Executing op TensorDataset in device /job:localhost/replica:0/task:0/device:CPU:0\n",
      "Executing op RepeatDataset in device /job:localhost/replica:0/task:0/device:CPU:0\n",
      "Executing op ZipDataset in device /job:localhost/replica:0/task:0/device:CPU:0\n",
      "Executing op ParallelMapDataset in device /job:localhost/replica:0/task:0/device:CPU:0\n",
      "Executing op ModelDataset in device /job:localhost/replica:0/task:0/device:CPU:0\n",
      "The accuracy for test score is:  0.9375\n"
     ]
    }
   ],
   "source": [
    "#for test set\n",
    "newpredtest= newmodel.predict(Xt_rfe_test)\n",
    "newpredtest= tf.dtypes.cast(newpredtest>= 0.5, tf.int64)\n",
    "count=0\n",
    "for i in range(len(yt_rfe_test)):\n",
    "    a= (yt_rfe_test.iloc[i]==newpredtest[i])\n",
    "    for j in range(len(a)):\n",
    "        if (yt_rfe_test.iloc[i][j]==newpredtest[i][j]):\n",
    "            count= count+1\n",
    "print(\"The accuracy for test score is: \", count/(len(yt_rfe_test)*12))"
   ]
  },
  {
   "cell_type": "code",
   "execution_count": 110,
   "metadata": {},
   "outputs": [
    {
     "name": "stdout",
     "output_type": "stream",
     "text": [
      "Executing op RangeDataset in device /job:localhost/replica:0/task:0/device:CPU:0\n",
      "Executing op RepeatDataset in device /job:localhost/replica:0/task:0/device:CPU:0\n",
      "Executing op MapDataset in device /job:localhost/replica:0/task:0/device:CPU:0\n",
      "Executing op PrefetchDataset in device /job:localhost/replica:0/task:0/device:CPU:0\n",
      "Executing op FlatMapDataset in device /job:localhost/replica:0/task:0/device:CPU:0\n",
      "Executing op TensorDataset in device /job:localhost/replica:0/task:0/device:CPU:0\n",
      "Executing op RepeatDataset in device /job:localhost/replica:0/task:0/device:CPU:0\n",
      "Executing op ZipDataset in device /job:localhost/replica:0/task:0/device:CPU:0\n",
      "Executing op ParallelMapDataset in device /job:localhost/replica:0/task:0/device:CPU:0\n",
      "Executing op ModelDataset in device /job:localhost/replica:0/task:0/device:CPU:0\n",
      "28/28 [==============================] - 0s 6ms/step - loss: 0.1922 - accuracy: 0.1001\n"
     ]
    },
    {
     "data": {
      "text/plain": [
       "0.1922113299369812"
      ]
     },
     "execution_count": 110,
     "metadata": {},
     "output_type": "execute_result"
    }
   ],
   "source": [
    "loss, acc= newmodel.evaluate(Xt_rfe_test, yt_rfe_test, batch_size=128)\n",
    "loss"
   ]
  },
  {
   "cell_type": "code",
   "execution_count": null,
   "metadata": {},
   "outputs": [],
   "source": []
  },
  {
   "cell_type": "markdown",
   "metadata": {},
   "source": [
    "---"
   ]
  }
 ],
 "metadata": {
  "kernelspec": {
   "display_name": "python3.8",
   "language": "python",
   "name": "python3.8"
  },
  "language_info": {
   "codemirror_mode": {
    "name": "ipython",
    "version": 3
   },
   "file_extension": ".py",
   "mimetype": "text/x-python",
   "name": "python",
   "nbconvert_exporter": "python",
   "pygments_lexer": "ipython3",
   "version": "3.8.3"
  }
 },
 "nbformat": 4,
 "nbformat_minor": 4
}
